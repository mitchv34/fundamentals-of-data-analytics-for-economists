{
 "cells": [
  {
   "cell_type": "markdown",
   "id": "bc77bb9e",
   "metadata": {
    "slideshow": {
     "slide_type": "slide"
    }
   },
   "source": [
    "## Friday 9\n",
    "\n",
    "files needed = sleep75.dta, wage1.dta\n",
    "\n",
    "This week we are working on\n",
    "\n",
    "1. Exporting figures and tables\n",
    "2. OLS"
   ]
  },
  {
   "cell_type": "code",
   "execution_count": 1,
   "id": "4fd84960",
   "metadata": {
    "slideshow": {
     "slide_type": "slide"
    }
   },
   "outputs": [],
   "source": [
    "import pandas as pd\n",
    "import matplotlib.pyplot as plt"
   ]
  },
  {
   "cell_type": "markdown",
   "id": "7cefce35",
   "metadata": {
    "slideshow": {
     "slide_type": "slide"
    }
   },
   "source": [
    "## Linear regression\n",
    "\n",
    "This notebook introduces us to the statsmodels package [(docs)](https://devdocs.io/statsmodels/), which provides functions for formulating and estimating statistical models. This notebook will not address the models, per se, but will focus on how to put econometrics to work in python.\n",
    "\n",
    "Many of you have used STATA before. STATA is a great package for econometrics. Python can do most of what STATA can do, but STATA will have more specialized routines available. As python's popularity grows the kinds of models you can estimate in it grows, too.    \n",
    "\n",
    "If STATA is your thing, this [page](http://rlhick.people.wm.edu/posts/comparing-stata-and-ipython-commands-for-ols-models.html) on Rob Hicks' website is a nice STATA-to-python concordance."
   ]
  },
  {
   "cell_type": "code",
   "execution_count": 2,
   "id": "0cb0f508",
   "metadata": {
    "slideshow": {
     "slide_type": "slide"
    }
   },
   "outputs": [],
   "source": [
    "import pandas as pd                    # for data handling\n",
    "import numpy as np                     # for numerical methods and data structures\n",
    "import matplotlib.pyplot as plt        # for plotting\n",
    "\n",
    "\n",
    "# The new package\n",
    "import statsmodels.formula.api as smf  # provides a way to directly spec models from formulas"
   ]
  },
  {
   "cell_type": "markdown",
   "id": "e0fa8b44",
   "metadata": {
    "slideshow": {
     "slide_type": "slide"
    }
   },
   "source": [
    "### Reading Stata data files\n",
    "\n",
    "Jeff Wooldridge's econometrics textbooks are academic staples. Our plan today is to work through some of the problems in the Wooldridge textbook as a way to introduce regression in python. \n",
    "\n",
    "On the plus side, the data that correspond to the Wooldridge problems are available to download and they are **ALREADY CLEANED.** \\[I contemplated adding some junk to the files to make it more interesting...\\]\n",
    "\n",
    "On the minus side, the files are in STATA's .dta format. \n",
    "\n",
    "Lucky for us, pandas has a method that [reads stata files](http://pandas.pydata.org/pandas-docs/stable/generated/pandas.read_stata.html). It also has methods for SQL, SAS, JSON,..."
   ]
  },
  {
   "cell_type": "code",
   "execution_count": 3,
   "id": "3fec8741",
   "metadata": {
    "slideshow": {
     "slide_type": "slide"
    }
   },
   "outputs": [
    {
     "data": {
      "text/html": [
       "<div>\n",
       "<style scoped>\n",
       "    .dataframe tbody tr th:only-of-type {\n",
       "        vertical-align: middle;\n",
       "    }\n",
       "\n",
       "    .dataframe tbody tr th {\n",
       "        vertical-align: top;\n",
       "    }\n",
       "\n",
       "    .dataframe thead th {\n",
       "        text-align: right;\n",
       "    }\n",
       "</style>\n",
       "<table border=\"1\" class=\"dataframe\">\n",
       "  <thead>\n",
       "    <tr style=\"text-align: right;\">\n",
       "      <th></th>\n",
       "      <th>age</th>\n",
       "      <th>black</th>\n",
       "      <th>case</th>\n",
       "      <th>clerical</th>\n",
       "      <th>construc</th>\n",
       "      <th>educ</th>\n",
       "      <th>earns74</th>\n",
       "      <th>gdhlth</th>\n",
       "      <th>inlf</th>\n",
       "      <th>leis1</th>\n",
       "      <th>...</th>\n",
       "      <th>spwrk75</th>\n",
       "      <th>totwrk</th>\n",
       "      <th>union</th>\n",
       "      <th>worknrm</th>\n",
       "      <th>workscnd</th>\n",
       "      <th>exper</th>\n",
       "      <th>yngkid</th>\n",
       "      <th>yrsmarr</th>\n",
       "      <th>hrwage</th>\n",
       "      <th>agesq</th>\n",
       "    </tr>\n",
       "  </thead>\n",
       "  <tbody>\n",
       "    <tr>\n",
       "      <th>0</th>\n",
       "      <td>32.0</td>\n",
       "      <td>0.0</td>\n",
       "      <td>1.0</td>\n",
       "      <td>0.0</td>\n",
       "      <td>0.0</td>\n",
       "      <td>12.0</td>\n",
       "      <td>0.0</td>\n",
       "      <td>0.0</td>\n",
       "      <td>1.0</td>\n",
       "      <td>3529.0</td>\n",
       "      <td>...</td>\n",
       "      <td>0.0</td>\n",
       "      <td>3438.0</td>\n",
       "      <td>0.0</td>\n",
       "      <td>3438.0</td>\n",
       "      <td>0.0</td>\n",
       "      <td>14.0</td>\n",
       "      <td>0.0</td>\n",
       "      <td>13.0</td>\n",
       "      <td>7.070004</td>\n",
       "      <td>1024.0</td>\n",
       "    </tr>\n",
       "    <tr>\n",
       "      <th>1</th>\n",
       "      <td>31.0</td>\n",
       "      <td>0.0</td>\n",
       "      <td>2.0</td>\n",
       "      <td>0.0</td>\n",
       "      <td>0.0</td>\n",
       "      <td>14.0</td>\n",
       "      <td>9500.0</td>\n",
       "      <td>1.0</td>\n",
       "      <td>1.0</td>\n",
       "      <td>2140.0</td>\n",
       "      <td>...</td>\n",
       "      <td>0.0</td>\n",
       "      <td>5020.0</td>\n",
       "      <td>0.0</td>\n",
       "      <td>5020.0</td>\n",
       "      <td>0.0</td>\n",
       "      <td>11.0</td>\n",
       "      <td>0.0</td>\n",
       "      <td>0.0</td>\n",
       "      <td>1.429999</td>\n",
       "      <td>961.0</td>\n",
       "    </tr>\n",
       "    <tr>\n",
       "      <th>2</th>\n",
       "      <td>44.0</td>\n",
       "      <td>0.0</td>\n",
       "      <td>3.0</td>\n",
       "      <td>0.0</td>\n",
       "      <td>0.0</td>\n",
       "      <td>17.0</td>\n",
       "      <td>42500.0</td>\n",
       "      <td>1.0</td>\n",
       "      <td>1.0</td>\n",
       "      <td>4595.0</td>\n",
       "      <td>...</td>\n",
       "      <td>1.0</td>\n",
       "      <td>2815.0</td>\n",
       "      <td>0.0</td>\n",
       "      <td>2815.0</td>\n",
       "      <td>0.0</td>\n",
       "      <td>21.0</td>\n",
       "      <td>0.0</td>\n",
       "      <td>0.0</td>\n",
       "      <td>20.530001</td>\n",
       "      <td>1936.0</td>\n",
       "    </tr>\n",
       "    <tr>\n",
       "      <th>3</th>\n",
       "      <td>30.0</td>\n",
       "      <td>0.0</td>\n",
       "      <td>4.0</td>\n",
       "      <td>0.0</td>\n",
       "      <td>0.0</td>\n",
       "      <td>12.0</td>\n",
       "      <td>42500.0</td>\n",
       "      <td>1.0</td>\n",
       "      <td>1.0</td>\n",
       "      <td>3211.0</td>\n",
       "      <td>...</td>\n",
       "      <td>1.0</td>\n",
       "      <td>3786.0</td>\n",
       "      <td>0.0</td>\n",
       "      <td>3786.0</td>\n",
       "      <td>0.0</td>\n",
       "      <td>12.0</td>\n",
       "      <td>0.0</td>\n",
       "      <td>12.0</td>\n",
       "      <td>9.619998</td>\n",
       "      <td>900.0</td>\n",
       "    </tr>\n",
       "    <tr>\n",
       "      <th>4</th>\n",
       "      <td>64.0</td>\n",
       "      <td>0.0</td>\n",
       "      <td>5.0</td>\n",
       "      <td>0.0</td>\n",
       "      <td>0.0</td>\n",
       "      <td>14.0</td>\n",
       "      <td>2500.0</td>\n",
       "      <td>1.0</td>\n",
       "      <td>1.0</td>\n",
       "      <td>4052.0</td>\n",
       "      <td>...</td>\n",
       "      <td>1.0</td>\n",
       "      <td>2580.0</td>\n",
       "      <td>0.0</td>\n",
       "      <td>2580.0</td>\n",
       "      <td>0.0</td>\n",
       "      <td>44.0</td>\n",
       "      <td>0.0</td>\n",
       "      <td>33.0</td>\n",
       "      <td>2.750000</td>\n",
       "      <td>4096.0</td>\n",
       "    </tr>\n",
       "  </tbody>\n",
       "</table>\n",
       "<p>5 rows × 34 columns</p>\n",
       "</div>"
      ],
      "text/plain": [
       "    age  black  case  clerical  construc  educ  earns74  gdhlth  inlf   leis1  \\\n",
       "0  32.0    0.0   1.0       0.0       0.0  12.0      0.0     0.0   1.0  3529.0   \n",
       "1  31.0    0.0   2.0       0.0       0.0  14.0   9500.0     1.0   1.0  2140.0   \n",
       "2  44.0    0.0   3.0       0.0       0.0  17.0  42500.0     1.0   1.0  4595.0   \n",
       "3  30.0    0.0   4.0       0.0       0.0  12.0  42500.0     1.0   1.0  3211.0   \n",
       "4  64.0    0.0   5.0       0.0       0.0  14.0   2500.0     1.0   1.0  4052.0   \n",
       "\n",
       "   ...  spwrk75  totwrk  union  worknrm  workscnd  exper  yngkid  yrsmarr  \\\n",
       "0  ...      0.0  3438.0    0.0   3438.0       0.0   14.0     0.0     13.0   \n",
       "1  ...      0.0  5020.0    0.0   5020.0       0.0   11.0     0.0      0.0   \n",
       "2  ...      1.0  2815.0    0.0   2815.0       0.0   21.0     0.0      0.0   \n",
       "3  ...      1.0  3786.0    0.0   3786.0       0.0   12.0     0.0     12.0   \n",
       "4  ...      1.0  2580.0    0.0   2580.0       0.0   44.0     0.0     33.0   \n",
       "\n",
       "      hrwage   agesq  \n",
       "0   7.070004  1024.0  \n",
       "1   1.429999   961.0  \n",
       "2  20.530001  1936.0  \n",
       "3   9.619998   900.0  \n",
       "4   2.750000  4096.0  \n",
       "\n",
       "[5 rows x 34 columns]"
      ]
     },
     "execution_count": 3,
     "metadata": {},
     "output_type": "execute_result"
    }
   ],
   "source": [
    "# Use pandas read_stata method to get the stata formatted data file into a DataFrame.\n",
    "sleep = pd.read_stata('sleep75.dta')\n",
    "\n",
    "# Take a look...so clean!\n",
    "sleep.head()"
   ]
  },
  {
   "cell_type": "code",
   "execution_count": 4,
   "id": "4a887b04",
   "metadata": {
    "slideshow": {
     "slide_type": "slide"
    }
   },
   "outputs": [
    {
     "name": "stdout",
     "output_type": "stream",
     "text": [
      "<class 'pandas.core.frame.DataFrame'>\n",
      "Int64Index: 706 entries, 0 to 705\n",
      "Data columns (total 34 columns):\n",
      " #   Column    Non-Null Count  Dtype  \n",
      "---  ------    --------------  -----  \n",
      " 0   age       706 non-null    float32\n",
      " 1   black     706 non-null    float32\n",
      " 2   case      706 non-null    float32\n",
      " 3   clerical  706 non-null    float32\n",
      " 4   construc  706 non-null    float32\n",
      " 5   educ      706 non-null    float32\n",
      " 6   earns74   706 non-null    float32\n",
      " 7   gdhlth    706 non-null    float32\n",
      " 8   inlf      706 non-null    float32\n",
      " 9   leis1     706 non-null    float32\n",
      " 10  leis2     706 non-null    float32\n",
      " 11  leis3     706 non-null    float32\n",
      " 12  smsa      706 non-null    float32\n",
      " 13  lhrwage   532 non-null    float32\n",
      " 14  lothinc   706 non-null    float32\n",
      " 15  male      706 non-null    float32\n",
      " 16  marr      706 non-null    float32\n",
      " 17  prot      706 non-null    float32\n",
      " 18  rlxall    706 non-null    float32\n",
      " 19  selfe     706 non-null    float32\n",
      " 20  sleep     706 non-null    float32\n",
      " 21  slpnaps   706 non-null    float32\n",
      " 22  south     706 non-null    float32\n",
      " 23  spsepay   706 non-null    float32\n",
      " 24  spwrk75   706 non-null    float32\n",
      " 25  totwrk    706 non-null    float32\n",
      " 26  union     706 non-null    float32\n",
      " 27  worknrm   706 non-null    float32\n",
      " 28  workscnd  706 non-null    float32\n",
      " 29  exper     706 non-null    float32\n",
      " 30  yngkid    706 non-null    float32\n",
      " 31  yrsmarr   706 non-null    float32\n",
      " 32  hrwage    532 non-null    float32\n",
      " 33  agesq     706 non-null    float32\n",
      "dtypes: float32(34)\n",
      "memory usage: 99.3 KB\n"
     ]
    }
   ],
   "source": [
    "# Another method for checking out a DataFrame\n",
    "sleep.info()"
   ]
  },
  {
   "cell_type": "markdown",
   "id": "7a63be4a",
   "metadata": {
    "slideshow": {
     "slide_type": "slide"
    }
   },
   "source": [
    "### Specifying and estimating models with the formula.api\n",
    "\n",
    "Consider  the regression model\n",
    "\n",
    "$$y = \\beta_0 + \\beta_1x_1 + \\beta_2x_2 + \\varepsilon,$$\n",
    "\n",
    "where $y$,  $x_1$, and $x_2$ are variables, $\\beta_0, \\beta_1$ and $\\beta_2$ are the parameters to estimate, and $\\epsilon$ is the error term. \n",
    "\n",
    "\n",
    "The `statsmodels` package provides us with a formulaic syntax for defining models that uses strings. The basic syntax is \n",
    "```\n",
    "y ~ x1 + x2\n",
    "```\n",
    "which describes the model above. Notice that I did not specify the constant. Statsmodels takes care of that automatically.\n",
    "\n",
    "\n",
    "The work flow is:\n",
    "1. Specify the regression: sort out the dependent and independent variables\n",
    "2. Create the model with statsmodel\n",
    "3. Fit the model and obtain results\n",
    "\n",
    "To do this, we use the `statsmodels.formula.api` methods, which we imported as `smf`. "
   ]
  },
  {
   "cell_type": "markdown",
   "id": "544352d6",
   "metadata": {
    "slideshow": {
     "slide_type": "slide"
    }
   },
   "source": [
    "## 1. Specify the regression\n",
    "\n",
    "How do hours of sleep vary with working? Do we trade off sleep for work? We control for education and age.\n",
    "\n",
    "$$ sleep = \\beta_0 + \\beta_1 totwrk + \\beta_2 educ + \\beta_3 age + \\epsilon. $$\n",
    "\n",
    "\\[This is in problem 3, chapter 3 in Wooldridge.\\]"
   ]
  },
  {
   "cell_type": "markdown",
   "id": "0689b4a2",
   "metadata": {
    "slideshow": {
     "slide_type": "slide"
    }
   },
   "source": [
    "## 2. Create the model\n",
    "\n",
    "Using the statsmodel syntax, we have \n",
    "\n",
    "```python\n",
    "sleep ~ totwrk + educ + age\n",
    "```\n",
    "\n",
    "Remember, the constant is automatically added. \n",
    "\n",
    "We use the `.ols()` method of statsmodels. This is the *ordinary least squares* model. "
   ]
  },
  {
   "cell_type": "code",
   "execution_count": 5,
   "id": "81c1ac83",
   "metadata": {
    "slideshow": {
     "slide_type": "fragment"
    }
   },
   "outputs": [
    {
     "data": {
      "text/plain": [
       "statsmodels.regression.linear_model.OLS"
      ]
     },
     "execution_count": 5,
     "metadata": {},
     "output_type": "execute_result"
    }
   ],
   "source": [
    "sleep_model = smf.ols('sleep ~ totwrk + educ + age', data=sleep)\n",
    "type(sleep_model)"
   ]
  },
  {
   "cell_type": "markdown",
   "id": "0234d53a",
   "metadata": {
    "slideshow": {
     "slide_type": "slide"
    }
   },
   "source": [
    "The `model.OLS` object contains information about the regression model. Things like:\n",
    "\n",
    "* sleep_model.exog_names\n",
    "* sleep_model.endog_names\n",
    "* sleep_model.nobs\n",
    "\n",
    "Check the documentation or try `sleep_model.` and then `TAB`. "
   ]
  },
  {
   "cell_type": "code",
   "execution_count": 8,
   "id": "470e0375",
   "metadata": {
    "slideshow": {
     "slide_type": "fragment"
    }
   },
   "outputs": [
    {
     "data": {
      "text/plain": [
       "'sleep'"
      ]
     },
     "execution_count": 8,
     "metadata": {},
     "output_type": "execute_result"
    }
   ],
   "source": [
    "# Names of the exogenous (the right-hand side) variables in the model. \n",
    "sleep_model.endog_names"
   ]
  },
  {
   "cell_type": "markdown",
   "id": "6e32e721",
   "metadata": {
    "slideshow": {
     "slide_type": "slide"
    }
   },
   "source": [
    "## 3. Estimate the model\n",
    "\n",
    "Step \\#2 set up the model, but did not estimate the coefficients. To estimate the model, we use the `.fit()` method of the OLS model object. "
   ]
  },
  {
   "cell_type": "code",
   "execution_count": 9,
   "id": "602b625a",
   "metadata": {
    "slideshow": {
     "slide_type": "fragment"
    }
   },
   "outputs": [
    {
     "data": {
      "text/plain": [
       "statsmodels.regression.linear_model.RegressionResultsWrapper"
      ]
     },
     "execution_count": 9,
     "metadata": {},
     "output_type": "execute_result"
    }
   ],
   "source": [
    "results = sleep_model.fit()\n",
    "type(results)"
   ]
  },
  {
   "cell_type": "markdown",
   "id": "33f7366b",
   "metadata": {
    "slideshow": {
     "slide_type": "slide"
    }
   },
   "source": [
    "Another object! This time, a `RegressionResultsWrapper`. This object hold all the, well, results. Try `results.` and `TAB` again to see what lives in there."
   ]
  },
  {
   "cell_type": "code",
   "execution_count": 10,
   "id": "69a8dd56",
   "metadata": {
    "scrolled": true,
    "slideshow": {
     "slide_type": "slide"
    }
   },
   "outputs": [
    {
     "name": "stdout",
     "output_type": "stream",
     "text": [
      "                            OLS Regression Results                            \n",
      "==============================================================================\n",
      "Dep. Variable:                  sleep   R-squared:                       0.113\n",
      "Model:                            OLS   Adj. R-squared:                  0.110\n",
      "Method:                 Least Squares   F-statistic:                     29.92\n",
      "Date:                Fri, 10 Nov 2023   Prob (F-statistic):           3.28e-18\n",
      "Time:                        10:22:16   Log-Likelihood:                -5263.1\n",
      "No. Observations:                 706   AIC:                         1.053e+04\n",
      "Df Residuals:                     702   BIC:                         1.055e+04\n",
      "Df Model:                           3                                         \n",
      "Covariance Type:            nonrobust                                         \n",
      "==============================================================================\n",
      "                 coef    std err          t      P>|t|      [0.025      0.975]\n",
      "------------------------------------------------------------------------------\n",
      "Intercept   3638.2453    112.275     32.405      0.000    3417.810    3858.681\n",
      "totwrk        -0.1484      0.017     -8.888      0.000      -0.181      -0.116\n",
      "educ         -11.1338      5.885     -1.892      0.059     -22.687       0.420\n",
      "age            2.1999      1.446      1.522      0.129      -0.639       5.038\n",
      "==============================================================================\n",
      "Omnibus:                       68.731   Durbin-Watson:                   1.943\n",
      "Prob(Omnibus):                  0.000   Jarque-Bera (JB):              185.551\n",
      "Skew:                          -0.496   Prob(JB):                     5.11e-41\n",
      "Kurtosis:                       5.308   Cond. No.                     1.66e+04\n",
      "==============================================================================\n",
      "\n",
      "Notes:\n",
      "[1] Standard Errors assume that the covariance matrix of the errors is correctly specified.\n",
      "[2] The condition number is large, 1.66e+04. This might indicate that there are\n",
      "strong multicollinearity or other numerical problems.\n"
     ]
    }
   ],
   "source": [
    "print(results.summary())"
   ]
  },
  {
   "cell_type": "markdown",
   "id": "3e4bb5b6",
   "metadata": {
    "slideshow": {
     "slide_type": "slide"
    }
   },
   "source": [
    "Side note: Remember that in regression, we're essentially just solving a system of equations a la $Ax = B$. So, I'll also show that our results can be replicated using NumPy and some linear algebra.\n",
    "\n",
    "If you imagine $\\beta$ to be a vector $(\\beta_0, \\beta_1, \\beta_2, \\beta_3)^T$, then our data just becomes a matrix:\n",
    "\n",
    "$$X = \\begin{bmatrix} 1 & totwrk_0 & educ_0 & age_0 \\\\ \\vdots & \\vdots & \\vdots & \\vdots \\\\ 1 & totwrk_n & educ_n & age_n \\end{bmatrix}$$\n",
    "\n",
    "So then our equation just looks like this:\n",
    "\n",
    "\\begin{align}\n",
    "y &= X\\beta \\\\\n",
    "X'y &= X'X\\beta \\\\\n",
    "(X'X)^{-1} X'y &= (X'X)^{-1} X'X \\beta \\\\\n",
    "(X'X)^{-1} X'y &= \\beta\n",
    "\\end{align}"
   ]
  },
  {
   "cell_type": "code",
   "execution_count": 9,
   "id": "72a4f6de",
   "metadata": {
    "slideshow": {
     "slide_type": "slide"
    }
   },
   "outputs": [],
   "source": [
    "# this just prevents the output from being scientific notation\n",
    "np.set_printoptions(suppress=True)"
   ]
  },
  {
   "cell_type": "code",
   "execution_count": 10,
   "id": "3ddaa487",
   "metadata": {
    "slideshow": {
     "slide_type": "fragment"
    }
   },
   "outputs": [
    {
     "data": {
      "text/plain": [
       "(706, 34)"
      ]
     },
     "execution_count": 10,
     "metadata": {},
     "output_type": "execute_result"
    }
   ],
   "source": [
    "sleep.shape"
   ]
  },
  {
   "cell_type": "code",
   "execution_count": 11,
   "id": "7efd20e8",
   "metadata": {
    "slideshow": {
     "slide_type": "slide"
    }
   },
   "outputs": [
    {
     "data": {
      "text/plain": [
       "array([[   1., 3438.,   12.,   32.],\n",
       "       [   1., 5020.,   14.,   31.],\n",
       "       [   1., 2815.,   17.,   44.],\n",
       "       ...,\n",
       "       [   1., 1851.,   12.,   37.],\n",
       "       [   1., 1961.,   17.,   54.],\n",
       "       [   1., 2363.,   16.,   30.]])"
      ]
     },
     "execution_count": 11,
     "metadata": {},
     "output_type": "execute_result"
    }
   ],
   "source": [
    "# create the column vector (our dependent variable)\n",
    "sleepy = sleep['sleep'].to_numpy()\n",
    "\n",
    "sleepmat = np.ones((sleep.shape[0],4)) # create a matrix of ones to be our constant\n",
    "sleepmat[:,1:] = sleep[['totwrk','educ','age']].to_numpy() # replace the second thru fourth columns with data\n",
    "sleepmat"
   ]
  },
  {
   "cell_type": "code",
   "execution_count": 12,
   "id": "63ea87f5",
   "metadata": {
    "slideshow": {
     "slide_type": "slide"
    }
   },
   "outputs": [
    {
     "data": {
      "text/plain": [
       "array([3638.24531173,   -0.14837344,  -11.13381311,    2.19988481])"
      ]
     },
     "execution_count": 12,
     "metadata": {},
     "output_type": "execute_result"
    }
   ],
   "source": [
    "# the @ symbol is NumPy shorthand for matrix multiplication\n",
    "# Here, we're solving Ax = B as above\n",
    "sleep_b = np.linalg.inv(sleepmat.T @ sleepmat) @ sleepmat.T @ sleepy\n",
    "sleep_b"
   ]
  },
  {
   "cell_type": "code",
   "execution_count": 13,
   "id": "e34a7721",
   "metadata": {
    "slideshow": {
     "slide_type": "slide"
    }
   },
   "outputs": [
    {
     "name": "stderr",
     "output_type": "stream",
     "text": [
      "/var/folders/59/h6mpwd8s71n4m11hd0jkp45h0000gn/T/ipykernel_18469/3600491051.py:2: FutureWarning: `rcond` parameter will change to the default of machine precision times ``max(M, N)`` where M and N are the input matrix dimensions.\n",
      "To use the future default and silence this warning we advise to pass `rcond=None`, to keep using the old, explicitly pass `rcond=-1`.\n",
      "  sleep_b_solve = np.linalg.lstsq(sleepmat, sleepy)\n"
     ]
    },
    {
     "data": {
      "text/plain": [
       "(array([3638.24531173,   -0.14837344,  -11.13381311,    2.19988481]),\n",
       " array([1.23455057e+08]),\n",
       " 4,\n",
       " array([61770.92210044,   537.82689176,   115.57755235,     3.73170653]))"
      ]
     },
     "execution_count": 13,
     "metadata": {},
     "output_type": "execute_result"
    }
   ],
   "source": [
    "# We can also use the lstsq command in NumPy to do this a little quicker\n",
    "sleep_b_solve = np.linalg.lstsq(sleepmat, sleepy)\n",
    "sleep_b_solve # lstsq returns (1) coefficients, (2) SSR, (3) matrix rank, and (4) singular values (from SVD of A)"
   ]
  },
  {
   "cell_type": "code",
   "execution_count": 14,
   "id": "fd2b2356",
   "metadata": {
    "scrolled": true,
    "slideshow": {
     "slide_type": "slide"
    }
   },
   "outputs": [
    {
     "name": "stdout",
     "output_type": "stream",
     "text": [
      "                            OLS Regression Results                            \n",
      "==============================================================================\n",
      "Dep. Variable:                  sleep   R-squared:                       0.113\n",
      "Model:                            OLS   Adj. R-squared:                  0.110\n",
      "Method:                 Least Squares   F-statistic:                     29.92\n",
      "Date:                Fri, 10 Nov 2023   Prob (F-statistic):           3.28e-18\n",
      "Time:                        07:29:55   Log-Likelihood:                -5263.1\n",
      "No. Observations:                 706   AIC:                         1.053e+04\n",
      "Df Residuals:                     702   BIC:                         1.055e+04\n",
      "Df Model:                           3                                         \n",
      "Covariance Type:            nonrobust                                         \n",
      "==============================================================================\n",
      "                 coef    std err          t      P>|t|      [0.025      0.975]\n",
      "------------------------------------------------------------------------------\n",
      "Intercept   3638.2453    112.275     32.405      0.000    3417.810    3858.681\n",
      "totwrk        -0.1484      0.017     -8.888      0.000      -0.181      -0.116\n",
      "educ         -11.1338      5.885     -1.892      0.059     -22.687       0.420\n",
      "age            2.1999      1.446      1.522      0.129      -0.639       5.038\n",
      "==============================================================================\n",
      "Omnibus:                       68.731   Durbin-Watson:                   1.943\n",
      "Prob(Omnibus):                  0.000   Jarque-Bera (JB):              185.551\n",
      "Skew:                          -0.496   Prob(JB):                     5.11e-41\n",
      "Kurtosis:                       5.308   Cond. No.                     1.66e+04\n",
      "==============================================================================\n",
      "\n",
      "Notes:\n",
      "[1] Standard Errors assume that the covariance matrix of the errors is correctly specified.\n",
      "[2] The condition number is large, 1.66e+04. This might indicate that there are\n",
      "strong multicollinearity or other numerical problems.\n"
     ]
    }
   ],
   "source": [
    "print(results.summary())"
   ]
  },
  {
   "cell_type": "markdown",
   "id": "d6d8cc8b",
   "metadata": {
    "slideshow": {
     "slide_type": "slide"
    }
   },
   "source": [
    "So, we can see by comparing the three that all of them give the same results. Feel free to use whichever is most convenient to you. Back to the original work..."
   ]
  },
  {
   "cell_type": "markdown",
   "id": "2185102b",
   "metadata": {
    "slideshow": {
     "slide_type": "fragment"
    }
   },
   "source": [
    "The more you work, the less you sleep. I feel better already.\n",
    "\n",
    "We can retrieve individual results from the RegressionResultsWrapper object. "
   ]
  },
  {
   "cell_type": "code",
   "execution_count": 15,
   "id": "b721f402",
   "metadata": {
    "slideshow": {
     "slide_type": "slide"
    }
   },
   "outputs": [
    {
     "name": "stdout",
     "output_type": "stream",
     "text": [
      "The parameters are:\n",
      " Intercept    3638.245312\n",
      "totwrk         -0.148373\n",
      "educ          -11.133813\n",
      "age             2.199885\n",
      "dtype: float64 \n",
      "\n",
      "The confidence intervals are:\n",
      "                      0            1\n",
      "Intercept  3417.810077  3858.680546\n",
      "totwrk       -0.181149    -0.115598\n",
      "educ        -22.687288     0.419661\n",
      "age          -0.638561     5.038331 \n",
      "\n",
      "The r-sqared is: 0.11336395596679805\n"
     ]
    }
   ],
   "source": [
    "print('The parameters are:\\n', results.params, '\\n')\n",
    "print('The confidence intervals are:\\n', results.conf_int(), '\\n')\n",
    "print('The r-sqared is:', results.rsquared)"
   ]
  },
  {
   "cell_type": "markdown",
   "id": "1cc0ba1f",
   "metadata": {
    "slideshow": {
     "slide_type": "slide"
    }
   },
   "source": [
    "### 1-2-3: Doing it all at once\n",
    "\n",
    "We can chain together the three steps into one line of code. "
   ]
  },
  {
   "cell_type": "code",
   "execution_count": 16,
   "id": "4769d168",
   "metadata": {
    "slideshow": {
     "slide_type": "slide"
    }
   },
   "outputs": [
    {
     "name": "stdout",
     "output_type": "stream",
     "text": [
      "                            OLS Regression Results                            \n",
      "==============================================================================\n",
      "Dep. Variable:                  sleep   R-squared:                       0.113\n",
      "Model:                            OLS   Adj. R-squared:                  0.110\n",
      "Method:                 Least Squares   F-statistic:                     29.92\n",
      "Date:                Fri, 10 Nov 2023   Prob (F-statistic):           3.28e-18\n",
      "Time:                        10:32:18   Log-Likelihood:                -5263.1\n",
      "No. Observations:                 706   AIC:                         1.053e+04\n",
      "Df Residuals:                     702   BIC:                         1.055e+04\n",
      "Df Model:                           3                                         \n",
      "Covariance Type:            nonrobust                                         \n",
      "==============================================================================\n",
      "                 coef    std err          t      P>|t|      [0.025      0.975]\n",
      "------------------------------------------------------------------------------\n",
      "Intercept   3638.2453    112.275     32.405      0.000    3417.810    3858.681\n",
      "totwrk        -0.1484      0.017     -8.888      0.000      -0.181      -0.116\n",
      "educ         -11.1338      5.885     -1.892      0.059     -22.687       0.420\n",
      "age            2.1999      1.446      1.522      0.129      -0.639       5.038\n",
      "==============================================================================\n",
      "Omnibus:                       68.731   Durbin-Watson:                   1.943\n",
      "Prob(Omnibus):                  0.000   Jarque-Bera (JB):              185.551\n",
      "Skew:                          -0.496   Prob(JB):                     5.11e-41\n",
      "Kurtosis:                       5.308   Cond. No.                     1.66e+04\n",
      "==============================================================================\n",
      "\n",
      "Notes:\n",
      "[1] Standard Errors assume that the covariance matrix of the errors is correctly specified.\n",
      "[2] The condition number is large, 1.66e+04. This might indicate that there are\n",
      "strong multicollinearity or other numerical problems.\n"
     ]
    }
   ],
   "source": [
    "res = smf.ols('sleep ~ totwrk + educ + age', data=sleep).fit()\n",
    "print(res.summary())"
   ]
  },
  {
   "cell_type": "markdown",
   "id": "ab0648c2",
   "metadata": {
    "slideshow": {
     "slide_type": "slide"
    }
   },
   "source": [
    "## Transforming data"
   ]
  },
  {
   "cell_type": "markdown",
   "id": "fa98e15f",
   "metadata": {
    "slideshow": {
     "slide_type": "fragment"
    }
   },
   "source": [
    "#### logs \n",
    "\n",
    "Logs get used a lot in econometrics. Regressing the log of a variable on the log of another variable means that the estimated coefficient is interpreted as an elasticity. \n",
    "\n",
    "We use the `np.log( )` method directly in the regression specification syntax. Note that we loaded the numpy package above as `np`. Let's modify our model and use the logarithm of age\n",
    "\n",
    "$$ sleep = \\beta_0 + \\beta_1 totwrk + \\beta_2 educ + \\beta_3 \\log(age)  + \\epsilon. $$\n",
    "\n",
    "The notation is \n",
    "\n",
    "```python\n",
    "sleep ~ totwrk + educ + np.log(age)\n",
    "```\n"
   ]
  },
  {
   "cell_type": "code",
   "execution_count": 17,
   "id": "a4974b72",
   "metadata": {
    "slideshow": {
     "slide_type": "slide"
    }
   },
   "outputs": [
    {
     "name": "stdout",
     "output_type": "stream",
     "text": [
      "                            OLS Regression Results                            \n",
      "==============================================================================\n",
      "Dep. Variable:                  sleep   R-squared:                       0.113\n",
      "Model:                            OLS   Adj. R-squared:                  0.109\n",
      "Method:                 Least Squares   F-statistic:                     29.79\n",
      "Date:                Fri, 10 Nov 2023   Prob (F-statistic):           3.91e-18\n",
      "Time:                        10:34:49   Log-Likelihood:                -5263.3\n",
      "No. Observations:                 706   AIC:                         1.053e+04\n",
      "Df Residuals:                     702   BIC:                         1.055e+04\n",
      "Df Model:                           3                                         \n",
      "Covariance Type:            nonrobust                                         \n",
      "===============================================================================\n",
      "                  coef    std err          t      P>|t|      [0.025      0.975]\n",
      "-------------------------------------------------------------------------------\n",
      "Intercept    3440.9308    239.448     14.370      0.000    2970.811    3911.050\n",
      "totwrk         -0.1489      0.017     -8.924      0.000      -0.182      -0.116\n",
      "educ          -11.3493      5.881     -1.930      0.054     -22.896       0.197\n",
      "np.log(age)    79.2414     56.612      1.400      0.162     -31.908     190.391\n",
      "==============================================================================\n",
      "Omnibus:                       68.734   Durbin-Watson:                   1.944\n",
      "Prob(Omnibus):                  0.000   Jarque-Bera (JB):              184.854\n",
      "Skew:                          -0.497   Prob(JB):                     7.24e-41\n",
      "Kurtosis:                       5.301   Cond. No.                     3.61e+04\n",
      "==============================================================================\n",
      "\n",
      "Notes:\n",
      "[1] Standard Errors assume that the covariance matrix of the errors is correctly specified.\n",
      "[2] The condition number is large, 3.61e+04. This might indicate that there are\n",
      "strong multicollinearity or other numerical problems.\n"
     ]
    }
   ],
   "source": [
    "res = smf.ols('sleep ~ totwrk + educ + np.log(age)', data=sleep).fit()\n",
    "print(res.summary())"
   ]
  },
  {
   "cell_type": "markdown",
   "id": "177f99bf",
   "metadata": {
    "slideshow": {
     "slide_type": "slide"
    }
   },
   "source": [
    "## Practice\n",
    "\n",
    "Take a few minutes and try the following. Feel free to chat with those around you if you get stuck. I am here, too. \n",
    "\n",
    "Wooldridge problem C2 in chapter 6. \n",
    "\n",
    "1. Load wage1.dta\n",
    "2. Scatter plot log(wage) against educ. There is a log-wage variable in the data already, but let's practice transforming data. Create your own log-wage variable. \\[You might use `.apply()` or `.map()`\\]"
   ]
  },
  {
   "cell_type": "markdown",
   "id": "80b221f1",
   "metadata": {
    "slideshow": {
     "slide_type": "fragment"
    }
   },
   "source": [
    "3. Estimate \n",
    "$$ \\log(wage) = \\beta_0 + \\beta_1 educ + \\epsilon$$\n",
    "\n",
    "**Name your results object** `prac_results`. "
   ]
  },
  {
   "cell_type": "code",
   "execution_count": 24,
   "id": "7e48a151",
   "metadata": {
    "slideshow": {
     "slide_type": "slide"
    }
   },
   "outputs": [
    {
     "data": {
      "text/html": [
       "<div>\n",
       "<style scoped>\n",
       "    .dataframe tbody tr th:only-of-type {\n",
       "        vertical-align: middle;\n",
       "    }\n",
       "\n",
       "    .dataframe tbody tr th {\n",
       "        vertical-align: top;\n",
       "    }\n",
       "\n",
       "    .dataframe thead th {\n",
       "        text-align: right;\n",
       "    }\n",
       "</style>\n",
       "<table border=\"1\" class=\"dataframe\">\n",
       "  <thead>\n",
       "    <tr style=\"text-align: right;\">\n",
       "      <th></th>\n",
       "      <th>wage</th>\n",
       "      <th>educ</th>\n",
       "      <th>exper</th>\n",
       "      <th>tenure</th>\n",
       "      <th>nonwhite</th>\n",
       "      <th>female</th>\n",
       "      <th>married</th>\n",
       "      <th>numdep</th>\n",
       "      <th>smsa</th>\n",
       "      <th>northcen</th>\n",
       "      <th>...</th>\n",
       "      <th>trade</th>\n",
       "      <th>services</th>\n",
       "      <th>profserv</th>\n",
       "      <th>profocc</th>\n",
       "      <th>clerocc</th>\n",
       "      <th>servocc</th>\n",
       "      <th>lwage</th>\n",
       "      <th>expersq</th>\n",
       "      <th>tenursq</th>\n",
       "      <th>lnwage</th>\n",
       "    </tr>\n",
       "  </thead>\n",
       "  <tbody>\n",
       "    <tr>\n",
       "      <th>0</th>\n",
       "      <td>3.10</td>\n",
       "      <td>11.0</td>\n",
       "      <td>2.0</td>\n",
       "      <td>0.0</td>\n",
       "      <td>0.0</td>\n",
       "      <td>1.0</td>\n",
       "      <td>0.0</td>\n",
       "      <td>2.0</td>\n",
       "      <td>1.0</td>\n",
       "      <td>0.0</td>\n",
       "      <td>...</td>\n",
       "      <td>0.0</td>\n",
       "      <td>0.0</td>\n",
       "      <td>0.0</td>\n",
       "      <td>0.0</td>\n",
       "      <td>0.0</td>\n",
       "      <td>0.0</td>\n",
       "      <td>1.131402</td>\n",
       "      <td>4.0</td>\n",
       "      <td>0.0</td>\n",
       "      <td>1.131402</td>\n",
       "    </tr>\n",
       "    <tr>\n",
       "      <th>1</th>\n",
       "      <td>3.24</td>\n",
       "      <td>12.0</td>\n",
       "      <td>22.0</td>\n",
       "      <td>2.0</td>\n",
       "      <td>0.0</td>\n",
       "      <td>1.0</td>\n",
       "      <td>1.0</td>\n",
       "      <td>3.0</td>\n",
       "      <td>1.0</td>\n",
       "      <td>0.0</td>\n",
       "      <td>...</td>\n",
       "      <td>0.0</td>\n",
       "      <td>1.0</td>\n",
       "      <td>0.0</td>\n",
       "      <td>0.0</td>\n",
       "      <td>0.0</td>\n",
       "      <td>1.0</td>\n",
       "      <td>1.175573</td>\n",
       "      <td>484.0</td>\n",
       "      <td>4.0</td>\n",
       "      <td>1.175573</td>\n",
       "    </tr>\n",
       "    <tr>\n",
       "      <th>2</th>\n",
       "      <td>3.00</td>\n",
       "      <td>11.0</td>\n",
       "      <td>2.0</td>\n",
       "      <td>0.0</td>\n",
       "      <td>0.0</td>\n",
       "      <td>0.0</td>\n",
       "      <td>0.0</td>\n",
       "      <td>2.0</td>\n",
       "      <td>0.0</td>\n",
       "      <td>0.0</td>\n",
       "      <td>...</td>\n",
       "      <td>1.0</td>\n",
       "      <td>0.0</td>\n",
       "      <td>0.0</td>\n",
       "      <td>0.0</td>\n",
       "      <td>0.0</td>\n",
       "      <td>0.0</td>\n",
       "      <td>1.098612</td>\n",
       "      <td>4.0</td>\n",
       "      <td>0.0</td>\n",
       "      <td>1.098612</td>\n",
       "    </tr>\n",
       "    <tr>\n",
       "      <th>3</th>\n",
       "      <td>6.00</td>\n",
       "      <td>8.0</td>\n",
       "      <td>44.0</td>\n",
       "      <td>28.0</td>\n",
       "      <td>0.0</td>\n",
       "      <td>0.0</td>\n",
       "      <td>1.0</td>\n",
       "      <td>0.0</td>\n",
       "      <td>1.0</td>\n",
       "      <td>0.0</td>\n",
       "      <td>...</td>\n",
       "      <td>0.0</td>\n",
       "      <td>0.0</td>\n",
       "      <td>0.0</td>\n",
       "      <td>0.0</td>\n",
       "      <td>1.0</td>\n",
       "      <td>0.0</td>\n",
       "      <td>1.791759</td>\n",
       "      <td>1936.0</td>\n",
       "      <td>784.0</td>\n",
       "      <td>1.791759</td>\n",
       "    </tr>\n",
       "    <tr>\n",
       "      <th>4</th>\n",
       "      <td>5.30</td>\n",
       "      <td>12.0</td>\n",
       "      <td>7.0</td>\n",
       "      <td>2.0</td>\n",
       "      <td>0.0</td>\n",
       "      <td>0.0</td>\n",
       "      <td>1.0</td>\n",
       "      <td>1.0</td>\n",
       "      <td>0.0</td>\n",
       "      <td>0.0</td>\n",
       "      <td>...</td>\n",
       "      <td>0.0</td>\n",
       "      <td>0.0</td>\n",
       "      <td>0.0</td>\n",
       "      <td>0.0</td>\n",
       "      <td>0.0</td>\n",
       "      <td>0.0</td>\n",
       "      <td>1.667707</td>\n",
       "      <td>49.0</td>\n",
       "      <td>4.0</td>\n",
       "      <td>1.667707</td>\n",
       "    </tr>\n",
       "  </tbody>\n",
       "</table>\n",
       "<p>5 rows × 25 columns</p>\n",
       "</div>"
      ],
      "text/plain": [
       "   wage  educ  exper  tenure  nonwhite  female  married  numdep  smsa  \\\n",
       "0  3.10  11.0    2.0     0.0       0.0     1.0      0.0     2.0   1.0   \n",
       "1  3.24  12.0   22.0     2.0       0.0     1.0      1.0     3.0   1.0   \n",
       "2  3.00  11.0    2.0     0.0       0.0     0.0      0.0     2.0   0.0   \n",
       "3  6.00   8.0   44.0    28.0       0.0     0.0      1.0     0.0   1.0   \n",
       "4  5.30  12.0    7.0     2.0       0.0     0.0      1.0     1.0   0.0   \n",
       "\n",
       "   northcen  ...  trade  services  profserv  profocc  clerocc  servocc  \\\n",
       "0       0.0  ...    0.0       0.0       0.0      0.0      0.0      0.0   \n",
       "1       0.0  ...    0.0       1.0       0.0      0.0      0.0      1.0   \n",
       "2       0.0  ...    1.0       0.0       0.0      0.0      0.0      0.0   \n",
       "3       0.0  ...    0.0       0.0       0.0      0.0      1.0      0.0   \n",
       "4       0.0  ...    0.0       0.0       0.0      0.0      0.0      0.0   \n",
       "\n",
       "      lwage  expersq  tenursq    lnwage  \n",
       "0  1.131402      4.0      0.0  1.131402  \n",
       "1  1.175573    484.0      4.0  1.175573  \n",
       "2  1.098612      4.0      0.0  1.098612  \n",
       "3  1.791759   1936.0    784.0  1.791759  \n",
       "4  1.667707     49.0      4.0  1.667707  \n",
       "\n",
       "[5 rows x 25 columns]"
      ]
     },
     "execution_count": 24,
     "metadata": {},
     "output_type": "execute_result"
    }
   ],
   "source": [
    "# 1 and 2\n",
    "\n",
    "wage1 = pd.read_stata('wage1.dta')\n",
    "\n",
    "# There is already a log(wage) variable in the data set (lwage) but we can always use some practice with transforms\n",
    "wage1['lnwage'] = wage1['wage'].apply(np.log)\n",
    "\n",
    "wage1['lnwage'] = np.log( wage1['wage'] )\n",
    "\n",
    "wage1.head()"
   ]
  },
  {
   "cell_type": "code",
   "execution_count": 26,
   "id": "3d8707d1",
   "metadata": {
    "slideshow": {
     "slide_type": "slide"
    }
   },
   "outputs": [
    {
     "data": {
      "image/png": "[encoded data removed]",
      "text/plain": [
       "<Figure size 720x432 with 1 Axes>"
      ]
     },
     "metadata": {
      "needs_background": "light"
     },
     "output_type": "display_data"
    }
   ],
   "source": [
    "fig, ax = plt.subplots(figsize=(10,6))\n",
    "\n",
    "ax.scatter(wage1['educ'], wage1['lnwage'], marker='o', alpha = 0.5 )\n",
    "\n",
    "ax.set_xlabel('education', fontsize=16)\n",
    "ax.set_ylabel('log wage', fontsize=16)\n",
    "\n",
    "ax.spines['right'].set_visible(False)\n",
    "ax.spines['top'].set_visible(False)"
   ]
  },
  {
   "cell_type": "code",
   "execution_count": 22,
   "id": "6e948ae9-c718-45c0-9730-e48eabe89e6b",
   "metadata": {},
   "outputs": [
    {
     "data": {
      "text/plain": [
       "<AxesSubplot:xlabel='educ', ylabel='lnwage'>"
      ]
     },
     "execution_count": 22,
     "metadata": {},
     "output_type": "execute_result"
    },
    {
     "data": {
      "image/png": "[encoded data removed]",
      "text/plain": [
       "<Figure size 720x432 with 1 Axes>"
      ]
     },
     "metadata": {
      "needs_background": "light"
     },
     "output_type": "display_data"
    }
   ],
   "source": [
    "import seaborn as sns\n",
    "\n",
    "fig, ax = plt.subplots(figsize=(10,6))\n",
    "\n",
    "sns.regplot(x='educ', y='lnwage', data=wage1, ax = ax, "
   ]
  },
  {
   "cell_type": "code",
   "execution_count": 29,
   "id": "7e844780",
   "metadata": {
    "slideshow": {
     "slide_type": "slide"
    }
   },
   "outputs": [
    {
     "name": "stdout",
     "output_type": "stream",
     "text": [
      "                            OLS Regression Results                            \n",
      "==============================================================================\n",
      "Dep. Variable:                 lnwage   R-squared:                       0.186\n",
      "Model:                            OLS   Adj. R-squared:                  0.184\n",
      "Method:                 Least Squares   F-statistic:                     119.6\n",
      "Date:                Fri, 10 Nov 2023   Prob (F-statistic):           3.27e-25\n",
      "Time:                        14:01:46   Log-Likelihood:                -359.38\n",
      "No. Observations:                 526   AIC:                             722.8\n",
      "Df Residuals:                     524   BIC:                             731.3\n",
      "Df Model:                           1                                         \n",
      "Covariance Type:            nonrobust                                         \n",
      "==============================================================================\n",
      "                 coef    std err          t      P>|t|      [0.025      0.975]\n",
      "------------------------------------------------------------------------------\n",
      "Intercept      0.5838      0.097      5.998      0.000       0.393       0.775\n",
      "educ           0.0827      0.008     10.935      0.000       0.068       0.098\n",
      "==============================================================================\n",
      "Omnibus:                       11.804   Durbin-Watson:                   1.801\n",
      "Prob(Omnibus):                  0.003   Jarque-Bera (JB):               13.811\n",
      "Skew:                           0.268   Prob(JB):                      0.00100\n",
      "Kurtosis:                       3.586   Cond. No.                         60.2\n",
      "==============================================================================\n",
      "\n",
      "Notes:\n",
      "[1] Standard Errors assume that the covariance matrix of the errors is correctly specified.\n"
     ]
    }
   ],
   "source": [
    "# 3\n",
    "\n",
    "prac_results = smf.ols('lnwage ~ educ', data=wage1).fit()\n",
    "print(prac_results.summary())"
   ]
  },
  {
   "cell_type": "markdown",
   "id": "54bd9650",
   "metadata": {
    "slideshow": {
     "slide_type": "slide"
    }
   },
   "source": [
    "Shifting gears... what if we wanted to put all this into our project writeup at the end of the semester?"
   ]
  },
  {
   "cell_type": "markdown",
   "id": "76445f0b",
   "metadata": {
    "slideshow": {
     "slide_type": "slide"
    }
   },
   "source": [
    "## Adding figures to MS Word. \n",
    "\n",
    "Part of your final project is an executive summary formatted as a PDF. A natural way to create the PDF is to create an MS Word document and export it as a PDF at the end. \n",
    "\n",
    "This means you will need to get your figures from a Jupyter notebook to an MS Word document. There are many ways to do this. The best way to do this is to first save your figure from inside your notebook, and then add it to your Word document. \n",
    "\n",
    "**Do not use a screenshot or the snipping tool to take a picture of the figure in your notebook and paste it into your document.** This will result in blurry figures that can be difficult to read. "
   ]
  },
  {
   "cell_type": "markdown",
   "id": "df5f4921",
   "metadata": {
    "slideshow": {
     "slide_type": "fragment"
    }
   },
   "source": [
    "**Note from Greg**: I will also create a LaTeX template document for those who would like to create a more professional summary. Check for it at the end of the weekend if it hasn't been posted already."
   ]
  },
  {
   "cell_type": "markdown",
   "id": "9f6102f5",
   "metadata": {
    "slideshow": {
     "slide_type": "slide"
    }
   },
   "source": [
    "Let's save our plot of education and log-wages. We will save the figure in two formats. \n",
    "\n",
    "The first is PNG, which is a [raster graphics](https://en.wikipedia.org/wiki/Raster_graphics) format. A raster graphic is essentially made up of many tiny dots. \n",
    "\n",
    "The second is SVG, which is a [scalable vector](https://en.wikipedia.org/wiki/Scalable_Vector_Graphics) graphics format. The image is essentially a set of equations that describe the shape. \n",
    "\n",
    "matplotlib handles both these formats easily."
   ]
  },
  {
   "cell_type": "code",
   "execution_count": 31,
   "id": "b150c033",
   "metadata": {
    "slideshow": {
     "slide_type": "slide"
    }
   },
   "outputs": [
    {
     "data": {
      "image/png": "[encoded data removed]",
      "text/plain": [
       "<Figure size 720x432 with 1 Axes>"
      ]
     },
     "metadata": {
      "needs_background": "light"
     },
     "output_type": "display_data"
    }
   ],
   "source": [
    "fig, ax = plt.subplots(figsize=(10,6))\n",
    "\n",
    "ax.scatter(wage1['educ'], wage1['lnwage'], marker='o', alpha = 0.5 )\n",
    "\n",
    "ax.set_xlabel('education', fontsize=16)\n",
    "ax.set_ylabel('log wage', fontsize=16)\n",
    "\n",
    "ax.spines['right'].set_visible(False)\n",
    "ax.spines['top'].set_visible(False)\n",
    "\n",
    "plt.savefig('lwage_edu.svg')\n",
    "plt.savefig('lwage_edu.png')\n",
    "\n",
    "plt.show()"
   ]
  },
  {
   "cell_type": "markdown",
   "id": "3c422a9f",
   "metadata": {
    "slideshow": {
     "slide_type": "slide"
    }
   },
   "source": [
    "### No title?\n",
    "\n",
    "Notice that I did not add a title to the figure. This seems like malpractice. \n",
    "\n",
    "I did this because I will add the title in MS Word. The title is integrated into the caption and figure number object in Word. "
   ]
  },
  {
   "cell_type": "markdown",
   "id": "3a8d1686",
   "metadata": {
    "slideshow": {
     "slide_type": "slide"
    }
   },
   "source": [
    "## Practice: Adding figures to Word\n",
    "\n",
    "1. Open a new MS Word document. \n",
    "\n",
    "2. Add the two figures we created in cell above. To add a figure to Word, use the `Insert` tab at the top of the document and choose `Pictures`.\n",
    "\n",
    "3. Add a caption. Right click on the figure and choose `Insert caption`. Set the `Label` field to `Figure`. I like my captions above the figure, but you can put them below if you choose. Make your captions consistent in their appearance and location.\n"
   ]
  },
  {
   "cell_type": "markdown",
   "id": "b6aca9df",
   "metadata": {
    "slideshow": {
     "slide_type": "fragment"
    }
   },
   "source": [
    "### The importance of vector graphics\n",
    "\n",
    "4. Zoom in on your document. The zoom control is in the lower-right corner. Do you see how blurry the PNG figure has become? The SVG figure scales smoothly with the figure's size. \n",
    "\n",
    "Be sure to use SVG files when creating your project documents. "
   ]
  },
  {
   "cell_type": "markdown",
   "id": "4d5a464d",
   "metadata": {
    "slideshow": {
     "slide_type": "slide"
    }
   },
   "source": [
    "### Exporting regression tables\n",
    "\n",
    "This area is less refined than exporting figures, unfortunately. Thanks to [this nice StackExchange post](https://economics.stackexchange.com/questions/11774/outputting-regressions-as-table-in-python-similar-to-outreg-in-stata), I did manage to find one solution for exporting from Python to LaTex. If you intend to use Word for your output, I would recommend using the `to_csv` command and then copy/pasting from there into a Word table as necessary."
   ]
  },
  {
   "cell_type": "code",
   "execution_count": 32,
   "id": "448551f5",
   "metadata": {
    "scrolled": true,
    "slideshow": {
     "slide_type": "slide"
    }
   },
   "outputs": [
    {
     "name": "stdout",
     "output_type": "stream",
     "text": [
      "                            OLS Regression Results                            \n",
      "==============================================================================\n",
      "Dep. Variable:                  sleep   R-squared:                       0.113\n",
      "Model:                            OLS   Adj. R-squared:                  0.109\n",
      "Method:                 Least Squares   F-statistic:                     29.79\n",
      "Date:                Fri, 10 Nov 2023   Prob (F-statistic):           3.91e-18\n",
      "Time:                        14:07:00   Log-Likelihood:                -5263.3\n",
      "No. Observations:                 706   AIC:                         1.053e+04\n",
      "Df Residuals:                     702   BIC:                         1.055e+04\n",
      "Df Model:                           3                                         \n",
      "Covariance Type:            nonrobust                                         \n",
      "===============================================================================\n",
      "                  coef    std err          t      P>|t|      [0.025      0.975]\n",
      "-------------------------------------------------------------------------------\n",
      "Intercept    3440.9308    239.448     14.370      0.000    2970.811    3911.050\n",
      "totwrk         -0.1489      0.017     -8.924      0.000      -0.182      -0.116\n",
      "educ          -11.3493      5.881     -1.930      0.054     -22.896       0.197\n",
      "np.log(age)    79.2414     56.612      1.400      0.162     -31.908     190.391\n",
      "==============================================================================\n",
      "Omnibus:                       68.734   Durbin-Watson:                   1.944\n",
      "Prob(Omnibus):                  0.000   Jarque-Bera (JB):              184.854\n",
      "Skew:                          -0.497   Prob(JB):                     7.24e-41\n",
      "Kurtosis:                       5.301   Cond. No.                     3.61e+04\n",
      "==============================================================================\n",
      "\n",
      "Notes:\n",
      "[1] Standard Errors assume that the covariance matrix of the errors is correctly specified.\n",
      "[2] The condition number is large, 3.61e+04. This might indicate that there are\n",
      "strong multicollinearity or other numerical problems.\n"
     ]
    }
   ],
   "source": [
    "print(res.summary())\n",
    "\n",
    "beginningtex = \"\"\"\\\\documentclass{report}\n",
    "\\\\usepackage{booktabs}\n",
    "\\\\begin{document}\"\"\"\n",
    "endtex = \"\\end{document}\"\n",
    "\n",
    "f = open('reg_practice.tex', 'w')\n",
    "f.write(beginningtex)\n",
    "f.write(res.summary().as_latex())\n",
    "f.write(endtex)\n",
    "f.close()"
   ]
  },
  {
   "cell_type": "code",
   "execution_count": 33,
   "id": "be33b466",
   "metadata": {
    "slideshow": {
     "slide_type": "slide"
    }
   },
   "outputs": [],
   "source": [
    "f = open('csv_practice.csv', 'w')\n",
    "f.write(res.summary().as_csv())\n",
    "f.close()"
   ]
  },
  {
   "cell_type": "code",
   "execution_count": null,
   "id": "f02fa1a6-1905-40bd-8dfa-75049e70061b",
   "metadata": {},
   "outputs": [],
   "source": []
  }
 ],
 "metadata": {
  "celltoolbar": "Slideshow",
  "kernelspec": {
   "display_name": "Python 3 (ipykernel)",
   "language": "python",
   "name": "python3"
  },
  "language_info": {
   "codemirror_mode": {
    "name": "ipython",
    "version": 3
   },
   "file_extension": ".py",
   "mimetype": "text/x-python",
   "name": "python",
   "nbconvert_exporter": "python",
   "pygments_lexer": "ipython3",
   "version": "3.9.12"
  }
 },
 "nbformat": 4,
 "nbformat_minor": 5
}
