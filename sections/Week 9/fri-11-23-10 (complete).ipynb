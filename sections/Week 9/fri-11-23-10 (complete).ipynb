{
 "cells": [
  {
   "cell_type": "markdown",
   "id": "bc77bb9e",
   "metadata": {
    "slideshow": {
     "slide_type": "slide"
    }
   },
   "source": [
    "## Friday 9\n",
    "\n",
    "files needed = sleep75.dta, wage1.dta\n",
    "\n",
    "This week we are working on\n",
    "\n",
    "1. Exporting figures and tables\n",
    "2. OLS\n"
   ]
  },
  {
   "cell_type": "code",
   "execution_count": null,
   "id": "4fd84960",
   "metadata": {
    "slideshow": {
     "slide_type": "slide"
    }
   },
   "outputs": [],
   "source": [
    "import pandas as pd\n",
    "import matplotlib.pyplot as plt"
   ]
  },
  {
   "cell_type": "markdown",
   "id": "7cefce35",
   "metadata": {
    "slideshow": {
     "slide_type": "slide"
    }
   },
   "source": [
    "## Linear regression\n",
    "\n",
    "This notebook introduces us to the statsmodels package [(docs)](https://devdocs.io/statsmodels/), which provides functions for formulating and estimating statistical models. This notebook will not address the models, per se, but will focus on how to put econometrics to work in python.\n",
    "\n",
    "Many of you have used STATA before. STATA is a great package for econometrics. Python can do most of what STATA can do, but STATA will have more specialized routines available. As python's popularity grows the kinds of models you can estimate in it grows, too.    \n",
    "\n",
    "If STATA is your thing, this [page](http://rlhick.people.wm.edu/posts/comparing-stata-and-ipython-commands-for-ols-models.html) on Rob Hicks' website is a nice STATA-to-python concordance."
   ]
  },
  {
   "cell_type": "code",
   "execution_count": null,
   "id": "0cb0f508",
   "metadata": {
    "slideshow": {
     "slide_type": "slide"
    }
   },
   "outputs": [],
   "source": [
    "import pandas as pd                    # for data handling\n",
    "import numpy as np                     # for numerical methods and data structures\n",
    "import matplotlib.pyplot as plt        # for plotting\n",
    "\n",
    "\n",
    "# The new package\n",
    "import statsmodels.formula.api as smf  # provides a way to directly spec models from formulas"
   ]
  },
  {
   "cell_type": "markdown",
   "id": "e0fa8b44",
   "metadata": {
    "slideshow": {
     "slide_type": "slide"
    }
   },
   "source": [
    "### Reading Stata data files\n",
    "\n",
    "Jeff Wooldridge's econometrics textbooks are academic staples. Our plan today is to work through some of the problems in the Wooldridge textbook as a way to introduce regression in python. \n",
    "\n",
    "On the plus side, the data that correspond to the Wooldridge problems are available to download and they are **ALREADY CLEANED.** \\[I contemplated adding some junk to the files to make it more interesting...\\]\n",
    "\n",
    "On the minus side, the files are in STATA's .dta format. \n",
    "\n",
    "Lucky for us, pandas has a method that [reads stata files](http://pandas.pydata.org/pandas-docs/stable/generated/pandas.read_stata.html). It also has methods for SQL, SAS, JSON,..."
   ]
  },
  {
   "cell_type": "code",
   "execution_count": null,
   "id": "3fec8741",
   "metadata": {
    "slideshow": {
     "slide_type": "slide"
    }
   },
   "outputs": [],
   "source": [
    "# Use pandas read_stata method to get the stata formatted data file into a DataFrame.\n",
    "sleep = pd.read_stata('sleep75.dta')\n",
    "\n",
    "# Take a look...so clean!\n",
    "sleep.head()"
   ]
  },
  {
   "cell_type": "code",
   "execution_count": null,
   "id": "4a887b04",
   "metadata": {
    "slideshow": {
     "slide_type": "slide"
    }
   },
   "outputs": [],
   "source": [
    "# Another method for checking out a DataFrame\n",
    "sleep.info()"
   ]
  },
  {
   "cell_type": "markdown",
   "id": "7a63be4a",
   "metadata": {
    "slideshow": {
     "slide_type": "slide"
    }
   },
   "source": [
    "### Specifying and estimating models with the formula.api\n",
    "\n",
    "Consider  the regression model\n",
    "\n",
    "$$y = \\beta_0 + \\beta_1x_1 + \\beta_2x_2 + \\varepsilon,$$\n",
    "\n",
    "where $y$,  $x_1$, and $x_2$ are variables, $\\beta_0, \\beta_1$ and $\\beta_2$ are the parameters to estimate, and $\\epsilon$ is the error term. \n",
    "\n",
    "\n",
    "The `statsmodels` package provides us with a formulaic syntax for defining models that uses strings. The basic syntax is \n",
    "```\n",
    "y ~ x1 + x2\n",
    "```\n",
    "which describes the model above. Notice that I did not specify the constant. Statsmodels takes care of that automatically.\n",
    "\n",
    "\n",
    "The work flow is:\n",
    "1. Specify the regression: sort out the dependent and independent variables\n",
    "2. Create the model with statsmodel\n",
    "3. Fit the model and obtain results\n",
    "\n",
    "To do this, we use the `statsmodels.formula.api` methods, which we imported as `smf`. "
   ]
  },
  {
   "cell_type": "markdown",
   "id": "544352d6",
   "metadata": {
    "slideshow": {
     "slide_type": "slide"
    }
   },
   "source": [
    "## 1. Specify the regression\n",
    "\n",
    "How do hours of sleep vary with working? Do we trade off sleep for work? We control for education and age.\n",
    "\n",
    "$$ sleep = \\beta_0 + \\beta_1 totwrk + \\beta_2 educ + \\beta_3 age + \\epsilon. $$\n",
    "\n",
    "\\[This is in problem 3, chapter 3 in Wooldridge.\\]"
   ]
  },
  {
   "cell_type": "markdown",
   "id": "0689b4a2",
   "metadata": {
    "slideshow": {
     "slide_type": "slide"
    }
   },
   "source": [
    "## 2. Create the model\n",
    "\n",
    "Using the statsmodel syntax, we have \n",
    "\n",
    "```python\n",
    "sleep ~ totwrk + educ + age\n",
    "```\n",
    "\n",
    "Remember, the constant is automatically added. \n",
    "\n",
    "We use the `.ols()` method of statsmodels. This is the *ordinary least squares* model. "
   ]
  },
  {
   "cell_type": "code",
   "execution_count": null,
   "id": "81c1ac83",
   "metadata": {
    "slideshow": {
     "slide_type": "fragment"
    }
   },
   "outputs": [],
   "source": [
    "sleep_model = smf.ols('sleep ~ totwrk + educ + age', data=sleep)\n",
    "type(sleep_model)"
   ]
  },
  {
   "cell_type": "markdown",
   "id": "0234d53a",
   "metadata": {
    "slideshow": {
     "slide_type": "slide"
    }
   },
   "source": [
    "The `model.OLS` object contains information about the regression model. Things like:\n",
    "\n",
    "* sleep_model.exog_names\n",
    "* sleep_model.endog_names\n",
    "* sleep_model.nobs\n",
    "\n",
    "Check the documentation or try `sleep_model.` and then `TAB`. "
   ]
  },
  {
   "cell_type": "code",
   "execution_count": null,
   "id": "470e0375",
   "metadata": {
    "slideshow": {
     "slide_type": "fragment"
    }
   },
   "outputs": [],
   "source": [
    "# Names of the exogenous (the right-hand side) variables in the model. \n",
    "sleep_model.exog_names"
   ]
  },
  {
   "cell_type": "markdown",
   "id": "6e32e721",
   "metadata": {
    "slideshow": {
     "slide_type": "slide"
    }
   },
   "source": [
    "## 3. Estimate the model\n",
    "\n",
    "Step \\#2 set up the model, but did not estimate the coefficients. To estimate the model, we use the `.fit()` method of the OLS model object. "
   ]
  },
  {
   "cell_type": "code",
   "execution_count": null,
   "id": "602b625a",
   "metadata": {
    "slideshow": {
     "slide_type": "fragment"
    }
   },
   "outputs": [],
   "source": [
    "results = sleep_model.fit()\n",
    "type(results)"
   ]
  },
  {
   "cell_type": "markdown",
   "id": "33f7366b",
   "metadata": {
    "slideshow": {
     "slide_type": "slide"
    }
   },
   "source": [
    "Another object! This time, a `RegressionResultsWrapper`. This object hold all the, well, results. Try `results.` and `TAB` again to see what lives in there."
   ]
  },
  {
   "cell_type": "code",
   "execution_count": null,
   "id": "69a8dd56",
   "metadata": {
    "scrolled": true,
    "slideshow": {
     "slide_type": "slide"
    }
   },
   "outputs": [],
   "source": [
    "print(results.summary())"
   ]
  },
  {
   "cell_type": "markdown",
   "id": "3e4bb5b6",
   "metadata": {
    "slideshow": {
     "slide_type": "slide"
    }
   },
   "source": [
    "Side note: Remember that in regression, we're essentially just solving a system of equations a la $Ax = B$. So, I'll also show that our results can be replicated using NumPy and some linear algebra.\n",
    "\n",
    "If you imagine $\\beta$ to be a vector $(\\beta_0, \\beta_1, \\beta_2, \\beta_3)^T$, then our data just becomes a matrix:\n",
    "\n",
    "$$X = \\begin{bmatrix} 1 & totwrk_0 & educ_0 & age_0 \\\\ \\vdots & \\vdots & \\vdots & \\vdots \\\\ 1 & totwrk_n & educ_n & age_n \\end{bmatrix}$$\n",
    "\n",
    "So then our equation just looks like this:\n",
    "\n",
    "\\begin{align}\n",
    "y &= X\\beta \\\\\n",
    "X'y &= X'X\\beta \\\\\n",
    "(X'X)^{-1} X'y &= (X'X)^{-1} X'X \\beta \\\\\n",
    "(X'X)^{-1} X'y &= \\beta\n",
    "\\end{align}"
   ]
  },
  {
   "cell_type": "code",
   "execution_count": null,
   "id": "72a4f6de",
   "metadata": {
    "scrolled": false,
    "slideshow": {
     "slide_type": "slide"
    }
   },
   "outputs": [],
   "source": [
    "# this just prevents the output from being scientific notation\n",
    "np.set_printoptions(suppress=True)"
   ]
  },
  {
   "cell_type": "code",
   "execution_count": null,
   "id": "3ddaa487",
   "metadata": {
    "slideshow": {
     "slide_type": "fragment"
    }
   },
   "outputs": [],
   "source": [
    "sleep.shape"
   ]
  },
  {
   "cell_type": "code",
   "execution_count": null,
   "id": "7efd20e8",
   "metadata": {
    "slideshow": {
     "slide_type": "slide"
    }
   },
   "outputs": [],
   "source": [
    "# create the column vector (our dependent variable)\n",
    "sleepy = sleep['sleep'].to_numpy()\n",
    "\n",
    "sleepmat = np.ones((sleep.shape[0],4)) # create a matrix of ones to be our constant\n",
    "sleepmat[:,1:] = sleep[['totwrk','educ','age']].to_numpy() # replace the second thru fourth columns with data\n",
    "sleepmat"
   ]
  },
  {
   "cell_type": "code",
   "execution_count": null,
   "id": "63ea87f5",
   "metadata": {
    "slideshow": {
     "slide_type": "slide"
    }
   },
   "outputs": [],
   "source": [
    "# the @ symbol is NumPy shorthand for matrix multiplication\n",
    "# Here, we're solving Ax = B as above\n",
    "sleep_b = np.linalg.inv(sleepmat.T @ sleepmat) @ sleepmat.T @ sleepy\n",
    "sleep_b"
   ]
  },
  {
   "cell_type": "code",
   "execution_count": null,
   "id": "e34a7721",
   "metadata": {
    "scrolled": false,
    "slideshow": {
     "slide_type": "slide"
    }
   },
   "outputs": [],
   "source": [
    "# We can also use the lstsq command in NumPy to do this a little quicker\n",
    "sleep_b_solve = np.linalg.lstsq(sleepmat, sleepy)\n",
    "sleep_b_solve # lstsq returns (1) coefficients, (2) SSR, (3) matrix rank, and (4) singular values (from SVD of A)"
   ]
  },
  {
   "cell_type": "code",
   "execution_count": null,
   "id": "fd2b2356",
   "metadata": {
    "scrolled": true,
    "slideshow": {
     "slide_type": "slide"
    }
   },
   "outputs": [],
   "source": [
    "print(results.summary())"
   ]
  },
  {
   "cell_type": "markdown",
   "id": "d6d8cc8b",
   "metadata": {
    "slideshow": {
     "slide_type": "slide"
    }
   },
   "source": [
    "So, we can see by comparing the three that all of them give the same results. Feel free to use whichever is most convenient to you. Back to the original work..."
   ]
  },
  {
   "cell_type": "markdown",
   "id": "2185102b",
   "metadata": {
    "slideshow": {
     "slide_type": "fragment"
    }
   },
   "source": [
    "The more you work, the less you sleep. I feel better already.\n",
    "\n",
    "We can retrieve individual results from the RegressionResultsWrapper object. "
   ]
  },
  {
   "cell_type": "code",
   "execution_count": null,
   "id": "b721f402",
   "metadata": {
    "slideshow": {
     "slide_type": "slide"
    }
   },
   "outputs": [],
   "source": [
    "print('The parameters are:\\n', results.params, '\\n')\n",
    "print('The confidence intervals are:\\n', results.conf_int(), '\\n')\n",
    "print('The r-sqared is:', results.rsquared)"
   ]
  },
  {
   "cell_type": "markdown",
   "id": "1cc0ba1f",
   "metadata": {
    "slideshow": {
     "slide_type": "slide"
    }
   },
   "source": [
    "### 1-2-3: Doing it all at once\n",
    "\n",
    "We can chain together the three steps into one line of code. "
   ]
  },
  {
   "cell_type": "code",
   "execution_count": null,
   "id": "4769d168",
   "metadata": {
    "slideshow": {
     "slide_type": "slide"
    }
   },
   "outputs": [],
   "source": [
    "res = smf.ols('sleep ~ totwrk + educ + age', data=sleep).fit()\n",
    "print(res.summary())"
   ]
  },
  {
   "cell_type": "markdown",
   "id": "ab0648c2",
   "metadata": {
    "slideshow": {
     "slide_type": "slide"
    }
   },
   "source": [
    "## Transforming data"
   ]
  },
  {
   "cell_type": "markdown",
   "id": "fa98e15f",
   "metadata": {
    "slideshow": {
     "slide_type": "fragment"
    }
   },
   "source": [
    "#### logs \n",
    "\n",
    "Logs get used a lot in econometrics. Regressing the log of a variable on the log of another variable means that the estimated coefficient is interpreted as an elasticity. \n",
    "\n",
    "We use the `np.log( )` method directly in the regression specification syntax. Note that we loaded the numpy package above as `np`. Let's modify our model and use the logarithm of age\n",
    "\n",
    "$$ sleep = \\beta_0 + \\beta_1 totwrk + \\beta_2 educ + \\beta_3 \\log(age)  + \\epsilon. $$\n",
    "\n",
    "The notation is \n",
    "\n",
    "```python\n",
    "sleep ~ totwrk + educ + np.log(age)\n",
    "```\n"
   ]
  },
  {
   "cell_type": "code",
   "execution_count": null,
   "id": "a4974b72",
   "metadata": {
    "slideshow": {
     "slide_type": "slide"
    }
   },
   "outputs": [],
   "source": [
    "res = smf.ols('sleep ~ totwrk + educ + np.log(age)', data=sleep).fit()\n",
    "print(res.summary())"
   ]
  },
  {
   "cell_type": "markdown",
   "id": "177f99bf",
   "metadata": {
    "slideshow": {
     "slide_type": "slide"
    }
   },
   "source": [
    "## Practice\n",
    "\n",
    "Take a few minutes and try the following. Feel free to chat with those around you if you get stuck. I am here, too. \n",
    "\n",
    "Wooldridge problem C2 in chapter 6. \n",
    "\n",
    "1. Load wage1.dta\n",
    "2. Scatter plot log(wage) against educ. There is a log-wage variable in the data already, but let's practice transforming data. Create your own log-wage variable. \\[You might use `.apply()` or `.map()`\\]"
   ]
  },
  {
   "cell_type": "markdown",
   "id": "80b221f1",
   "metadata": {
    "slideshow": {
     "slide_type": "fragment"
    }
   },
   "source": [
    "3. Estimate \n",
    "$$ \\log(wage) = \\beta_0 + \\beta_1 educ + \\epsilon$$\n",
    "\n",
    "**Name your results object** `prac_results`. "
   ]
  },
  {
   "cell_type": "code",
   "execution_count": null,
   "id": "7e48a151",
   "metadata": {
    "slideshow": {
     "slide_type": "slide"
    }
   },
   "outputs": [],
   "source": [
    "# 1 and 2\n",
    "\n"
   ]
  },
  {
   "cell_type": "code",
   "execution_count": null,
   "id": "3d8707d1",
   "metadata": {
    "slideshow": {
     "slide_type": "slide"
    }
   },
   "outputs": [],
   "source": [
    "fig, ax = plt.subplots(figsize=(10,6))\n",
    "\n",
    "# Code here\n",
    "\n"
   ]
  },
  {
   "cell_type": "code",
   "execution_count": null,
   "id": "7e844780",
   "metadata": {
    "scrolled": false,
    "slideshow": {
     "slide_type": "slide"
    }
   },
   "outputs": [],
   "source": [
    "# 3\n",
    "\n",
    "# Code here"
   ]
  },
  {
   "cell_type": "markdown",
   "id": "54bd9650",
   "metadata": {
    "slideshow": {
     "slide_type": "slide"
    }
   },
   "source": [
    "Shifting gears... what if we wanted to put all this into our project writeup at the end of the semester?"
   ]
  },
  {
   "cell_type": "markdown",
   "id": "76445f0b",
   "metadata": {
    "slideshow": {
     "slide_type": "slide"
    }
   },
   "source": [
    "## Adding figures to MS Word. \n",
    "\n",
    "Part of your final project is an executive summary formatted as a PDF. A natural way to create the PDF is to create an MS Word document and export it as a PDF at the end. \n",
    "\n",
    "This means you will need to get your figures from a Jupyter notebook to an MS Word document. There are many ways to do this. The best way to do this is to first save your figure from inside your notebook, and then add it to your Word document. \n",
    "\n",
    "**Do not use a screenshot or the snipping tool to take a picture of the figure in your notebook and paste it into your document.** This will result in blurry figures that can be difficult to read. "
   ]
  },
  {
   "cell_type": "markdown",
   "id": "df5f4921",
   "metadata": {
    "slideshow": {
     "slide_type": "fragment"
    }
   },
   "source": [
    "**Note from Greg**: I will also create a LaTeX template document for those who would like to create a more professional summary. Check for it at the end of the weekend if it hasn't been posted already."
   ]
  },
  {
   "cell_type": "markdown",
   "id": "9f6102f5",
   "metadata": {
    "slideshow": {
     "slide_type": "slide"
    }
   },
   "source": [
    "Let's save our plot of education and log-wages. We will save the figure in two formats. \n",
    "\n",
    "The first is PNG, which is a [raster graphics](https://en.wikipedia.org/wiki/Raster_graphics) format. A raster graphic is essentially made up of many tiny dots. \n",
    "\n",
    "The second is SVG, which is a [scalable vector](https://en.wikipedia.org/wiki/Scalable_Vector_Graphics) graphics format. The image is essentially a set of equations that describe the shape. \n",
    "\n",
    "matplotlib handles both these formats easily."
   ]
  },
  {
   "cell_type": "code",
   "execution_count": null,
   "id": "b150c033",
   "metadata": {
    "slideshow": {
     "slide_type": "slide"
    }
   },
   "outputs": [],
   "source": [
    "fig, ax = plt.subplots(figsize=(10,6))\n",
    "\n",
    "# Code Here\n",
    "\n",
    "plt.show()"
   ]
  },
  {
   "cell_type": "markdown",
   "id": "3c422a9f",
   "metadata": {
    "slideshow": {
     "slide_type": "slide"
    }
   },
   "source": [
    "### No title?\n",
    "\n",
    "Notice that I did not add a title to the figure. This seems like malpractice. \n",
    "\n",
    "I did this because I will add the title in MS Word. The title is integrated into the caption and figure number object in Word. "
   ]
  },
  {
   "cell_type": "markdown",
   "id": "3a8d1686",
   "metadata": {
    "slideshow": {
     "slide_type": "slide"
    }
   },
   "source": [
    "## Practice: Adding figures to Word\n",
    "\n",
    "1. Open a new MS Word document. \n",
    "\n",
    "2. Add the two figures we created in cell above. To add a figure to Word, use the `Insert` tab at the top of the document and choose `Pictures`.\n",
    "\n",
    "3. Add a caption. Right click on the figure and choose `Insert caption`. Set the `Label` field to `Figure`. I like my captions above the figure, but you can put them below if you choose. Make your captions consistent in their appearance and location.\n"
   ]
  },
  {
   "cell_type": "markdown",
   "id": "b6aca9df",
   "metadata": {
    "slideshow": {
     "slide_type": "fragment"
    }
   },
   "source": [
    "### The importance of vector graphics\n",
    "\n",
    "4. Zoom in on your document. The zoom control is in the lower-right corner. Do you see how blurry the PNG figure has become? The SVG figure scales smoothly with the figure's size. \n",
    "\n",
    "Be sure to use SVG files when creating your project documents. "
   ]
  },
  {
   "cell_type": "markdown",
   "id": "4d5a464d",
   "metadata": {
    "slideshow": {
     "slide_type": "slide"
    }
   },
   "source": [
    "### Exporting regression tables\n",
    "\n",
    "This area is less refined than exporting figures, unfortunately. Thanks to [this nice StackExchange post](https://economics.stackexchange.com/questions/11774/outputting-regressions-as-table-in-python-similar-to-outreg-in-stata), I did manage to find one solution for exporting from Python to LaTex. If you intend to use Word for your output, I would recommend using the `to_csv` command and then copy/pasting from there into a Word table as necessary."
   ]
  },
  {
   "cell_type": "code",
   "execution_count": null,
   "id": "448551f5",
   "metadata": {
    "scrolled": true,
    "slideshow": {
     "slide_type": "slide"
    }
   },
   "outputs": [],
   "source": [
    "print(res.summary())\n",
    "\n",
    "beginningtex = \"\"\"\\\\documentclass{report}\n",
    "\\\\usepackage{booktabs}\n",
    "\\\\begin{document}\"\"\"\n",
    "endtex = \"\\end{document}\"\n",
    "\n",
    "f = open('reg_practice.tex', 'w')\n",
    "f.write(beginningtex)\n",
    "f.write(res.summary().as_latex())\n",
    "f.write(endtex)\n",
    "f.close()"
   ]
  },
  {
   "cell_type": "code",
   "execution_count": null,
   "id": "be33b466",
   "metadata": {
    "slideshow": {
     "slide_type": "slide"
    }
   },
   "outputs": [],
   "source": [
    "f = open('csv_practice.csv', 'w')\n",
    "f.write(res.summary().as_csv())\n",
    "f.close()"
   ]
  }
 ],
 "metadata": {
  "celltoolbar": "Slideshow",
  "kernelspec": {
   "display_name": "Python 3 (ipykernel)",
   "language": "python",
   "name": "python3"
  },
  "language_info": {
   "codemirror_mode": {
    "name": "ipython",
    "version": 3
   },
   "file_extension": ".py",
   "mimetype": "text/x-python",
   "name": "python",
   "nbconvert_exporter": "python",
   "pygments_lexer": "ipython3",
   "version": "3.9.12"
  }
 },
 "nbformat": 4,
 "nbformat_minor": 5
}
