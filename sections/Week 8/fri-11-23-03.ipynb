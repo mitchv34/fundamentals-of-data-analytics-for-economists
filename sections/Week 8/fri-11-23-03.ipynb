{
 "cells": [
  {
   "cell_type": "markdown",
   "metadata": {
    "slideshow": {
     "slide_type": "slide"
    }
   },
   "source": [
    "## Friday 8\n",
    "\n",
    "files needed = broadband_size.xlsx, auto_data.dta\n",
    "\n",
    "This week we are working on\n",
    "\n",
    "1. Scatter plots\n",
    "2. Seaborn's facet plots"
   ]
  },
  {
   "cell_type": "code",
   "execution_count": null,
   "metadata": {
    "slideshow": {
     "slide_type": "slide"
    }
   },
   "outputs": [],
   "source": [
    "import pandas as pd     \n",
    "import matplotlib.pyplot as plt   \n",
    "from pandas_datareader import data, wb    \n",
    "import datetime as dt\n",
    "import seaborn as sns\n",
    "\n",
    "%matplotlib inline      "
   ]
  },
  {
   "cell_type": "markdown",
   "metadata": {
    "slideshow": {
     "slide_type": "slide"
    }
   },
   "source": [
    "## Pandas multi-index slicing\n"
   ]
  },
  {
   "cell_type": "code",
   "execution_count": null,
   "metadata": {
    "scrolled": true,
    "slideshow": {
     "slide_type": "slide"
    }
   },
   "outputs": [],
   "source": [
    "d = {'num_legs': [4, 4, 2, 2,2],\n",
    "     'num_wings': [0, 0, 2, 2,2],\n",
    "     'class': ['mammal', 'mammal', 'mammal', 'bird','bird'],\n",
    "     'animal': ['cat', 'dog', 'bat', 'penguin','ostrich'],\n",
    "     'locomotion': ['walks', 'walks', 'flies', 'walks','walks']}\n",
    "df = pd.DataFrame(data=d)\n",
    "df = df.set_index(['class', 'animal', 'locomotion'])\n",
    "df"
   ]
  },
  {
   "cell_type": "code",
   "execution_count": null,
   "metadata": {
    "slideshow": {
     "slide_type": "slide"
    }
   },
   "outputs": [],
   "source": [
    "# .xs() is for a cross-section of data\n",
    "# note that it keeps my innermost index level\n",
    "df.xs(('mammal', 'dog'))"
   ]
  },
  {
   "cell_type": "code",
   "execution_count": null,
   "metadata": {
    "slideshow": {
     "slide_type": "slide"
    }
   },
   "outputs": [],
   "source": [
    "# The tuple () style tells Pandas you're using index levels; list [] style is not\n",
    "df.loc[(['mammal','bird'],['cat','bat']),:] # this takes a slice across multiple levels"
   ]
  },
  {
   "cell_type": "code",
   "execution_count": null,
   "metadata": {
    "slideshow": {
     "slide_type": "slide"
    }
   },
   "outputs": [],
   "source": [
    "df.xs('bat', level = 1)"
   ]
  },
  {
   "cell_type": "code",
   "execution_count": null,
   "metadata": {
    "slideshow": {
     "slide_type": "slide"
    }
   },
   "outputs": [],
   "source": [
    "df.xs(('bird','ostrich'))['num_legs'][0]"
   ]
  },
  {
   "cell_type": "markdown",
   "metadata": {
    "slideshow": {
     "slide_type": "slide"
    }
   },
   "source": [
    "Other assistance:\n",
    "\n",
    "* [Other methods that may work](https://stackoverflow.com/questions/33194016/python-pandas-slice-multiindex-by-second-level-index-or-any-other-level)\n",
    "\n",
    "* [Conditionals with multi-index](https://stackoverflow.com/questions/50608749/slicing-a-multiindex-dataframe-with-a-condition-based-on-the-index)"
   ]
  },
  {
   "cell_type": "markdown",
   "metadata": {
    "slideshow": {
     "slide_type": "slide"
    }
   },
   "source": [
    "## Scatter plots\n",
    "\n",
    "Scatter plots are used to compare two variables. This is a good approach for visualizing the correlation of two variables. Let's get some data from FRED."
   ]
  },
  {
   "cell_type": "code",
   "execution_count": null,
   "metadata": {
    "slideshow": {
     "slide_type": "slide"
    }
   },
   "outputs": [],
   "source": [
    "# These codes are for  real gdp and the unemployment rate in the United States. \n",
    "codes = ['GDPC1', 'UNRATE']  \n",
    "\n",
    "start = dt.datetime(1970, 1, 1)\n",
    "fred = data.DataReader(codes, 'fred', start)\n",
    "\n",
    "fred.head()"
   ]
  },
  {
   "cell_type": "markdown",
   "metadata": {
    "slideshow": {
     "slide_type": "subslide"
    }
   },
   "source": [
    "Gremlins! The gdp data is quarterly, but the unemployment rate is monthly. Let's fix this by downsampling to quarterly frequency. The FRED datareader is really good &mdash; the index is already a datetime object. (How would you check?)"
   ]
  },
  {
   "cell_type": "code",
   "execution_count": null,
   "metadata": {
    "slideshow": {
     "slide_type": "slide"
    }
   },
   "outputs": [],
   "source": [
    "# Create an average quarterly unemployment rate.\n",
    "fred_q=fred.resample('q').mean()                \n",
    "fred_q.head()"
   ]
  },
  {
   "cell_type": "markdown",
   "metadata": {
    "slideshow": {
     "slide_type": "slide"
    }
   },
   "source": [
    "Let's plot the growth rate of GDP against the change in the unemployment rate. The relationship between these two variables is known as [Okun's Law](https://en.wikipedia.org/wiki/Okun%27s_law). \n",
    "\n",
    "Since the unemployment rates are already rates, it makes more sense to just difference them than to compute growth rates.\n",
    "\n",
    "Example: $u_t$=1.25\\% and $u_{t-1}$=0.75\\%. \n",
    "It is clearer to say that the unemployment rate rose by 0.5 percentage points than to say that it rose by 67\\%. \n"
   ]
  },
  {
   "cell_type": "code",
   "execution_count": null,
   "metadata": {
    "slideshow": {
     "slide_type": "slide"
    }
   },
   "outputs": [],
   "source": [
    "# Compute the growth rate of gdp. \n",
    "fred_q['gdp_gr'] = fred_q['GDPC1'].pct_change()*100        \n",
    "\n",
    "# .difference() takes the first difference: u(t)-u(t-1).   \n",
    "fred_q['unemp_dif'] = fred_q['UNRATE'].diff()              \n",
    "fred_q.head()"
   ]
  },
  {
   "cell_type": "markdown",
   "metadata": {
    "slideshow": {
     "slide_type": "slide"
    }
   },
   "source": [
    "We are ready to plot. The `ax.scatter()` method ([docs](https://matplotlib.org/3.2.1/api/_as_gen/matplotlib.pyplot.scatter.html)) takes two pieces of data: the x variable and the y variable. \n",
    "\n",
    "```python\n",
    "ax.scatter(x, y)\n",
    "```\n",
    "\n",
    "In our example, the x variable is the gdp growth rate and the y variable is the change in the unemployment rate. "
   ]
  },
  {
   "cell_type": "code",
   "execution_count": null,
   "metadata": {
    "slideshow": {
     "slide_type": "slide"
    }
   },
   "outputs": [],
   "source": [
    "fig, ax = plt.subplots(figsize=(10,5))\n",
    "                       \n",
    "ax.scatter(fred_q['gdp_gr'], fred_q['unemp_dif'])\n",
    "\n",
    "ax.set_title('Okun\\'s Law in the United States' )\n",
    "ax.set_ylabel('change in unemployment rate')\n",
    "ax.set_xlabel('gdp growth rate')\n",
    "\n",
    "ax.spines['top'].set_visible(False)\n",
    "ax.spines['right'].set_visible(False)\n"
   ]
  },
  {
   "cell_type": "markdown",
   "metadata": {
    "slideshow": {
     "slide_type": "slide"
    }
   },
   "source": [
    "Clearly, there is a negative correlation here: Low gdp growth rates are associated with positive changes in the unemployment rate. When gdp is growing slowly (or falling) unemployment is rising. "
   ]
  },
  {
   "cell_type": "markdown",
   "metadata": {
    "slideshow": {
     "slide_type": "slide"
    }
   },
   "source": [
    "## Practice: Scatters\n",
    "\n",
    "Let's explore some of scatter plot's options. Use the [documentation](https://matplotlib.org/3.2.1/api/_as_gen/matplotlib.pyplot.scatter.html) for help.  \n",
    "\n",
    "Modify the Okun's Law figure we just made. \n",
    "\n",
    "1. Change the color of the dots to red.\n",
    "2. Change the edgecolor of the markers to black. (markers have edges and faces)\n",
    "3. Use the `s` option to set the size of the markers (in points squared) to 70.\n"
   ]
  },
  {
   "cell_type": "code",
   "execution_count": null,
   "metadata": {
    "slideshow": {
     "slide_type": "slide"
    }
   },
   "outputs": [],
   "source": [
    "fig, ax = plt.subplots(figsize=(10,5))\n",
    "\n",
    "# your code here"
   ]
  },
  {
   "cell_type": "markdown",
   "metadata": {
    "slideshow": {
     "slide_type": "slide"
    }
   },
   "source": [
    "Check out the documentation for [marker styles](https://matplotlib.org/api/markers_api.html). These styles can be used with `.plot()` command, too. \n",
    "\n",
    "3. Change the marker to a triangle. \n",
    "4. Use `text()` or `annotate()` to label the point corresponding to third quarter 2009: '2009Q3'"
   ]
  },
  {
   "cell_type": "code",
   "execution_count": null,
   "metadata": {
    "slideshow": {
     "slide_type": "slide"
    }
   },
   "outputs": [],
   "source": [
    "fig, ax = plt.subplots(figsize=(10,5))\n",
    "\n",
    "# your code here"
   ]
  },
  {
   "cell_type": "markdown",
   "metadata": {
    "slideshow": {
     "slide_type": "slide"
    }
   },
   "source": [
    "Scatter plots are very useful and we can do a lot more with them. Places to go from here.\n",
    "\n",
    "1. Add a line of best fit. A bit clunky in matplotlib (use np's polyfit command), but not too bad. The seaborn package has a regplot command that makes this dead simple. \n",
    "2. Make data markers different colors or sizes depending on the value of a third variable. For example, you could get some more data and color the markers for years with a repbulican president red and markers for years with democratic presidents blue. \n",
    "3. Other ideas?\n"
   ]
  },
  {
   "cell_type": "markdown",
   "metadata": {
    "slideshow": {
     "slide_type": "slide"
    }
   },
   "source": [
    "The OECD has a project studying [broadband internet coverage](http://www.oecd.org/sti/broadband/broadband-statistics/) across countries. It tracks data on numbers of subscribers, speed, and prices. \n",
    "\n",
    "1. Load 'broadband_size.xlsx'. It contains data on broadband accounts per 100 people, GDP per capita, and population (in thousands) for several countries. Are all your variables okay? \n",
    "2. Give the columns some reasonable names. \n"
   ]
  },
  {
   "cell_type": "code",
   "execution_count": null,
   "metadata": {
    "slideshow": {
     "slide_type": "slide"
    }
   },
   "outputs": [],
   "source": [
    "broad = pd.read_excel('broadband_size.xlsx', thousands=',')\n",
    "broad.columns = ['cty', 'broad_pen', 'gdp_cap', 'pop']\n",
    "broad.head()\n"
   ]
  },
  {
   "cell_type": "markdown",
   "metadata": {
    "slideshow": {
     "slide_type": "slide"
    }
   },
   "source": [
    "3. Create a `.regplot()` with broadband penetration on the y axis and GDP  per capita on the x axis. Add the 95 percent confidence interval. Make it look nice. "
   ]
  },
  {
   "cell_type": "code",
   "execution_count": null,
   "metadata": {
    "slideshow": {
     "slide_type": "slide"
    }
   },
   "outputs": [],
   "source": [
    "fig, ax = plt.subplots(figsize=(12,7)) \n",
    "\n",
    "sns.regplot(x='gdp_cap', y='broad_pen', data=broad,               # the data\n",
    "            ax = ax,                                              # an axis object\n",
    "            color = 'blue',                                       # make it blue\n",
    "            ci = 95)                                              # confidence interval: pass it the percent\n",
    "\n",
    "sns.despine(ax = ax) \n",
    "\n",
    "ax.set_title('Broadband penetration and income')\n",
    "ax.set_ylabel('broadband subscribers per 100 people')\n",
    "ax.set_xlabel('GDP per capita')\n",
    "\n",
    "plt.show()"
   ]
  },
  {
   "cell_type": "markdown",
   "metadata": {
    "slideshow": {
     "slide_type": "slide"
    }
   },
   "source": [
    "4. The relationship doesn't look very linear to me. Replot your solution from 3. but try adding the `logx=True` option to regplot to regress y = log(x). As always, consult the [documentation](https://seaborn.pydata.org/generated/seaborn.regplot.html) if you need help."
   ]
  },
  {
   "cell_type": "code",
   "execution_count": null,
   "metadata": {
    "slideshow": {
     "slide_type": "slide"
    }
   },
   "outputs": [],
   "source": [
    "fig, ax = plt.subplots(figsize=(12,7)) \n",
    "\n",
    "# your code here"
   ]
  },
  {
   "cell_type": "markdown",
   "metadata": {
    "slideshow": {
     "slide_type": "slide"
    }
   },
   "source": [
    "### Bubble plot (and passing keywords)\n",
    "A bubble plot is a scatter plot in which the size of the data markers (usually a circle) varies with a third variable. \n",
    "\n",
    "We can actually make these plots in matplotlib. The syntax is \n",
    "```python\n",
    "ax.plot(x, y, s) \n",
    "```\n",
    "where `s` is the variable corresponding to marker size. Since seaborn is built on top of matplotlib, we can pass *scatter keyword arguments* to `.regplot( )` and these get passed through to the underlying scatter. \n",
    "\n",
    "If we pass a single number to `s` it changes the size of all the bubbles. If we pass it a Series of data, then each bubble gets scaled according to its value in the series. \n",
    "\n",
    "The syntax for the option is `scatter_kws={'s': data_var}`. This sets the `s` argument of scatter to `data_var`. "
   ]
  },
  {
   "cell_type": "code",
   "execution_count": null,
   "metadata": {
    "slideshow": {
     "slide_type": "slide"
    }
   },
   "outputs": [],
   "source": [
    "fig, ax = plt.subplots(figsize=(10,5)) \n",
    "\n",
    "sns.regplot(x='gdp_cap', y='broad_pen', data=broad,    # the data\n",
    "            ax = ax,                                   # an axis object\n",
    "            scatter_kws={'s': broad['pop']/1000},      # make the marker proportional to population            \n",
    "            #scatter_kws={'s': 25},\n",
    "            color = 'blue',                            # make it blue\n",
    "            ci = 95,                                   # confidence interval: pass it the percent\n",
    "            logx = True)                               # semi-log regression\n",
    "                      \n",
    "# We need to let the reader know what the bubble sizes represent.\n",
    "ax.text(50000, 20, 'Marker size proportional to population size')\n",
    "\n",
    "sns.despine(ax = ax)  \n",
    "                                   \n",
    "\n",
    "ax.set_title('Broadband penetration and income')\n",
    "ax.set_ylabel('broadband subscribers per 100 people')\n",
    "ax.set_xlabel('GDP per capita')\n",
    "plt.show()"
   ]
  },
  {
   "cell_type": "markdown",
   "metadata": {
    "slideshow": {
     "slide_type": "slide"
    }
   },
   "source": [
    "Notice that I have scaled population by 1000. The issue is that `s` is interpreted as points^2 (points squared) [[docs](https://matplotlib.org/3.1.1/api/_as_gen/matplotlib.pyplot.scatter.html)]. The idea is that the area of the marker increases proportional to the square of the width.  There is a good discussion of it at [stack overflow](https://stackoverflow.com/questions/14827650/pyplot-scatter-plot-marker-size).\n",
    "\n",
    "If you try to use `s` and your whole figure turns the color of your marker, you probably need to scale your measure for `s`. \n",
    "\n",
    "Another example of the scatter_kws useage is to customize the scatter colors and alpha."
   ]
  },
  {
   "cell_type": "code",
   "execution_count": null,
   "metadata": {
    "slideshow": {
     "slide_type": "slide"
    }
   },
   "outputs": [],
   "source": [
    "fig, ax = plt.subplots(figsize=(10,5)) \n",
    "\n",
    "# To keep the call to regplot from getting out of control, I define the scatter keywords dict here.\n",
    "my_kws={'s': broad['pop']/1000, 'alpha':0.25, 'color':'black'}\n",
    "\n",
    "sns.regplot(x='gdp_cap', y='broad_pen', data=broad,    # the data\n",
    "            ax = ax,                                   # an axis object\n",
    "            scatter_kws = my_kws,                      # pass parameters to scatter\n",
    "            color = 'blue',                            # make it blue\n",
    "            ci = 95,                                   # confidence interval: pass it the percent\n",
    "            logx = True)                               # semi-log regression\n",
    "\n",
    "# We need to let the reader know what the bubble sizes represent.\n",
    "ax.text(50000, 20, 'Marker size proportional to population size')                                                         \n",
    "\n",
    "sns.despine(ax = ax)\n",
    "                                   \n",
    "\n",
    "ax.set_title('Broadband penetration and income')\n",
    "ax.set_ylabel('broadband subscribers per 100 people')\n",
    "ax.set_xlabel('GDP per capita')\n",
    "plt.show()"
   ]
  },
  {
   "cell_type": "markdown",
   "metadata": {
    "slideshow": {
     "slide_type": "slide"
    }
   },
   "source": [
    "## Facet plots\n",
    "\n",
    "Facet plots are grids of plots with the same x- and y-axes. Each plot in the grid is a different subset of the sample. Seaborn gives us simple way to make these plots. \n",
    "\n",
    "We often use facet plots in initial exploratory analysis. If we do not know what we are looking for, a facet plot is a good way to start \"eye-balling\" relationships. Once we have some ideas, we can narrow down our focus and use more precise tools. In general, **we do not include large grids of figures in our finished analysis.** They contain too much unnecessary information.\n",
    "\n",
    "Load the file 'auto_data.dta' which contains data on automobile characteristics in the European market. These data are from [Miravete, Moral, and Thurk](https://www3.nd.edu/~jthurk/Papers/MMT_RAND.pdf)."
   ]
  },
  {
   "cell_type": "code",
   "execution_count": null,
   "metadata": {
    "scrolled": true,
    "slideshow": {
     "slide_type": "slide"
    }
   },
   "outputs": [],
   "source": [
    "df = pd.read_stata('auto_data.dta')\n",
    "df.head(3)"
   ]
  },
  {
   "cell_type": "code",
   "execution_count": null,
   "metadata": {
    "slideshow": {
     "slide_type": "slide"
    }
   },
   "outputs": [],
   "source": [
    "# Recode the FUEL variable so I can easily understand it.\n",
    "df['FUEL'] = df['FUEL'].replace({0:'gasoline', 1:'diesel'})\n",
    "df.sample(5)"
   ]
  },
  {
   "cell_type": "markdown",
   "metadata": {
    "slideshow": {
     "slide_type": "subslide"
    }
   },
   "source": [
    "Looking at the data, we see that a unit of observation is a model at a point in time. We see prices and quantities sold and characteristics about the model. Let's cut the data down to VW and try some plots. "
   ]
  },
  {
   "cell_type": "code",
   "execution_count": null,
   "metadata": {
    "slideshow": {
     "slide_type": "slide"
    }
   },
   "outputs": [],
   "source": [
    "vw = df[df['FIRM']=='Volkswagen']\n",
    "vw.sample(8)"
   ]
  },
  {
   "cell_type": "markdown",
   "metadata": {
    "slideshow": {
     "slide_type": "slide"
    }
   },
   "source": [
    "**Q: How are vehicle weight and fuel efficiency related? Does it vary by fuel type? Does it vary by brand?**\n",
    "\n",
    "* Volkswagen has four brands during this period: Audi, Seat, Skoda, and Volkswagen. \n",
    "* There are two fuel types: gasoline and diesel. \n",
    "\n",
    "Let's make a grid of plots where the rows are the brands and columns are the fuel types. This is a 4x2 grid. \n",
    "\n",
    "In each plot, we will scatter weight vs. mpg."
   ]
  },
  {
   "cell_type": "code",
   "execution_count": null,
   "metadata": {
    "slideshow": {
     "slide_type": "subslide"
    }
   },
   "outputs": [],
   "source": [
    "g = sns.FacetGrid(vw, row='BRAND', col='FUEL')\n",
    "g.map(plt.scatter, \"WEIGHT\", \"MPG\", color='blue')\n",
    "\n",
    "plt.show()"
   ]
  },
  {
   "cell_type": "markdown",
   "metadata": {
    "slideshow": {
     "slide_type": "slide"
    }
   },
   "source": [
    "What is a point in a plot? It is a model-year. \n",
    "\n",
    "What do we see? \n",
    "\n",
    "* Diesel vehicles tend to get higher mpg\n",
    "* Within a fuel type, the range of mpg are similar\n",
    "* Weight and mpg are usually negatively correlated (Skoda diesel?)\n",
    "* There is heterogeneity in the number of models per brand"
   ]
  },
  {
   "cell_type": "markdown",
   "metadata": {
    "slideshow": {
     "slide_type": "slide"
    }
   },
   "source": [
    "### Facet plot syntax\n",
    "We first create the grid using `FacetGrid()`. We specify which DataFrame we are plotting and which variables we want for the rows and columns. These variables should be *categorical* and should have relatively few potential values. Otherwise, the grid would get very large and it would be hard to interpret. \n",
    "\n",
    "```python\n",
    "g = sns.FacetGrid(vw, row='BRAND', col='FUEL')\n",
    "```\n",
    "\n",
    "Next, we map a plot type to the grid using `map()`. We can make many types of plots. In this case we have used the `scatter()` plot from matplotlib. Notice the `plt` that precedes the `scatter`. We can also pass any keyword arguments that `plt.scatter` accepts.    \n",
    "\n",
    "```python\n",
    "g.map(plt.scatter, \"WEIGHT\", \"MPG\", color='blue')\n",
    "```\n",
    "\n",
    "Now lets try a different plot type, `regplot()` from Seaborn. It's easier to see the relationship between weight and mpg. \n"
   ]
  },
  {
   "cell_type": "code",
   "execution_count": null,
   "metadata": {
    "slideshow": {
     "slide_type": "slide"
    }
   },
   "outputs": [],
   "source": [
    "g = sns.FacetGrid(vw, row='BRAND', col='FUEL', height=4)\n",
    "g.map(sns.regplot, \"WEIGHT\", \"MPG\", color='red', ci=90)\n",
    "\n",
    "plt.show()"
   ]
  },
  {
   "cell_type": "markdown",
   "metadata": {
    "slideshow": {
     "slide_type": "slide"
    }
   },
   "source": [
    "**Q: Are more powerful cars more expensive? Does it depend on fuel type? Brand?**\n",
    "\n",
    "We are not limited to just one type of data in each plot. We can use color to differentiate further. In the next figure we add Ford, PSA, and Fiat to the firms in our DataFrame. Each firm has several brands and each brand has several models.\n",
    "\n",
    "* Columns are still fuel type\n",
    "* Rows are now firms (VW, Ford, PSA, Fiat)\n",
    "* Hue (color) is brand (Ford's Volvo; Fiat's Alfa Romeo, etc.)\n",
    "```python\n",
    "g = sns.FacetGrid(to_plot, hue='BRAND', col='FUEL', row='FIRM')\n",
    "```\n",
    "\n",
    "In each plot we have \n",
    "* Price vs HP\n",
    "* I'm using a scatter plot\n",
    "\n",
    "```python\n",
    "g.map(plt.scatter, \"PRICE\", \"HP\")\n",
    "```"
   ]
  },
  {
   "cell_type": "code",
   "execution_count": null,
   "metadata": {
    "slideshow": {
     "slide_type": "slide"
    }
   },
   "outputs": [],
   "source": [
    "# Create a dataframe with just these firms\n",
    "firms = ['Ford', 'PSA', 'Volkswagen', 'Fiat']\n",
    "to_plot = df[df['FIRM'].isin(firms)]\n",
    "\n",
    "g = sns.FacetGrid(to_plot, hue='BRAND', col='FUEL', row='FIRM')\n",
    "g.map(plt.scatter, \"PRICE\", \"HP\")\n",
    "g.add_legend()\n",
    "plt.show()"
   ]
  },
  {
   "cell_type": "markdown",
   "metadata": {
    "slideshow": {
     "slide_type": "slide"
    }
   },
   "source": [
    "## Practice: Facet Plots\n",
    "\n",
    "\n",
    "\n",
    "1. **Q: How is size related to price? Does it differ by firm? By brand? By fuel type?**\n",
    "\n",
    "Use a facet plot to explore these questions. Restrict the DataFrame to include only Ford, PSA, Volkswagen, and Fiat. "
   ]
  },
  {
   "cell_type": "code",
   "execution_count": null,
   "metadata": {
    "slideshow": {
     "slide_type": "slide"
    }
   },
   "outputs": [],
   "source": [
    "# The .isin() saves us from syntax like \n",
    "# to_plot = df[(df['FIRM']=='Ford') | (df['FIRM'] == 'PSA') | (df['FIRM']==Volkswagen) | (df['FIRM']=='Fiat')]\n",
    "\n",
    "firms = ['Ford', 'PSA', 'Volkswagen', 'Fiat']\n",
    "to_plot = df[df['FIRM'].isin(firms)]"
   ]
  },
  {
   "cell_type": "code",
   "execution_count": null,
   "metadata": {
    "slideshow": {
     "slide_type": "slide"
    }
   },
   "outputs": [],
   "source": [
    "# Create your plot here"
   ]
  },
  {
   "cell_type": "markdown",
   "metadata": {
    "slideshow": {
     "slide_type": "slide"
    }
   },
   "source": [
    "2. Let's explore a related concept, the `pairplot` [[docs](https://seaborn.pydata.org/generated/seaborn.pairplot.html)]. Try\n",
    "\n",
    "```python\n",
    "g=sns.pairplot(df, vars=['PRICE', 'HP', 'WEIGHT'])\n",
    "```\n",
    "\n",
    "What does `pairplot` do? Why do we only need to look at the upper or lower triangle of the figure? What is on the diagonal?"
   ]
  },
  {
   "cell_type": "code",
   "execution_count": null,
   "metadata": {
    "slideshow": {
     "slide_type": "slide"
    }
   },
   "outputs": [],
   "source": [
    "g=sns.pairplot(df, vars=['PRICE', 'HP', 'WEIGHT', 'MPG'])\n",
    "\n",
    "# pairplot plots scatter plots for each possible pair of variables.\n",
    "# The figure is symmetric, so any plot in the top triangle is also in \n",
    "# bottom triangle, but with the axes reversed. \n",
    "# The diagonal is the histogram of the variable. "
   ]
  },
  {
   "cell_type": "markdown",
   "metadata": {
    "slideshow": {
     "slide_type": "slide"
    }
   },
   "source": [
    "3. How do these relationships differ by fuel type? Use the 'hue' option (and the documentation)."
   ]
  },
  {
   "cell_type": "code",
   "execution_count": null,
   "metadata": {
    "slideshow": {
     "slide_type": "slide"
    }
   },
   "outputs": [],
   "source": [
    "g=sns.pairplot(df, vars=['PRICE', 'HP', 'WEIGHT',  'MPG'], hue='FUEL')\n",
    "\n",
    "# It is clear that gasoline has a right-shifted HP distribution and a left-shifted MPG distribution. \n",
    "# For diesel, HP doesn't look correlated with weight or mpg. For gas HP and MPG look negatively correlated. \n",
    "# The weight-mpg correlation looks to have a similar slope and a different intercept by fuel type."
   ]
  }
 ],
 "metadata": {
  "celltoolbar": "Slideshow",
  "kernelspec": {
   "display_name": "Python 3 (ipykernel)",
   "language": "python",
   "name": "python3"
  },
  "language_info": {
   "codemirror_mode": {
    "name": "ipython",
    "version": 3
   },
   "file_extension": ".py",
   "mimetype": "text/x-python",
   "name": "python",
   "nbconvert_exporter": "python",
   "pygments_lexer": "ipython3",
   "version": "3.9.12"
  }
 },
 "nbformat": 4,
 "nbformat_minor": 4
}
