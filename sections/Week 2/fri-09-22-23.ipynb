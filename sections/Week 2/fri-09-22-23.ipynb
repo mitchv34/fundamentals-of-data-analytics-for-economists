{
 "cells": [
  {
   "cell_type": "markdown",
   "id": "9738c73d-7710-429b-aa05-0bd783a26083",
   "metadata": {},
   "source": [
    "# Discussion Section \\# 2 : Iterables and Conditionals\n",
    "\n",
    "Mitchell Valdes\n",
    "\n",
    "# Introduction\n",
    "\n",
    "-   **files needed** = None\n",
    "\n",
    "# Iterables\n",
    "\n",
    "## Lists\n",
    "\n",
    "-   Lists are a collection of items that are ordered and changeable.\n",
    "-   Lists are written with square brackets."
   ]
  },
  {
   "cell_type": "code",
   "execution_count": 1,
   "id": "5fbad647-1ba2-4154-9b4c-3e8898c0eb44",
   "metadata": {},
   "outputs": [
    {
     "name": "stdout",
     "output_type": "stream",
     "text": [
      "cherry\n",
      "['1', 'apple']\n",
      "orange\n"
     ]
    }
   ],
   "source": [
    "# Example of a list\n",
    "list1 = [\"apple\", \"banana\", \"cherry\", 1 , 2, True, [\"1\", \"apple\"]]\n",
    "\n",
    "# We can access elements of a list using the index (starting at 0)\n",
    "print(list1[2])\n",
    "\n",
    "# Note that the last element of the list is a list itself\n",
    "print(list1[-1])\n",
    "\n",
    "# We can add elements to the list using the append method\n",
    "list1.append(\"orange\")\n",
    "print(list1[-1])"
   ]
  },
  {
   "cell_type": "code",
   "execution_count": 3,
   "id": "a54d9277-de6f-49c5-83ad-52b79555e687",
   "metadata": {},
   "outputs": [
    {
     "name": "stdout",
     "output_type": "stream",
     "text": [
      "['orange', 'banana', 'cherry', 1, 2, True, ['1', 'apple'], 'orange']\n"
     ]
    }
   ],
   "source": [
    "list1[0] = \"orange\"\n",
    "\n",
    "print(list1)"
   ]
  },
  {
   "cell_type": "code",
   "execution_count": 4,
   "id": "c726e629-8bdf-44f6-946d-db270e13694d",
   "metadata": {},
   "outputs": [
    {
     "data": {
      "text/plain": [
       "['orange', 'banana', 'cherry', 1, 2, True, ['1', 'apple'], 'orange', 34]"
      ]
     },
     "execution_count": 4,
     "metadata": {},
     "output_type": "execute_result"
    }
   ],
   "source": [
    "list1.append(34)\n",
    "\n",
    "list1"
   ]
  },
  {
   "cell_type": "markdown",
   "id": "c351f149-59ea-45de-982e-1501b1f2de37",
   "metadata": {},
   "source": [
    "## Tuples\n",
    "\n",
    "-   Tuples are a collection of items that are ordered and unchangeable.\n",
    "-   Tuples are written with round brackets."
   ]
  },
  {
   "cell_type": "code",
   "execution_count": 5,
   "id": "5bd0dc6f-b497-4293-be5f-b74b5ed8febd",
   "metadata": {},
   "outputs": [
    {
     "name": "stdout",
     "output_type": "stream",
     "text": [
      "cherry\n"
     ]
    }
   ],
   "source": [
    "# Example of a tuple\n",
    "tuple1 = (\"apple\", \"banana\", \"cherry\", 1 , 2, True, [\"1\", \"apple\"])\n",
    "\n",
    "# We can access elements of a tuple using the index (starting at 0)\n",
    "print(tuple1[2])"
   ]
  },
  {
   "cell_type": "markdown",
   "id": "80697251-678b-471d-92dd-f0bf9adae917",
   "metadata": {},
   "source": [
    ". . .\n",
    "\n",
    "-   If we try to change an element of a tuple, we will get an error."
   ]
  },
  {
   "cell_type": "code",
   "execution_count": 6,
   "id": "13e09f2e-c1ee-4b00-8b47-f655585d1069",
   "metadata": {},
   "outputs": [
    {
     "ename": "TypeError",
     "evalue": "'tuple' object does not support item assignment",
     "output_type": "error",
     "traceback": [
      "\u001b[0;31m---------------------------------------------------------------------------\u001b[0m",
      "\u001b[0;31mTypeError\u001b[0m                                 Traceback (most recent call last)",
      "Input \u001b[0;32mIn [6]\u001b[0m, in \u001b[0;36m<cell line: 1>\u001b[0;34m()\u001b[0m\n\u001b[0;32m----> 1\u001b[0m tuple1[\u001b[38;5;241m2\u001b[39m] \u001b[38;5;241m=\u001b[39m \u001b[38;5;124m\"\u001b[39m\u001b[38;5;124morange\u001b[39m\u001b[38;5;124m\"\u001b[39m\n",
      "\u001b[0;31mTypeError\u001b[0m: 'tuple' object does not support item assignment"
     ]
    }
   ],
   "source": [
    "tuple1[2] = \"orange\""
   ]
  },
  {
   "cell_type": "markdown",
   "id": "d9cf092f-2052-4877-8856-16aead516430",
   "metadata": {},
   "source": [
    "## Dictionary\n",
    "\n",
    "-   Dictionaries are a collection of items that are unordered,\n",
    "    changeable and indexed.\n",
    "-   Dictionaries are written with curly brackets."
   ]
  },
  {
   "cell_type": "code",
   "execution_count": 9,
   "id": "a95e9d1a-a3c2-491d-a50e-e20bf12cd242",
   "metadata": {},
   "outputs": [
    {
     "name": "stdout",
     "output_type": "stream",
     "text": [
      "Ford\n"
     ]
    }
   ],
   "source": [
    "# Example of a dictionary\n",
    "car1 = {\n",
    "  \"brand\": \"Ford\",\n",
    "  \"model\": \"Mustang\",\n",
    "  \"year\": 1964\n",
    "}\n",
    "\n",
    "# We can access elements of a dictionary using the key\n",
    "print(car1[\"brand\"])"
   ]
  },
  {
   "cell_type": "markdown",
   "id": "9ffc0e69-d5b2-4d40-a808-4ef769411136",
   "metadata": {},
   "source": [
    "## Dictionaries are mutable"
   ]
  },
  {
   "cell_type": "code",
   "execution_count": 10,
   "id": "29738412-53e6-4bed-9f62-d9b2ac42aefd",
   "metadata": {},
   "outputs": [
    {
     "name": "stdout",
     "output_type": "stream",
     "text": [
      "{'brand': 'Ford', 'model': 'Mustang', 'year': 2020, 'color': 'red', 'country': 'USA'}\n"
     ]
    }
   ],
   "source": [
    "# We can change the value of a key\n",
    "car1[\"year\"] = 2020\n",
    "\n",
    "# Or add a new key\n",
    "car1[\"color\"] = \"red\"\n",
    "\n",
    "car1[\"country\"] = \"USA\"\n",
    "\n",
    "print(car1)"
   ]
  },
  {
   "cell_type": "markdown",
   "id": "bd7831e1-8b7e-47c4-95fe-08187e20820d",
   "metadata": {},
   "source": [
    "## Retrieving Keys and Values\n",
    "\n",
    "-   We can retrieve the keys and values of a dictionary using the\n",
    "    `keys()` and `values()` methods."
   ]
  },
  {
   "cell_type": "code",
   "execution_count": 14,
   "id": "298fbfae-59b8-45d8-b754-e23048f77b3b",
   "metadata": {},
   "outputs": [
    {
     "name": "stdout",
     "output_type": "stream",
     "text": [
      "dict_keys(['brand', 'model', 'year', 'color', 'country'])\n"
     ]
    }
   ],
   "source": [
    "# Retrieve the keys of a dictionary\n",
    "print(car1.keys())"
   ]
  },
  {
   "cell_type": "markdown",
   "id": "d34c8634-7604-4da0-b36b-6c9b3ec7324b",
   "metadata": {},
   "source": [
    "# Conditionals\n",
    "\n",
    "## `if` statements\n",
    "\n",
    "-   `if` statements are used to check if a condition is true or false.\n",
    "-   `if` statements are written with the `if` keyword."
   ]
  },
  {
   "cell_type": "code",
   "execution_count": 17,
   "id": "23613dc6-94e2-448f-a3d1-780a61c451da",
   "metadata": {},
   "outputs": [],
   "source": [
    "# Example of an if statement\n",
    "VOTING_AGE = 18\n",
    "\n",
    "age = 17\n",
    "\n",
    "if age >= VOTING_AGE:\n",
    "    print(\"You are old enough to vote!\")"
   ]
  },
  {
   "cell_type": "markdown",
   "id": "212156fd-d128-404f-86f4-5757c792f0a7",
   "metadata": {},
   "source": [
    "## `else` statements\n",
    "\n",
    "-   `else` statements are used to execute code if the condition is\n",
    "    false.\n",
    "-   `else` statements are written with the `else` keyword."
   ]
  },
  {
   "cell_type": "code",
   "execution_count": 18,
   "id": "3bd3b318-bc6b-45b0-9222-5776118343a8",
   "metadata": {},
   "outputs": [
    {
     "name": "stdout",
     "output_type": "stream",
     "text": [
      "You are NOT old enough to vote!\n"
     ]
    }
   ],
   "source": [
    "# Complete the code below to print \n",
    "# \"You are not old enough to vote!\" \n",
    "# if the age is less than VOTING_AGE\n",
    "\n",
    "if age >= VOTING_AGE:\n",
    "    print(\"You are old enough to vote!\")\n",
    "else:\n",
    "    print(\"You are NOT old enough to vote!\")"
   ]
  },
  {
   "cell_type": "markdown",
   "id": "327711c5-8f89-4d40-a244-b7d41e32b67b",
   "metadata": {},
   "source": [
    "## More on conditionals: `elif`\n",
    "\n",
    "We covered the basics of comparisons and conditional statements in\n",
    "class. Let’s dig a bit deeper.\n",
    "\n",
    "We have seen code of the form\n",
    "\n",
    "``` python\n",
    "if statement:\n",
    "    'stuff to do if statement is true'\n",
    "else:\n",
    "    'stuff to do if statement is false'\n",
    "```\n",
    "\n",
    "## More on conditionals: `elif`\n",
    "\n",
    "What if our statement may have more than just two answers? We can use\n",
    "the `elif` (as in *else if*) construction."
   ]
  },
  {
   "cell_type": "code",
   "execution_count": 19,
   "id": "93bd35f0-8083-4023-86d7-e22bbb389704",
   "metadata": {},
   "outputs": [
    {
     "name": "stdout",
     "output_type": "stream",
     "text": [
      "2\n"
     ]
    }
   ],
   "source": [
    "status = 'jun'\n",
    "\n",
    "if status == 'fresh':\n",
    "    class_rank = 0\n",
    "elif status == 'soph':\n",
    "    class_rank = 1\n",
    "elif status == 'jun':\n",
    "    class_rank = 2\n",
    "else:\n",
    "    class_rank = 3\n",
    "    \n",
    "print(class_rank)"
   ]
  },
  {
   "cell_type": "markdown",
   "id": "8e3600ef-3d93-4510-a85b-8771471c8841",
   "metadata": {},
   "source": [
    "## \n",
    "\n",
    "Try changing `status` to ‘jun’. What happens?\n",
    "\n",
    "Now try changing `status` to ‘super senior’. What happens?\n",
    "\n",
    "The final `else` is the default value. If none of the preceding\n",
    "statements evaluate to `True` then the `else` clause is executed.\n",
    "\n",
    "-   You can have as many `elif`s as you like, but if you find yourself\n",
    "    writing lots of `elif`s you should spend a few minutes considering\n",
    "    other ways to implement your algorithm.\n",
    "-   You can leave off the final `else`, which would mean there is no\n",
    "    default value. You should be careful, though, because `class_rank`\n",
    "    is not defined for seniors. If you try to use it later, you will get\n",
    "    an error.\n",
    "-   Once an `if` or `elif` is found to be true, the rest of the code\n",
    "    block is skipped. In the example above, if `status=='fresh'` then\n",
    "    none of the `elif`s are checked and neither is the `else`. This is\n",
    "    the advantage of using `elif` statements rather than many if-else\n",
    "    statements. Using multiple `if` statements would lead to all four\n",
    "    conditions being checked separately, even if we are satisfied with\n",
    "    the first check.\n",
    "\n",
    "## More on conditionals: `elif`\n",
    "\n",
    "Are these equivalent?\n",
    "\n",
    "#### case 1\n",
    "\n",
    "``` python\n",
    "like = 0\n",
    "animal = \"puppy\"\n",
    "\n",
    "if animal == \"puppy\":\n",
    "    like = 1\n",
    "```\n",
    "\n",
    "#### case 2\n",
    "\n",
    "``` python\n",
    "animal = \"puppy\"\n",
    "\n",
    "if animal == \"puppy\":\n",
    "    like = 1\n",
    "else:\n",
    "    like = 0\n",
    "```\n",
    "\n",
    "If they’re equivalent, what are the pros/cons of each style?\n",
    "\n",
    "## Looking in collections: `in`\n",
    "\n",
    "`in` gives us an easy way to see if a value is contained in a\n",
    "collection."
   ]
  },
  {
   "cell_type": "code",
   "execution_count": 22,
   "id": "741fce2c-4e95-4120-8014-b6c6cdeda89b",
   "metadata": {},
   "outputs": [
    {
     "data": {
      "text/plain": [
       "False"
      ]
     },
     "execution_count": 22,
     "metadata": {},
     "output_type": "execute_result"
    }
   ],
   "source": [
    "names = ['kim', 'mitchell', 'bucky', 'barry', 'abe', 'hector', \"satyen\"]\n",
    "\n",
    "name_to_check = 'juan'\n",
    "\n",
    "# Use the `in` keyword to check if a name is in the list\n",
    "# Note that capitalization matters (how can we fix this?)\n",
    "\n",
    "name_to_check.lower() in names"
   ]
  },
  {
   "cell_type": "markdown",
   "id": "a74a83a5-3b76-40ff-b876-88c59eadb13d",
   "metadata": {},
   "source": [
    "## Looking in collections: `in`"
   ]
  },
  {
   "cell_type": "code",
   "execution_count": 27,
   "id": "bd265169-8a77-4ce9-83da-8ef0d78dfd7a",
   "metadata": {},
   "outputs": [
    {
     "name": "stdout",
     "output_type": "stream",
     "text": [
      "Mitchell works at UW as a TA\n"
     ]
    }
   ],
   "source": [
    "jobs = {'kim':'prof', \n",
    "        'mitchell':'TA', \n",
    "        'bucky':'mascot', \n",
    "        'barry':'football guy', 'abe':'president',\n",
    "        'hector':'biochemist',\n",
    "        'satyen':'TA'}\n",
    "\n",
    "employee = 'mitchell'\n",
    "\n",
    "# Complete the code below to check if Kim works at UW \n",
    "# and print the his job\n",
    "\n",
    "# Replace condition with the correct condition\n",
    "condition = employee in jobs.keys()\n",
    "\n",
    "if condition:\n",
    "    print(f\"{employee.title()} works at UW as a\", jobs[employee])\n",
    "else:\n",
    "    print(f\"{employee.title()} does not work at UW\")\n",
    "\n",
    "# Note pass is a keyword that does nothing. "
   ]
  },
  {
   "cell_type": "markdown",
   "id": "695ecc9e-2b5f-4bbd-8d73-2509b5fa2e14",
   "metadata": {},
   "source": [
    "## Boolean logic: `not`\n",
    "\n",
    "We have seen how to evaluate statements that return bool types. Things\n",
    "like\n",
    "\n",
    "``` python\n",
    "x = 10\n",
    "y = 3\n",
    "b = (x == y)\n",
    "```\n",
    "\n",
    "The `not` operator turns `False` into `True` and `True` into `False`. In\n",
    "mathematical terms, this is called *negation.*"
   ]
  },
  {
   "cell_type": "code",
   "execution_count": 29,
   "id": "5be71295-3539-4836-94f4-987400fafe2b",
   "metadata": {},
   "outputs": [
    {
     "name": "stdout",
     "output_type": "stream",
     "text": [
      "True\n"
     ]
    }
   ],
   "source": [
    "print(not False)"
   ]
  },
  {
   "cell_type": "markdown",
   "id": "cbf63f02-b847-4e43-91eb-a7741c958993",
   "metadata": {},
   "source": [
    "# Practice: Flow control\n",
    "\n",
    "## Question 1\n",
    "\n",
    "Write code that controls a car at a stoplight. The variable `light` can\n",
    "take values ‘green’, ‘yellow’, or ‘red’. Check the value of `light` and\n",
    "print out ‘go’, ‘prepare to stop’ and ‘stop’ as appropriate."
   ]
  },
  {
   "cell_type": "code",
   "execution_count": null,
   "id": "f8924d90-7108-4631-b9bd-54305145a438",
   "metadata": {},
   "outputs": [],
   "source": [
    "# Question 1\n",
    "\n",
    "light = 'red'\n",
    "\n",
    "if light == 'green':\n",
    "    print('Go!')\n",
    "elif light == 'yellow':\n",
    "    print('Slow down!')\n",
    "else:\n",
    "    print('Stop!')"
   ]
  },
  {
   "cell_type": "markdown",
   "id": "26536e23-7348-480d-a6f7-2455786cb802",
   "metadata": {},
   "source": [
    "## Question 2\n",
    "\n",
    "Without running any code, evaluate whether these statements are True or\n",
    "False.\n",
    "\n",
    "    1. `3 > 2 > -1`   \n",
    "    2. `(3 > 2) > -1` \n",
    "    3. `'bill' != 'Bill'` \n",
    "    4. `not ('bill' != 'Bill')`\n",
    "    5. `(3<2) or not (2>3)`   \n",
    "\n",
    "### Answers\n",
    "\n",
    "    1. True (3 > 2 and 2 > -1)\n",
    "    2. False (3 > 2 is True, so True > -1 is False)\n",
    "    3. True (lowercase 'b' is not equal to uppercase 'B')\n",
    "    4. False (not True is False)\n",
    "    5. True (False or not False is True)"
   ]
  },
  {
   "cell_type": "markdown",
   "id": "d8fea275",
   "metadata": {},
   "source": [
    "\n",
    "## Question 3\n",
    "\n",
    "Below is the text of the Gettysburg Address. Write code that checks\n",
    "whether each phrase in\n",
    "\n",
    "``` python\n",
    "phrases = ['last full measure', 'of the people, by the people', 'four score and seven']\n",
    "```\n",
    "\n",
    "is in the Address. If the phrase is in the Address, then print out: Abe\n",
    "said ‘{phrase}.’ If not, then print out: Abe did not say ‘{phrase}’.\n",
    "\n",
    "Where you replace {phrase} with the phrase you are checking. Notice that\n",
    "the phrase is printed out with single quotation marks around it.\n",
    "\n",
    "\\[Hint: A string is a collection, like a list or a dict. \\]"
   ]
  },
  {
   "cell_type": "code",
   "execution_count": null,
   "id": "c0465441-fb2f-4a77-968d-aa77fd69fb13",
   "metadata": {},
   "outputs": [],
   "source": [
    "getty = \"\"\"\n",
    "    Four score and seven years ago our fathers brought forth on this continent, a new nation, \n",
    "    conceived in Liberty, and dedicated to the proposition that all men are created equal.\n",
    "    Now we are engaged in a great civil war, testing whether that nation, or any nation so conceived\n",
    "    and so dedicated, can long endure. We are met on a great battle-field of that war. We have come to \n",
    "    dedicate a portion of that field, as a final resting place for those who here gave their lives \n",
    "    that that nation might live. It is altogether fitting and proper that we should do this.\n",
    "    But, in a larger sense, we can not dedicate we can not consecrate we can not hallow—this ground. \n",
    "    The brave men, living and dead, who struggled here, have consecrated it, far above our poor power \n",
    "    to add or detract. The world will little note, nor long remember what we say here, but it can never \n",
    "    forget what they did here. It is for us the living, rather, to be dedicated here to the unfinished work \n",
    "    which they who fought here have thus far so nobly advanced. It is rather for us to be here dedicated to the \n",
    "    great task remaining before us that from these honored dead we take increased devotion to that cause for \n",
    "    which they gave the last full measure of devotion that we here highly resolve that \n",
    "    these dead shall not have died in vain that this nation, under God, shall have a new birth of \n",
    "    freedom and that government of the people, by the people, for the people, shall not perish from the earth.\n",
    "    \"\"\""
   ]
  },
  {
   "cell_type": "code",
   "execution_count": null,
   "id": "480ea530-5320-4934-8cba-7f02e183682a",
   "metadata": {},
   "outputs": [],
   "source": [
    "# Question 3\n",
    "#| echo: true\n",
    "phrases = ['last full measure', 'of the people, by the people', 'four score and seven']"
   ]
  },
  {
   "cell_type": "code",
   "execution_count": null,
   "id": "49d3eeeb",
   "metadata": {},
   "outputs": [],
   "source": [
    "for phrase in phrases:\n",
    "    if phrase in getty:\n",
    "        print(f\"{phrase} is in the Gettysburg Address\")"
   ]
  },
  {
   "cell_type": "markdown",
   "id": "7ac819c4-014d-4c85-a8af-20a134d3fd2a",
   "metadata": {},
   "source": [
    "## Question 4\n",
    "\n",
    "Here is a tweet:"
   ]
  },
  {
   "cell_type": "code",
   "execution_count": 30,
   "id": "3fa43dee-a3f9-4db7-807c-6f28c0179534",
   "metadata": {},
   "outputs": [],
   "source": [
    "tweet = \"\"\"\n",
    "#SalvadorDali The art of Salvador Dali never ceases to amaze me.\n",
    "His surrealism is truly one of a kind. \n",
    "If you're ever in NYC, make sure to check out the Dali exhibit at\n",
    "@museumofmodernart! 🎨👨‍🎨 #art #surrealism #SalvadorDali\n",
    "\"\"\""
   ]
  },
  {
   "cell_type": "markdown",
   "id": "67759933-e714-49bb-b6c3-fb36dac7cd99",
   "metadata": {},
   "source": [
    "## \n",
    "\n",
    "-   We want to identify the hashtags and mentions in the tweet. Hashtags\n",
    "    are words that start with a `#` and mentions are words that start\n",
    "    with a `@`.\n",
    "\n",
    "-   We can use the `split()` method to split the tweet into a list of\n",
    "    words."
   ]
  },
  {
   "cell_type": "code",
   "execution_count": 31,
   "id": "d474a205-d132-4445-9629-112ad07f3f4b",
   "metadata": {},
   "outputs": [
    {
     "name": "stdout",
     "output_type": "stream",
     "text": [
      "['#SalvadorDali', 'The', 'art', 'of', 'Salvador', 'Dali', 'never', 'ceases', 'to', 'amaze', 'me.', 'His', 'surrealism', 'is', 'truly', 'one', 'of', 'a', 'kind.', 'If', \"you're\", 'ever', 'in', 'NYC,', 'make', 'sure', 'to', 'check', 'out', 'the', 'Dali', 'exhibit', 'at', '@museumofmodernart!', '🎨👨\\u200d🎨', '#art', '#surrealism', '#SalvadorDali']\n"
     ]
    }
   ],
   "source": [
    "# Split the tweet into a list of words\n",
    "words = tweet.split()\n",
    "print(words)"
   ]
  },
  {
   "cell_type": "markdown",
   "id": "4acbef59-a7a6-42c6-98d6-06c50f8a5109",
   "metadata": {},
   "source": [
    "## \n",
    "\n",
    "Complete the code below to print out the hashtags and mentions in the\n",
    "tweet.\n",
    "\n",
    "If the workd is a hashtag, print out: **Hashtag: {word}**\n",
    "\n",
    "If the word is a mention, print out: **Mention: {word}**"
   ]
  },
  {
   "cell_type": "code",
   "execution_count": 32,
   "id": "6c5d4db8-4114-43a2-9eb0-945a347732fb",
   "metadata": {},
   "outputs": [
    {
     "name": "stdout",
     "output_type": "stream",
     "text": [
      "Hashtag: #SalvadorDali\n",
      "Mention: @museumofmodernart!\n",
      "Hashtag: #art\n",
      "Hashtag: #surrealism\n",
      "Hashtag: #SalvadorDali\n"
     ]
    }
   ],
   "source": [
    "# Iterate through the words in the tweet\n",
    "# We are using a for loop, we will cover this in the next discussion section\n",
    "for word in words:\n",
    "    if word[0] == \"#\":\n",
    "        print(f\"Hashtag: {word}\")\n",
    "    elif word[0] == \"@\":\n",
    "        print(f\"Mention: {word}\")"
   ]
  },
  {
   "attachments": {
    "dali_painting.jpeg": {
     "image/jpeg": "[encoded data removed]"
    }
   },
   "cell_type": "markdown",
   "id": "cba274f7-167d-406b-a09b-aa80c94abc30",
   "metadata": {},
   "source": [
    "# Fin\n",
    "\n",
    "![](attachment:dali_painting.jpeg)"
   ]
  }
 ],
 "metadata": {
  "kernelspec": {
   "display_name": "Python 3 (ipykernel)",
   "language": "python",
   "name": "python3"
  },
  "language_info": {
   "codemirror_mode": {
    "name": "ipython",
    "version": 3
   },
   "file_extension": ".py",
   "mimetype": "text/x-python",
   "name": "python",
   "nbconvert_exporter": "python",
   "pygments_lexer": "ipython3",
   "version": "3.9.12"
  }
 },
 "nbformat": 4,
 "nbformat_minor": 5
}
