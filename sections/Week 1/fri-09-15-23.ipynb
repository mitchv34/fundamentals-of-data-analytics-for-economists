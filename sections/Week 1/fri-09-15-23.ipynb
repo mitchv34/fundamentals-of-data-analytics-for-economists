{
 "cells": [
  {
   "cell_type": "markdown",
   "id": "d988a434-3117-4de5-b759-bfa6b8a2afb6",
   "metadata": {},
   "source": [
    "# Discussion Section \\# 1 : Basics of Python\n",
    "\n",
    "Mitchell Valdes\n",
    "\n",
    "# Introduction\n",
    "\n",
    "# Writing good code\n",
    "\n",
    "-   **Goal:** Enable meaningful data manipulation, not become coding\n",
    "    experts.\n",
    "-   **Definition:** Good code is easily understandable by humans.\n",
    "-   **Python’s Strength:** Inherent readability.\n",
    "\n",
    "## Specifics\n",
    "\n",
    "-   **Clarity:** Code should be clear and concise.\n",
    "-   **Readability:** Easy to follow logic and structure.\n",
    "-   **Simplicity:** Avoid unnecessary complexity.\n",
    "-   **Consistency:** Maintain a uniform coding style.\n",
    "-   **Comments:** Use comments for clarity when needed.\n",
    "-   **Modularity:** Divide code into reusable modules.\n",
    "-   **Error Handling:** Include error-handling mechanisms.\n",
    "-   **Remember:** Our aim is to leverage Python for data tasks\n",
    "    effectively.\n",
    "\n",
    "## Python Zen"
   ]
  },
  {
   "cell_type": "code",
   "execution_count": 1,
   "id": "66dc26eb-f2a3-403f-9453-57a116ae0c2e",
   "metadata": {},
   "outputs": [
    {
     "name": "stdout",
     "output_type": "stream",
     "text": [
      "The Zen of Python, by Tim Peters\n",
      "\n",
      "Beautiful is better than ugly.\n",
      "Explicit is better than implicit.\n",
      "Simple is better than complex.\n",
      "Complex is better than complicated.\n",
      "Flat is better than nested.\n",
      "Sparse is better than dense.\n",
      "Readability counts.\n",
      "Special cases aren't special enough to break the rules.\n",
      "Although practicality beats purity.\n",
      "Errors should never pass silently.\n",
      "Unless explicitly silenced.\n",
      "In the face of ambiguity, refuse the temptation to guess.\n",
      "There should be one-- and preferably only one --obvious way to do it.\n",
      "Although that way may not be obvious at first unless you're Dutch.\n",
      "Now is better than never.\n",
      "Although never is often better than *right* now.\n",
      "If the implementation is hard to explain, it's a bad idea.\n",
      "If the implementation is easy to explain, it may be a good idea.\n",
      "Namespaces are one honking great idea -- let's do more of those!\n"
     ]
    }
   ],
   "source": [
    "import this"
   ]
  },
  {
   "cell_type": "markdown",
   "id": "4e36faaa-f200-44a3-80da-33629263b7d2",
   "metadata": {},
   "source": [
    "## Style Guide\n",
    "\n",
    "**Python Style Guide:\n",
    "[PEP-8](https://www.python.org/dev/peps/pep-0008)**\n",
    "\n",
    "-   Developed by Python’s core developers.\n",
    "-   Aims to enhance code readability.\n",
    "-   Encourages consistent coding practices.\n",
    "\n",
    ". . .\n",
    "\n",
    "**Our Emphasis:**\n",
    "\n",
    "-   **PEP-8 Awareness:** Be familiar with the guidelines.\n",
    "-   **Prioritize Readability:** Focus on making code easy to read.\n",
    "-   **Don’t Obsess Over Style:** Don’t stress excessively.\n",
    "-   **Key Themes:** Emphasize important style principles.\n",
    "\n",
    "## More on Style\n",
    "\n",
    "1.  Limit the length of a line of code to 79 characters. Having to\n",
    "    scroll right to read a line of code is distracting. Some text\n",
    "    editors can display a line down the screen to mark the ‘edge.’\n",
    "\n",
    "2.  Use blank lines to group related blocks of code.\n",
    "\n",
    "3.  Put a space before and after assignment `=` and comparisons `==`,\n",
    "    `!=`, `<`, `<`.\n",
    "\n",
    "4.  Put a space after a comma.\n",
    "\n",
    "## More on Style\n",
    "\n",
    "**Example:** Bad Style"
   ]
  },
  {
   "cell_type": "code",
   "execution_count": null,
   "id": "1b198e73-0036-464f-86e6-acbec1c42f8c",
   "metadata": {},
   "outputs": [],
   "source": [
    "# Example of point 3.\n",
    "x=1+5\n",
    "\n",
    "if x<10:print(x)\n",
    "    \n",
    "# Example of point 4 (and point 3).\n",
    "print('The value of x is',x)\n",
    "\n",
    "x_list = [1,3,6,9]\n",
    "\n",
    "# Example of point 1.\n",
    "\"This is a very long string that should be wrapped across multiple lines. In its current form, it is very difficult to read.\""
   ]
  },
  {
   "cell_type": "markdown",
   "id": "cf4976e4-555f-4bb3-a532-eb305f839c27",
   "metadata": {},
   "source": [
    "**Example:** Good Style"
   ]
  },
  {
   "cell_type": "code",
   "execution_count": null,
   "id": "36589b95-fa8a-45d6-91f1-e52e0a5fb096",
   "metadata": {},
   "outputs": [],
   "source": [
    "# Examples of point 3.\n",
    "x = 1 + 5\n",
    "\n",
    "if x < 10:\n",
    "    print(x)\n",
    "    x + 1\n",
    "\n",
    "# Here we are outside If\n",
    "\n",
    "    \n",
    "# Examples of point 4 (and point 3).\n",
    "print('The value of x is', x)\n",
    "\n",
    "x_list = [1, 3, 6, 9]\n",
    "\n",
    "# Example of point 1.\n",
    "\"\"\"\n",
    "This is a very long string that we are \n",
    "going to wrap across multiple lines.\n",
    "In its current form, it's not too difficult to read.\n",
    "\"\"\""
   ]
  },
  {
   "cell_type": "markdown",
   "id": "a6f2c113-9235-49f9-b5e6-50965141b68e",
   "metadata": {},
   "source": [
    "**Note** that both of these code blocks are valid Python code. The\n",
    "second block is just easier to read.\n",
    "\n",
    "## Comments\n",
    "\n",
    "1.  Use comments when needed. Do not comment on the trivial.\n",
    "2.  Comments should be complete sentences. Capitalize the first letter.\n",
    "    Use a period at the end.\n",
    "3.  Use a comment on the line before code rather than to the right of\n",
    "    the code.\n",
    "4.  Use docstrings whenever you write a function. This rule will make\n",
    "    more sense once we have introduced functions next week.\n",
    "\n",
    "**Example:**"
   ]
  },
  {
   "cell_type": "code",
   "execution_count": null,
   "id": "1c93cb32-2935-4a34-98be-fe5acb3d92ba",
   "metadata": {},
   "outputs": [],
   "source": [
    "# Examples of point 1.\n",
    "\n",
    "# Add 1 to x.   <-- No! This is obvious.\n",
    "x = x + 1\n",
    "\n",
    "# Examples of point 3.\n",
    "# This is a comment on the line before the code.\n",
    "x += 1  # This is a comment to the right of the code."
   ]
  },
  {
   "cell_type": "markdown",
   "id": "24952d3f-9e17-4d84-a262-4a208adac3a0",
   "metadata": {},
   "source": [
    "## Naming conventions\n",
    "\n",
    "Different people, languages, and businesses use different naming\n",
    "conventions. The key here is to be consistent.\n",
    "\n",
    "1.  I use all lower case letters for variables and functions and I use\n",
    "    underscores `_` to make the names more readable.\n",
    "2.  Use all capital letters to denote a constant value.\n",
    "3.  Try to make function and variable names self-documenting.\n",
    "\n",
    "## Naming conventions\n",
    "\n",
    "**Example:** Bad Style"
   ]
  },
  {
   "cell_type": "code",
   "execution_count": 2,
   "id": "6212d40b-573f-4843-b1e7-26ed34a3e54e",
   "metadata": {},
   "outputs": [
    {
     "name": "stdout",
     "output_type": "stream",
     "text": [
      "Alice income is $46 while US GDP is $23.32 trillion\n"
     ]
    }
   ],
   "source": [
    "x = \"Alice\"\n",
    "y = 46\n",
    "z = 23.32 \n",
    "\n",
    "print(f\"{x} income is ${y} while US GDP is ${z} trillion\")"
   ]
  },
  {
   "cell_type": "markdown",
   "id": "8eee6237-a816-4965-81a0-4feb29fc1ba2",
   "metadata": {},
   "source": [
    "**Example:** Good Style"
   ]
  },
  {
   "cell_type": "code",
   "execution_count": null,
   "id": "8324fcdb-eb2d-4f33-856f-44b57a6ef901",
   "metadata": {},
   "outputs": [],
   "source": [
    "name = \"Alice\"\n",
    "income = 46\n",
    "\n",
    "USGDP = 23.32\n",
    "\n",
    "print(f\"{name} income is ${income} while US GDP is ${USGDP} trillion\")"
   ]
  },
  {
   "cell_type": "markdown",
   "id": "21c574ae-009e-4b64-8b9a-e0d78d908300",
   "metadata": {},
   "source": [
    "## Practice: Writing good code\n",
    "\n",
    "Fix up the code below."
   ]
  },
  {
   "cell_type": "code",
   "execution_count": 4,
   "id": "899fbec6-a043-4075-9fe3-910149ffd3c6",
   "metadata": {},
   "outputs": [
    {
     "name": "stdout",
     "output_type": "stream",
     "text": [
      "The total wage bill is 2928.1000000000004\n"
     ]
    }
   ],
   "source": [
    "# Everyone's hours\n",
    "hrsworked_Bob = 37\n",
    "hrsworked_Alice = 42\n",
    "hrsworked_Clarice = 45.6\n",
    "\n",
    "WAGE = 23.5000   \n",
    "\n",
    "total_wages = (hrsworked_Bob + hrsworked_Alice  + hrsworked_Clarice) * WAGE\n",
    "\n",
    "print('The total wage bill is', x)"
   ]
  },
  {
   "cell_type": "markdown",
   "id": "a1c0581d-f12b-46b9-a343-b1741496b536",
   "metadata": {
    "jp-MarkdownHeadingCollapsed": true,
    "tags": []
   },
   "source": [
    "# String formatting\n",
    "\n",
    "We work with text a lot:\n",
    "\n",
    "-   We print words and numbers to the screen and to files.\n",
    "-   We add text to figures to label axes and call out interesting\n",
    "    observations.\n",
    "-   We analyze text as data.\n",
    "\n",
    "## String formatting\n",
    "\n",
    "-   Next we will learn the basics of string formatting (or string\n",
    "    interpolation).\n",
    "-   String formatting is a way to insert values into a string.\n",
    "-   String formatting can get very sophisticated, but we need only a few\n",
    "    simple things. As usual, you can always Google for ‘python string\n",
    "    format’ for more.\n",
    "\n",
    "## Simplest way: Strign concatenation\n",
    "\n",
    "-   In python, we can concatenate strings using the `+` operator.\n",
    "-   We can also concatenate strings with other data types, but we need\n",
    "    to convert the other data type to a string first.\n",
    "\n",
    "## Example: String concatenation\n",
    "\n",
    "This code will produce an error. Why?"
   ]
  },
  {
   "cell_type": "code",
   "execution_count": 7,
   "id": "4fbfc8f0-b928-4e28-9590-13f5c006f5a5",
   "metadata": {},
   "outputs": [
    {
     "data": {
      "text/plain": [
       "'This class is fun'"
      ]
     },
     "execution_count": 7,
     "metadata": {},
     "output_type": "execute_result"
    }
   ],
   "source": [
    "string_1 = \"This class\"\n",
    "string_2 = \"is fun\"\n",
    "\n",
    "string_1 + \" \" + string_2"
   ]
  },
  {
   "cell_type": "code",
   "execution_count": 9,
   "id": "c8a3b43d-05c7-405c-8e58-4baac1c4a623",
   "metadata": {},
   "outputs": [
    {
     "name": "stdout",
     "output_type": "stream",
     "text": [
      "His name is Pedro and he is 23 years old.\n"
     ]
    }
   ],
   "source": [
    "name = \"Pedro\"\n",
    "age = \"23\"\n",
    "print(\"His name is \" + name + \" and he is \" + age + \" years old.\")"
   ]
  },
  {
   "cell_type": "markdown",
   "id": "edea53ec-da7a-456c-ba05-9866337fef3a",
   "metadata": {},
   "source": [
    "How can we fix it?\n",
    "\n",
    ". . ."
   ]
  },
  {
   "cell_type": "code",
   "execution_count": 10,
   "id": "e02acf87-2296-47c4-827b-b6c2cfe5f791",
   "metadata": {},
   "outputs": [
    {
     "name": "stdout",
     "output_type": "stream",
     "text": [
      "His name is Pedro and he makes $100000000000000 per year.\n"
     ]
    }
   ],
   "source": [
    "income = 100000000000000\n",
    "print(\"His name is \" + name + \" and he makes $\" + str(income) + \" per year.\")"
   ]
  },
  {
   "cell_type": "code",
   "execution_count": 11,
   "id": "67d9b65d-744b-416a-b045-f942a1f31cad",
   "metadata": {},
   "outputs": [
    {
     "data": {
      "text/plain": [
       "int"
      ]
     },
     "execution_count": 11,
     "metadata": {},
     "output_type": "execute_result"
    }
   ],
   "source": [
    "type(income)"
   ]
  },
  {
   "cell_type": "code",
   "execution_count": 12,
   "id": "fe58930f-b166-41e8-bca0-c97eee4f132a",
   "metadata": {},
   "outputs": [
    {
     "data": {
      "text/plain": [
       "str"
      ]
     },
     "execution_count": 12,
     "metadata": {},
     "output_type": "execute_result"
    }
   ],
   "source": [
    "income_str = str(income)\n",
    "type(income_str)"
   ]
  },
  {
   "cell_type": "markdown",
   "id": "b7cb350f-2823-4d0d-b799-7754c1e969eb",
   "metadata": {},
   "source": [
    "The `str()` function converts the `income` variable to a string.\n",
    "\n",
    "## Ways to format strings\n",
    "\n",
    "There are three ways in which Python can format strings for us:\n",
    "\n",
    "-   Old way: `%` operator\n",
    "\n",
    "``` python\n",
    "text = \"The value of x is %d\" % x\n",
    "```\n",
    "\n",
    "-   New way: `.format()` method\n",
    "\n",
    "``` python\n",
    "text = \"The value of x is {value}\".format(value = x)\n",
    "```\n",
    "\n",
    "-   Newest way: `f-string`s\n",
    "\n",
    "``` python\n",
    "text = f\"The value of x is {x}\"\n",
    "```\n",
    "\n",
    "Note that in all three cases Python handles the conversion of `x` to a\n",
    "string for us.\n",
    "\n",
    "## Ways to format strings"
   ]
  },
  {
   "cell_type": "code",
   "execution_count": null,
   "id": "a4fa6652-09ef-4fe6-8c2e-7893021d2b5d",
   "metadata": {},
   "outputs": [],
   "source": [
    "# the following all produce the same output\n",
    "food = 'apple'\n",
    "name = 'Bob'\n",
    "\n",
    "# old method \n",
    "print('%s had a(n) %s for breakfast' % (name, food)) "
   ]
  },
  {
   "cell_type": "markdown",
   "id": "def3fdfc-bf42-48ed-a1a5-fd7542078750",
   "metadata": {},
   "source": [
    "I prefer the `f-string` method. It is the newest and easiest to read.\n",
    "\n",
    "``` python\n",
    "#| echo: true\n",
    "# the following all produce the same output\n",
    "food = 'apple'\n",
    "name = 'Bob'\n",
    "\n",
    "# old method \n",
    "print('%s had a(n) %s for breakfast' % (name, food)) \n",
    "\n",
    "# .format() method\n",
    "print('{person} had a(n) {item} for breakfast'.format(\n",
    "person = name, item = food)) \n",
    "\n",
    "# \"f-string\" method \n",
    "print(f'{name} had a(n) {food} for breakfast') \n",
    "```\n",
    "\n",
    "## Formatting floats\n",
    "\n",
    "-   We display a decimal value as percentage using the `x.yf` format\n",
    "    specifier. Where `x` is the total number of digits and `y` is the\n",
    "    number of digits after the decimal point."
   ]
  },
  {
   "cell_type": "code",
   "execution_count": 16,
   "id": "e09f9567-90c6-4f40-ac5d-f9a7b2adea2b",
   "metadata": {},
   "outputs": [
    {
     "name": "stdout",
     "output_type": "stream",
     "text": [
      "foo = 24.0\n"
     ]
    }
   ],
   "source": [
    "foo = 1/3\n",
    "# This is default print\n",
    "print(f'foo = {foo * 3 + 23}')"
   ]
  },
  {
   "cell_type": "markdown",
   "id": "9e255748-d910-4e0a-a8fb-d6bbc500cec5",
   "metadata": {},
   "source": [
    "## Practice: String formatting\n",
    "\n",
    "1.  What happens if the number is larger than the width we specify? Try\n",
    "    printing"
   ]
  },
  {
   "cell_type": "code",
   "execution_count": null,
   "id": "06dab61e-d920-46f1-af55-217f65ec4489",
   "metadata": {},
   "outputs": [],
   "source": [
    "# Question 1\n",
    "big_float = 123456789123456.7899"
   ]
  },
  {
   "cell_type": "markdown",
   "id": "638fed2a-3676-4200-89ef-6b881bbf5e44",
   "metadata": {},
   "source": [
    "to the screen with the format `5.2f`. What happened?\n",
    "\n",
    ". . ."
   ]
  },
  {
   "cell_type": "code",
   "execution_count": null,
   "id": "f6c5da62-3f41-48db-a062-81a179196bbf",
   "metadata": {},
   "outputs": [],
   "source": [
    "print(f\"big_float = {big_float:5,.2f}\")"
   ]
  },
  {
   "cell_type": "markdown",
   "id": "fa418527-b80f-498f-a1e5-9ea6ab580a74",
   "metadata": {},
   "source": [
    "## Practice: String formatting\n",
    "\n",
    "1.  We often express numbers in percentage terms. Experiment with the\n",
    "    `{position:4.2%}` format code (where the 4 and 2 are arbitrary\n",
    "    numbers). Print each of the following to the screen:\n",
    "    1.  `x = 0.03` as a percentage with 1 decimal place\n",
    "    2.  `y = 0.65297` as a percentage with 2 decimal places\n",
    "    3.  `z = 0.00056` as a percentage with 3 decimal places\n",
    "\n",
    ". . ."
   ]
  },
  {
   "cell_type": "code",
   "execution_count": null,
   "id": "dbb75200-c547-4207-987a-c13f6a6018fc",
   "metadata": {},
   "outputs": [],
   "source": [
    "x = 0.03\n",
    "print(f\"x = {x:4.2%}\")"
   ]
  },
  {
   "cell_type": "markdown",
   "id": "bad57a0c-b6d6-4c00-ab2e-1feb03613105",
   "metadata": {},
   "source": [
    "## Practice: String formatting\n",
    "\n",
    "1.  Suppose that we wanted our x, y, and z to line up on the decimal\n",
    "    place.\n",
    "\n",
    "03.000% <br> 65.30% <br> 00.056%\n",
    "\n",
    "Try out the `{value:06.2%}` code to add leading zeros.\n",
    "\n",
    ". . ."
   ]
  },
  {
   "cell_type": "code",
   "execution_count": null,
   "id": "8a33c697-854f-4992-a23b-b2f177e24f88",
   "metadata": {},
   "outputs": [],
   "source": [
    "print(f\"x = {x:06.2%}\")"
   ]
  },
  {
   "cell_type": "markdown",
   "id": "6275d60f-9968-45c4-b431-6ce675006f5a",
   "metadata": {},
   "source": [
    ". . . or"
   ]
  },
  {
   "cell_type": "code",
   "execution_count": null,
   "id": "85b9c50f-4bb6-468d-b080-eda17372170c",
   "metadata": {},
   "outputs": [],
   "source": [
    "print(f\"x = {x:06.2%}\\ny = {y:06.2%}\\nz = {z:06.2%}\")"
   ]
  }
 ],
 "metadata": {
  "kernelspec": {
   "display_name": "Python 3 (ipykernel)",
   "language": "python",
   "name": "python3"
  },
  "language_info": {
   "codemirror_mode": {
    "name": "ipython",
    "version": 3
   },
   "file_extension": ".py",
   "mimetype": "text/x-python",
   "name": "python",
   "nbconvert_exporter": "python",
   "pygments_lexer": "ipython3",
   "version": "3.9.12"
  }
 },
 "nbformat": 4,
 "nbformat_minor": 5
}
