{
 "cells": [
  {
   "cell_type": "markdown",
   "metadata": {},
   "source": [
    "## Extra practice\n",
    "\n",
    "This notebook does not cover new material, but gives you a chance to practice some more. \n",
    "\n",
    "There are other (probably better) ways to write this code than I wrote it. If you did something cool, let me know!"
   ]
  },
  {
   "cell_type": "markdown",
   "metadata": {},
   "source": [
    "1. Write a function that computes the [Fibonacci series](https://en.wikipedia.org/wiki/Fibonacci_number) and prints them out. (I named my function `fibber`. That's not very self-documenting. I bet you can do better.) The series is defined as \n",
    "\n",
    "$$F_0=1, \\qquad F_1 = 1, \\qquad F_n = F_{n-1} + F_{n-2}$$\n",
    "\n",
    "   That is, once we get past the first two elements, we form the next element by adding together the previous two. The first few numbers are: 0, 1, 1, 2, 3, 5, 8, 13, 21, ...\n",
    "   \n",
    "   The function argument is the number of elements of the series to print. Print out the series of numbers to the screen, separated by commas all on the same line. Test by printing out the first 10 numbers. \n",
    "   ```python\n",
    "fibber(10)\n",
    "```\n",
    "   \n",
    "   Your output should look like: 0, 1, 1, 2, 3, 5, 8, 13, 21, 34\n",
    "   \n",
    "\\[There are lots of examples of this code online. Feel free to consult it, but first give it a try yourself and struggle with it. That's how we get better.\\]"
   ]
  },
  {
   "cell_type": "code",
   "execution_count": 1,
   "metadata": {},
   "outputs": [],
   "source": [
    "# Question 1\n",
    "\n",
    "def fibber(n):\n",
    "    \"\"\"\n",
    "    Compute the first n values of the Fibonacci series.\n",
    "    def\"\"\"\n",
    "    # Initialize the first two values. \n",
    "    f0, f1 = 0, 1\n",
    "    # Initialize the list of Fibonacci numbers.\n",
    "    fibs = [f0, f1]\n",
    "    # Compute the rest of the Fibonacci numbers.\n",
    "    for i in range(2, n):\n",
    "        fibs.append(fibs[i-2] + fibs[i-1])\n",
    "    return fibs"
   ]
  },
  {
   "cell_type": "code",
   "execution_count": 2,
   "metadata": {},
   "outputs": [
    {
     "data": {
      "text/plain": [
       "[0, 1, 1, 2, 3, 5, 8, 13, 21, 34]"
      ]
     },
     "execution_count": 2,
     "metadata": {},
     "output_type": "execute_result"
    }
   ],
   "source": [
    "# test case\n",
    "fibber(10)"
   ]
  },
  {
   "cell_type": "markdown",
   "metadata": {},
   "source": [
    "2. Write a new version of your function that, rather than print the numbers to the screen, returns a list with the first n numbers in the Fibonacci series. "
   ]
  },
  {
   "cell_type": "code",
   "execution_count": 5,
   "metadata": {},
   "outputs": [],
   "source": [
    "# Question 2\n",
    "\n",
    "def fibber_list(n):\n",
    "    \"\"\"\n",
    "    Compute the first n values of the Fibonacci series. Return in a list.\n",
    "    \"\"\"\n",
    "    # This creates an empty list that we can fill up.\n",
    "    fibs = []\n",
    "    \n",
    "    # Initialize the first two values. \n",
    "    f0, f1 = 0, 1\n",
    "        \n",
    "    # Compute the rest of the Fibonacci numbers.\n",
    "    for i in range(n):\n",
    "        fibs.append(f0)\n",
    "        f0, f1 = f1, f0 + f1\n",
    "    \n",
    "    return fibs"
   ]
  },
  {
   "cell_type": "code",
   "execution_count": 6,
   "metadata": {},
   "outputs": [
    {
     "data": {
      "text/plain": [
       "[0, 1, 1, 2, 3, 5, 8, 13, 21, 34]"
      ]
     },
     "execution_count": 6,
     "metadata": {},
     "output_type": "execute_result"
    }
   ],
   "source": [
    "fibber_list(10)"
   ]
  },
  {
   "cell_type": "markdown",
   "metadata": {},
   "source": [
    "3. Modify your function from question 2 to check that the argument is an integer that is greater than zero. If it is not, return a message demanding an integer. Check it by passing 1.61803 as an argument. "
   ]
  },
  {
   "cell_type": "code",
   "execution_count": 7,
   "metadata": {},
   "outputs": [],
   "source": [
    "# Question 3\n",
    "\n",
    "def fibber_list_err(n):\n",
    "    \"\"\"\n",
    "    Compute the first n values of the Fibonacci series. Return in a list.\n",
    "    \"\"\"\n",
    "    \n",
    "    if (n < 0) | (type(n) != int):\n",
    "        raise ValueError(\"n must be a positive integer\")\n",
    "\n",
    "    # This creates an empty list that we can fill up.\n",
    "    fibs = []\n",
    "    \n",
    "    # Initialize the first two values. \n",
    "    f0, f1 = 0, 1\n",
    "        \n",
    "    # Compute the rest of the Fibonacci numbers.\n",
    "    for i in range(n):\n",
    "        fibs.append(f0)\n",
    "        f0, f1 = f1, f0 + f1\n",
    "    \n",
    "    return fibs"
   ]
  },
  {
   "cell_type": "code",
   "execution_count": 8,
   "metadata": {},
   "outputs": [
    {
     "ename": "ValueError",
     "evalue": "n must be a positive integer",
     "output_type": "error",
     "traceback": [
      "\u001b[0;31m---------------------------------------------------------------------------\u001b[0m",
      "\u001b[0;31mValueError\u001b[0m                                Traceback (most recent call last)",
      "\u001b[1;32m/Users/mitchv34/Work/fundamentals-of-data-analytics-for-economists/sections/Week 3/extra_practice.ipynb Cell 10\u001b[0m line \u001b[0;36m<cell line: 1>\u001b[0;34m()\u001b[0m\n\u001b[0;32m----> <a href='vscode-notebook-cell:/Users/mitchv34/Work/fundamentals-of-data-analytics-for-economists/sections/Week%203/extra_practice.ipynb#X12sZmlsZQ%3D%3D?line=0'>1</a>\u001b[0m fibber_list_err(\u001b[39m1.61803\u001b[39;49m)\n",
      "\u001b[1;32m/Users/mitchv34/Work/fundamentals-of-data-analytics-for-economists/sections/Week 3/extra_practice.ipynb Cell 10\u001b[0m line \u001b[0;36mfibber_list_err\u001b[0;34m(n)\u001b[0m\n\u001b[1;32m      <a href='vscode-notebook-cell:/Users/mitchv34/Work/fundamentals-of-data-analytics-for-economists/sections/Week%203/extra_practice.ipynb#X12sZmlsZQ%3D%3D?line=3'>4</a>\u001b[0m \u001b[39m\"\"\"\u001b[39;00m\n\u001b[1;32m      <a href='vscode-notebook-cell:/Users/mitchv34/Work/fundamentals-of-data-analytics-for-economists/sections/Week%203/extra_practice.ipynb#X12sZmlsZQ%3D%3D?line=4'>5</a>\u001b[0m \u001b[39mCompute the first n values of the Fibonacci series. Return in a list.\u001b[39;00m\n\u001b[1;32m      <a href='vscode-notebook-cell:/Users/mitchv34/Work/fundamentals-of-data-analytics-for-economists/sections/Week%203/extra_practice.ipynb#X12sZmlsZQ%3D%3D?line=5'>6</a>\u001b[0m \u001b[39m\"\"\"\u001b[39;00m\n\u001b[1;32m      <a href='vscode-notebook-cell:/Users/mitchv34/Work/fundamentals-of-data-analytics-for-economists/sections/Week%203/extra_practice.ipynb#X12sZmlsZQ%3D%3D?line=7'>8</a>\u001b[0m \u001b[39mif\u001b[39;00m (n \u001b[39m<\u001b[39m \u001b[39m0\u001b[39m) \u001b[39m|\u001b[39m (\u001b[39mtype\u001b[39m(n) \u001b[39m!=\u001b[39m \u001b[39mint\u001b[39m):\n\u001b[0;32m----> <a href='vscode-notebook-cell:/Users/mitchv34/Work/fundamentals-of-data-analytics-for-economists/sections/Week%203/extra_practice.ipynb#X12sZmlsZQ%3D%3D?line=8'>9</a>\u001b[0m     \u001b[39mraise\u001b[39;00m \u001b[39mValueError\u001b[39;00m(\u001b[39m\"\u001b[39m\u001b[39mn must be a positive integer\u001b[39m\u001b[39m\"\u001b[39m)\n\u001b[1;32m     <a href='vscode-notebook-cell:/Users/mitchv34/Work/fundamentals-of-data-analytics-for-economists/sections/Week%203/extra_practice.ipynb#X12sZmlsZQ%3D%3D?line=10'>11</a>\u001b[0m \u001b[39m# This creates an empty list that we can fill up.\u001b[39;00m\n\u001b[1;32m     <a href='vscode-notebook-cell:/Users/mitchv34/Work/fundamentals-of-data-analytics-for-economists/sections/Week%203/extra_practice.ipynb#X12sZmlsZQ%3D%3D?line=11'>12</a>\u001b[0m fibs \u001b[39m=\u001b[39m []\n",
      "\u001b[0;31mValueError\u001b[0m: n must be a positive integer"
     ]
    }
   ],
   "source": [
    "fibber_list_err(1.61803)"
   ]
  },
  {
   "cell_type": "markdown",
   "metadata": {},
   "source": [
    "## Extra practice problem"
   ]
  },
  {
   "cell_type": "markdown",
   "metadata": {},
   "source": [
    "For a harder challenge...\n",
    "\n",
    "You have a tiny robot whose goal is to traverse a pile of books with different heights. The robot has a set `durability` that allows it to climb or fall a certain maximum height between books. That is, if the first book is height 1 and the second book height 4 (+3), a robot with durability 2 will stop after the first book. The same will happen if it is on a book of height 5 and meets a book of height 2 (-3).\n",
    "\n",
    "Your job is to output which book the robot is on when it stops, starting from either 0 or 1. You may safely assume that the height of the first book the robot is on will be equal to or less than the robot's durability.\n",
    "\n",
    "This challenge comes from the wonderful [code golf](https://codegolf.stackexchange.com/questions/242108/climbing-the-bookshelf) community on StackExchange!\n",
    "\n",
    "Test cases:\n",
    "\n",
    "```python\n",
    "books = [1, 1, 1], durability = 1 -> stop = 3\n",
    "books = [0, 1, 0], durability = 0 -> stop = 1\n",
    "books = [1, 2, 3, 2], durability = 1 -> stop = 4\n",
    "books = [1, 3, 4, 4, 0], durability = 2 -> stop = 4\n",
    "books = [1, 3, 4, 4, 0, 1], durability = 2 -> stop = 4\n",
    "```"
   ]
  },
  {
   "cell_type": "code",
   "execution_count": 20,
   "metadata": {},
   "outputs": [],
   "source": [
    "cases = [([1,1,1],1),([0,1,0],0),([1,2,3,2],1),\n",
    "         ([1,3,4,4,0],2),([1,3,4,4,0,1],2)]\n",
    "\n",
    "# a verbose method of doing this\n",
    "def robo_book(books, dur):\n",
    "    \n",
    "    for i in range(1, len(books)):\n",
    "        if abs(books[i] - books[i-1]) > dur:\n",
    "            return i\n",
    "    \n",
    "    # if we get here, we didn't find a book and we need to return the length of the list\n",
    "    return len(books)"
   ]
  },
  {
   "cell_type": "code",
   "execution_count": 21,
   "metadata": {},
   "outputs": [
    {
     "name": "stdout",
     "output_type": "stream",
     "text": [
      "Books: [1, 1, 1], Durability: 1, Stop: 3\n",
      "Books: [0, 1, 0], Durability: 0, Stop: 1\n",
      "Books: [1, 2, 3, 2], Durability: 1, Stop: 4\n",
      "Books: [1, 3, 4, 4, 0], Durability: 2, Stop: 4\n",
      "Books: [1, 3, 4, 4, 0, 1], Durability: 2, Stop: 4\n"
     ]
    }
   ],
   "source": [
    "for case in cases:\n",
    "    books = case[0]\n",
    "    dur = case[1]\n",
    "    stop = robo_book(books, dur)\n",
    "    print(f\"Books: {books}, Durability: {dur}, Stop: {stop}\")"
   ]
  },
  {
   "cell_type": "code",
   "execution_count": 22,
   "metadata": {},
   "outputs": [
    {
     "name": "stdout",
     "output_type": "stream",
     "text": [
      "the robot stops at book 3\n",
      "the robot stops at book 1\n",
      "the robot stops at book 4\n",
      "the robot stops at book 4\n",
      "the robot stops at book 4\n"
     ]
    }
   ],
   "source": [
    "# let's run it for all of our test cases\n",
    "for case in cases:\n",
    "    print('the robot stops at book {res}'.format(res = robo_book(case[0],case[1])))"
   ]
  }
 ],
 "metadata": {
  "kernelspec": {
   "display_name": "Python 3 (ipykernel)",
   "language": "python",
   "name": "python3"
  },
  "language_info": {
   "codemirror_mode": {
    "name": "ipython",
    "version": 3
   },
   "file_extension": ".py",
   "mimetype": "text/x-python",
   "name": "python",
   "nbconvert_exporter": "python",
   "pygments_lexer": "ipython3",
   "version": "3.9.12"
  }
 },
 "nbformat": 4,
 "nbformat_minor": 4
}
