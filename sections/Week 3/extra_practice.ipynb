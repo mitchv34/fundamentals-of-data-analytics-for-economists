{
 "cells": [
  {
   "cell_type": "markdown",
   "metadata": {},
   "source": [
    "## Extra practice\n",
    "\n",
    "This notebook does not cover new material, but gives you a chance to practice some more. \n",
    "\n",
    "There are other (probably better) ways to write this code than I wrote it. If you did something cool, let me know!"
   ]
  },
  {
   "cell_type": "markdown",
   "metadata": {},
   "source": [
    "1. Write a function that computes the [Fibonacci series](https://en.wikipedia.org/wiki/Fibonacci_number) and prints them out. (I named my function `fibber`. That's not very self-documenting. I bet you can do better.) The series is defined as \n",
    "\n",
    "$$F_0=1, \\qquad F_1 = 1, \\qquad F_n = F_{n-1} + F_{n-2}$$\n",
    "\n",
    "   That is, once we get past the first two elements, we form the next element by adding together the previous two. The first few numbers are: 0, 1, 1, 2, 3, 5, 8, 13, 21, ...\n",
    "   \n",
    "   The function argument is the number of elements of the series to print. Print out the series of numbers to the screen, separated by commas all on the same line. Test by printing out the first 10 numbers. \n",
    "   ```python\n",
    "fibber(10)\n",
    "```\n",
    "   \n",
    "   Your output should look like: 0, 1, 1, 2, 3, 5, 8, 13, 21, 34\n",
    "   \n",
    "\\[There are lots of examples of this code online. Feel free to consult it, but first give it a try yourself and struggle with it. That's how we get better.\\]"
   ]
  },
  {
   "cell_type": "code",
   "execution_count": null,
   "metadata": {},
   "outputs": [],
   "source": [
    "# Question 1\n",
    "\n",
    "def fibber(n):\n",
    "    \"\"\"\n",
    "    Compute the first n values of the Fibonacci series.\n",
    "    def\"\"\"\n",
    "    # Initialize the first two values. \n",
    "    f0, f1 = 0, 1\n",
    "        \n",
    "    # Your code here"
   ]
  },
  {
   "cell_type": "code",
   "execution_count": null,
   "metadata": {},
   "outputs": [],
   "source": [
    "# test case\n",
    "fibber(10)"
   ]
  },
  {
   "cell_type": "markdown",
   "metadata": {},
   "source": [
    "2. Write a new version of your function that, rather than print the numbers to the screen, returns a list with the first n numbers in the Fibonacci series. "
   ]
  },
  {
   "cell_type": "code",
   "execution_count": null,
   "metadata": {},
   "outputs": [],
   "source": [
    "# Question 2\n",
    "\n",
    "def fibber_list(n):\n",
    "    \"\"\"\n",
    "    Compute the first n values of the Fibonacci series. Return in a list.\n",
    "    \"\"\"\n",
    "    # This creates an empty list that we can fill up.\n",
    "    fibs = []\n",
    "    \n",
    "    # Initialize the first two values. \n",
    "    f0, f1 = 0, 1\n",
    "        \n",
    "    # Your code here"
   ]
  },
  {
   "cell_type": "code",
   "execution_count": null,
   "metadata": {},
   "outputs": [],
   "source": [
    "fibber_list(10)"
   ]
  },
  {
   "cell_type": "markdown",
   "metadata": {},
   "source": [
    "3. Modify your function from question 2 to check that the argument is an integer that is greater than zero. If it is not, return a message demanding an integer. Check it by passing 1.61803 as an argument. "
   ]
  },
  {
   "cell_type": "code",
   "execution_count": null,
   "metadata": {},
   "outputs": [],
   "source": [
    "# Question 3\n",
    "\n",
    "def fibber_list_err(n):\n",
    "    \"\"\"\n",
    "    Compute the first n values of the Fibonacci series. Return in a list.\n",
    "    \"\"\"\n",
    "    # Your code here"
   ]
  },
  {
   "cell_type": "code",
   "execution_count": null,
   "metadata": {},
   "outputs": [],
   "source": [
    "fibber_list_err(1.61803)"
   ]
  },
  {
   "cell_type": "markdown",
   "metadata": {},
   "source": [
    "## Extra practice problem"
   ]
  },
  {
   "cell_type": "markdown",
   "metadata": {},
   "source": [
    "For a harder challenge...\n",
    "\n",
    "You have a tiny robot whose goal is to traverse a pile of books with different heights. The robot has a set `durability` that allows it to climb or fall a certain maximum height between books. That is, if the first book is height 1 and the second book height 4 (+3), a robot with durability 2 will stop after the first book. The same will happen if it is on a book of height 5 and meets a book of height 2 (-3).\n",
    "\n",
    "Your job is to output which book the robot is on when it stops, starting from either 0 or 1. You may safely assume that the height of the first book the robot is on will be equal to or less than the robot's durability.\n",
    "\n",
    "This challenge comes from the wonderful [code golf](https://codegolf.stackexchange.com/questions/242108/climbing-the-bookshelf) community on StackExchange!\n",
    "\n",
    "Test cases:\n",
    "\n",
    "```python\n",
    "books = [1, 1, 1], durability = 1 -> stop = 3\n",
    "books = [0, 1, 0], durability = 0 -> stop = 1\n",
    "books = [1, 2, 3, 2], durability = 1 -> stop = 4\n",
    "books = [1, 3, 4, 4, 0], durability = 2 -> stop = 4\n",
    "books = [1, 3, 4, 4, 0, 1], durability = 2 -> stop = 4\n",
    "```"
   ]
  },
  {
   "cell_type": "code",
   "execution_count": null,
   "metadata": {},
   "outputs": [],
   "source": [
    "cases = [([1,1,1],1),([0,1,0],0),([1,2,3,2],1),\n",
    "         ([1,3,4,4,0],2),([1,3,4,4,0,1],2)]\n",
    "\n",
    "# a verbose method of doing this\n",
    "def robo_book(books, dur):\n",
    "    "
   ]
  },
  {
   "cell_type": "code",
   "execution_count": null,
   "metadata": {},
   "outputs": [],
   "source": [
    "# let's run it for all of our test cases\n",
    "for case in cases:\n",
    "    print('the robot stops at book {res}'.format(res = robo_book(case[0],case[1])))"
   ]
  }
 ],
 "metadata": {
  "language_info": {
   "name": "python"
  },
  "orig_nbformat": 4
 },
 "nbformat": 4,
 "nbformat_minor": 2
}
