{
  "cells": [
    {
      "cell_type": "markdown",
      "metadata": {},
      "source": [
        "# Discussion Section \\# 3 : Functions\n",
        "\n",
        "Mitchell Valdes\n",
        "\n",
        "## Introduction\n",
        "\n",
        "**files needed** = None\n",
        "\n",
        "This week we are working on\n",
        "\n",
        "1.  Keyword and default arguments in functions\n",
        "2.  General Python practiced\n",
        "\n",
        "## More on functions\n",
        "\n",
        "-   Writing functions is an important part of programming. You write the\n",
        "    code once, debug it and test it, and then use it whenever you need\n",
        "    to.\n",
        "\n",
        "-   We will also see situations later where we can extend the use of a\n",
        "    pandas function by giving it functions of our own to apply to\n",
        "    DataFrames. \\[More on that in a few weeks.\\]\n",
        "\n",
        "-   Let’s dig a bit deeper into functions.\n",
        "\n",
        "## Argument types\n",
        "\n",
        "A function can take inputs, which are called *arguments* in python and\n",
        "produce outputs. In class, we covered positional arguments. *Positional\n",
        "arguments* have to be passed to the function in the correct order."
      ],
      "id": "59282964-f576-4b6e-8637-25416e56f2c9"
    },
    {
      "cell_type": "code",
      "execution_count": null,
      "metadata": {},
      "outputs": [],
      "source": [
        "def divider(numerator, denominator):\n",
        "    \"\"\"\n",
        "    Divides numerator by denominator.  \n",
        "    \"\"\"\n",
        "    return numerator/denominator "
      ],
      "id": "b02b52e8-9c86-4585-a0bd-c27dd0284b53"
    },
    {
      "cell_type": "markdown",
      "metadata": {},
      "source": [
        "Here numerator = 5 and denominator = 10"
      ],
      "id": "8927c284-919b-461f-a9bd-c5e64c311b61"
    },
    {
      "cell_type": "code",
      "execution_count": null,
      "metadata": {},
      "outputs": [
        {
          "output_type": "stream",
          "name": "stdout",
          "text": [
            "0.5"
          ]
        }
      ],
      "source": [
        "divider(5, 10)"
      ],
      "id": "24585538-103c-47d1-bfca-acad2a12dec2"
    },
    {
      "cell_type": "markdown",
      "metadata": {},
      "source": [
        "## Keyword arguments\n",
        "\n",
        "A disadvantage of positional arguments is that you have to remember what\n",
        "order to pass the values to the function. For simple functions, this is\n",
        "not much to ask.\n",
        "\n",
        "We can also call a function using keyword arguments. *Keyword arguments*\n",
        "pass the name of the argument and the argument’s values.\n",
        "\n",
        "We can call the function divider using keyword arguments."
      ],
      "id": "2bc49443-1816-447d-b348-67869977c0ee"
    },
    {
      "cell_type": "code",
      "execution_count": null,
      "metadata": {},
      "outputs": [
        {
          "output_type": "stream",
          "name": "stdout",
          "text": [
            "0.5"
          ]
        }
      ],
      "source": [
        "divider(numerator = 5, denominator = 10)"
      ],
      "id": "318f96f7-be7c-4727-aa43-22e019621dd5"
    },
    {
      "cell_type": "markdown",
      "metadata": {},
      "source": [
        "is equivalent to"
      ],
      "id": "6e3bfb07-c4ec-4c66-9a8a-df2fd43c8f89"
    },
    {
      "cell_type": "code",
      "execution_count": null,
      "metadata": {},
      "outputs": [
        {
          "output_type": "stream",
          "name": "stdout",
          "text": [
            "0.5"
          ]
        }
      ],
      "source": [
        "divider(denominator = 10, numerator = 5)"
      ],
      "id": "f0ba782d-638b-48dc-a3ba-5814bda72aa7"
    },
    {
      "cell_type": "markdown",
      "metadata": {},
      "source": [
        "## Keyword arguments\n",
        "\n",
        "When using keyword arguments, the ordering of the arguments does not\n",
        "matter."
      ],
      "id": "15c74d2e-7c55-4978-a49f-4d61b5059823"
    },
    {
      "cell_type": "code",
      "execution_count": null,
      "metadata": {},
      "outputs": [
        {
          "output_type": "stream",
          "name": "stdout",
          "text": [
            "The econ department phone number is:"
          ]
        },
        {
          "output_type": "stream",
          "name": "stdout",
          "text": [
            "608-263-2989"
          ]
        }
      ],
      "source": [
        "# print() has a keyword argument 'sep' that sets the separating character.\n",
        "print('The econ department phone number is:') "
      ],
      "id": "c7b7724b-58b7-4979-84da-71752545b635"
    },
    {
      "cell_type": "markdown",
      "metadata": {},
      "source": [
        "-   In the last line, the print function took 3 positional arguments and\n",
        "    one keyword argument. We can set the `sep` argument to be any\n",
        "    character.\n",
        "-   If you wanted each argument printed on one line, you would set it to\n",
        "    `\\n`.\n",
        "\n",
        "## Keyword arguments\n",
        "\n",
        "Worth noting is that Python prefers that positional arguments come\n",
        "before any keyword arguments."
      ],
      "id": "8a7ce166-a159-4f1b-87db-03dd9abf6886"
    },
    {
      "cell_type": "code",
      "execution_count": null,
      "metadata": {},
      "outputs": [
        {
          "output_type": "stream",
          "name": "stdout",
          "text": [
            "positional argument follows keyword argument (<string>, line 1)"
          ]
        }
      ],
      "source": [
        "print(divider(numerator = 5, 10))"
      ],
      "id": "9cb97542-6740-4691-90af-f1e447051b6c"
    },
    {
      "cell_type": "code",
      "execution_count": null,
      "metadata": {},
      "outputs": [
        {
          "output_type": "stream",
          "name": "stdout",
          "text": [
            "positional argument follows keyword argument (<string>, line 2)"
          ]
        }
      ],
      "source": [
        "print('The econ department phone number is:') \n",
        "print('608', '263',sep='-', '2989')"
      ],
      "id": "9f1ce441-b09c-47a1-a138-9b282e1e146d"
    },
    {
      "cell_type": "markdown",
      "metadata": {},
      "source": [
        "## Default arguments\n",
        "\n",
        "When writing a function, you may define default values for your\n",
        "arguments."
      ],
      "id": "538b13b2-6e87-4f50-90fa-0e66c9a36576"
    },
    {
      "cell_type": "code",
      "execution_count": null,
      "metadata": {},
      "outputs": [],
      "source": [
        "def weight_converter(weight, how='kgtolb'):\n",
        "    \"\"\"\n",
        "    Converts weights to different units. Currently supports pounds to kilograms\n",
        "    and kilograms to pounds.\n",
        "    \"\"\"\n",
        "    if how == 'kgtolb':\n",
        "        return weight*2.205\n",
        "    elif how == 'lbtokg':\n",
        "        return weight/2.205\n",
        "    else:\n",
        "        print('I do not know how to convert that.')"
      ],
      "id": "22ca6784-f485-4775-bd3d-b6722b915f0b"
    },
    {
      "cell_type": "code",
      "execution_count": null,
      "metadata": {},
      "outputs": [
        {
          "output_type": "stream",
          "name": "stdout",
          "text": [
            "2.205"
          ]
        }
      ],
      "source": [
        "# If I do not pass the `how` argument, I get kilos to lbs. \n",
        "weight_converter(1.0)"
      ],
      "id": "1262a3e4-84f7-491d-b276-8e646a06424b"
    },
    {
      "cell_type": "code",
      "execution_count": null,
      "metadata": {},
      "outputs": [
        {
          "output_type": "stream",
          "name": "stdout",
          "text": [
            "0.4535147392290249"
          ]
        }
      ],
      "source": [
        "weight_converter(1.0, how='lbtokg')"
      ],
      "id": "056ca0bb-6573-4445-81c4-eae14d8f6ecd"
    },
    {
      "cell_type": "markdown",
      "metadata": {},
      "source": [
        "# Practice\n",
        "\n",
        "## Question 1\n",
        "\n",
        "What is the default value of `sep` in the `print()` function? What does\n",
        "print’s `end` argument do?\n",
        "\n",
        "## Question 2\n",
        "\n",
        "Does the following code work?\n",
        "\n",
        "``` python\n",
        "print(sep='-', '608', '263', '2989')\n",
        "```\n",
        "\n",
        "What does this tell us about how we can mix positional and keyword\n",
        "arguments?\n",
        "\n",
        "## Question 3\n",
        "\n",
        "Write a function named `employee_summary` that takes three arguments: a\n",
        "dictionary of data, a name, and an argument called `extended`. Make the\n",
        "default value of `extended` be False. The other two arguments do not\n",
        "need default values.\n",
        "\n",
        "If the name is not in the dict, then the function should return a\n",
        "message stating so.\n",
        "\n",
        "If the name is in the dict and `extended==False`, then the function\n",
        "should print the employee’s name and department. Example: ‘Employee Kim\n",
        "is in economics.’\n",
        "\n",
        "If the name is in the dict and `extended==True`, then the function\n",
        "should print the employee’s name, position, and department. Example:\n",
        "‘Employee Kim is a prof in economics.’\n",
        "\n",
        "Notice that the first letter of the person’s name in the output has been\n",
        "capitalized.\n",
        "\n",
        "------------------------------------------------------------------------\n",
        "\n",
        "Here is the data dictionary:\n",
        "\n",
        "``` python\n",
        "data = {'kim':['prof', 'economics'], 'greg':['TA', 'economics'], \n",
        "        'bucky':['mascot', 'sports'], 'barry':['coach', 'the football team'], \n",
        "        'abe':['president', 'USA'], 'hector':['prof', 'biochemistry']}\n",
        "```"
      ],
      "id": "2fe218c9-535e-4bdf-b75d-6fb3e43b1478"
    },
    {
      "cell_type": "code",
      "execution_count": null,
      "metadata": {},
      "outputs": [],
      "source": [
        "# Question 3\n",
        "\n",
        "def employee_summary(data_dict, name, extended=False):\n",
        "    # Your code here\n",
        "    pass"
      ],
      "id": "59254931-d7ec-46b9-9213-bb0836c9c241"
    },
    {
      "cell_type": "markdown",
      "metadata": {},
      "source": [
        "## Question 4\n",
        "\n",
        "Test your function with:\n",
        "\n",
        "``` python\n",
        "employee_summary(data, 'greg', extended=True)\n",
        "employee_summary(data, 'goldy')\n",
        "employee_summary(data, 'barry', extended=False)\n",
        "```"
      ],
      "id": "d5171239-cb93-4bcc-87c6-571dcdb2345f"
    },
    {
      "cell_type": "code",
      "execution_count": null,
      "metadata": {},
      "outputs": [],
      "source": [
        "# Question 4\n",
        "\n",
        "data = {'kim':['prof', 'economics'], 'greg':['TA', 'economics'], \n",
        "        'bucky':['mascot', 'sports'], 'barry':['coach', 'the football team'], \n",
        "        'abe':['president', 'USA'], 'hector':['prof', 'biochemistry']}\n",
        "\n",
        "employee_summary(data, 'greg', extended=True)\n",
        "employee_summary(data, 'goldy')\n",
        "employee_summary(data, 'barry', extended=False)"
      ],
      "id": "17536027-e80e-4fbb-860f-fe9349d56b68"
    }
  ],
  "nbformat": 4,
  "nbformat_minor": 5,
  "metadata": {
    "kernelspec": {
      "display_name": "Python 3",
      "language": "python",
      "name": "python3"
    }
  }
}