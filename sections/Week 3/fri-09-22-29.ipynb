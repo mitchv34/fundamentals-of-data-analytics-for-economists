{
 "cells": [
  {
   "cell_type": "markdown",
   "id": "59282964-f576-4b6e-8637-25416e56f2c9",
   "metadata": {},
   "source": [
    "# Discussion Section \\# 3 : Functions\n",
    "\n",
    "Mitchell Valdes\n",
    "\n",
    "## Introduction\n",
    "\n",
    "**files needed** = None\n",
    "\n",
    "This week we are working on\n",
    "\n",
    "1.  Keyword and default arguments in functions\n",
    "2.  General Python practiced\n",
    "\n",
    "## More on functions\n",
    "\n",
    "-   Writing functions is an important part of programming. You write the\n",
    "    code once, debug it and test it, and then use it whenever you need\n",
    "    to.\n",
    "\n",
    "-   We will also see situations later where we can extend the use of a\n",
    "    pandas function by giving it functions of our own to apply to\n",
    "    DataFrames. \\[More on that in a few weeks.\\]\n",
    "\n",
    "-   Let’s dig a bit deeper into functions.\n",
    "\n",
    "## Argument types\n",
    "\n",
    "A function can take inputs, which are called *arguments* in python and\n",
    "produce outputs. In class, we covered positional arguments. *Positional\n",
    "arguments* have to be passed to the function in the correct order."
   ]
  },
  {
   "cell_type": "code",
   "execution_count": 1,
   "id": "b02b52e8-9c86-4585-a0bd-c27dd0284b53",
   "metadata": {},
   "outputs": [],
   "source": [
    "def divider(numerator, denominator):\n",
    "    \"\"\"\n",
    "    Divides numerator by denominator.  \n",
    "    \"\"\"\n",
    "    return numerator/denominator "
   ]
  },
  {
   "cell_type": "markdown",
   "id": "8927c284-919b-461f-a9bd-c5e64c311b61",
   "metadata": {},
   "source": [
    "Here numerator = 5 and denominator = 10"
   ]
  },
  {
   "cell_type": "code",
   "execution_count": 2,
   "id": "24585538-103c-47d1-bfca-acad2a12dec2",
   "metadata": {},
   "outputs": [
    {
     "data": {
      "text/plain": [
       "0.5"
      ]
     },
     "execution_count": 2,
     "metadata": {},
     "output_type": "execute_result"
    }
   ],
   "source": [
    "divider(5, 10)"
   ]
  },
  {
   "cell_type": "markdown",
   "id": "2bc49443-1816-447d-b348-67869977c0ee",
   "metadata": {},
   "source": [
    "## Keyword arguments\n",
    "\n",
    "A disadvantage of positional arguments is that you have to remember what\n",
    "order to pass the values to the function. For simple functions, this is\n",
    "not much to ask.\n",
    "\n",
    "We can also call a function using keyword arguments. *Keyword arguments*\n",
    "pass the name of the argument and the argument’s values.\n",
    "\n",
    "We can call the function divider using keyword arguments."
   ]
  },
  {
   "cell_type": "code",
   "execution_count": 3,
   "id": "318f96f7-be7c-4727-aa43-22e019621dd5",
   "metadata": {},
   "outputs": [
    {
     "data": {
      "text/plain": [
       "0.5"
      ]
     },
     "execution_count": 3,
     "metadata": {},
     "output_type": "execute_result"
    }
   ],
   "source": [
    "divider(numerator = 5, denominator = 10)"
   ]
  },
  {
   "cell_type": "markdown",
   "id": "6e3bfb07-c4ec-4c66-9a8a-df2fd43c8f89",
   "metadata": {},
   "source": [
    "is equivalent to"
   ]
  },
  {
   "cell_type": "code",
   "execution_count": 4,
   "id": "f0ba782d-638b-48dc-a3ba-5814bda72aa7",
   "metadata": {},
   "outputs": [
    {
     "data": {
      "text/plain": [
       "0.5"
      ]
     },
     "execution_count": 4,
     "metadata": {},
     "output_type": "execute_result"
    }
   ],
   "source": [
    "divider(denominator = 10, numerator = 5)"
   ]
  },
  {
   "cell_type": "markdown",
   "id": "15c74d2e-7c55-4978-a49f-4d61b5059823",
   "metadata": {},
   "source": [
    "## Keyword arguments\n",
    "\n",
    "When using keyword arguments, the ordering of the arguments does not\n",
    "matter."
   ]
  },
  {
   "cell_type": "code",
   "execution_count": 5,
   "id": "c7b7724b-58b7-4979-84da-71752545b635",
   "metadata": {},
   "outputs": [
    {
     "name": "stdout",
     "output_type": "stream",
     "text": [
      "The econ department phone number is:\n",
      "608!@#!@$%@^$%&$&263!@#!@$%@^$%&$&2989\n"
     ]
    }
   ],
   "source": [
    "# print() has a keyword argument 'sep' that sets the separating character.\n",
    "print('The econ department phone number is:') \n",
    "print(\"608\", \"263\", \"2989\", sep=\"!@#!@$%@^$%&$&\")"
   ]
  },
  {
   "cell_type": "markdown",
   "id": "8a7ce166-a159-4f1b-87db-03dd9abf6886",
   "metadata": {},
   "source": [
    "-   In the last line, the print function took 3 positional arguments and\n",
    "    one keyword argument. We can set the `sep` argument to be any\n",
    "    character.\n",
    "-   If you wanted each argument printed on one line, you would set it to\n",
    "    `\\n`.\n",
    "\n",
    "## Keyword arguments\n",
    "\n",
    "Worth noting is that Python prefers that positional arguments come\n",
    "before any keyword arguments."
   ]
  },
  {
   "cell_type": "code",
   "execution_count": 6,
   "id": "9cb97542-6740-4691-90af-f1e447051b6c",
   "metadata": {},
   "outputs": [
    {
     "ename": "TypeError",
     "evalue": "divider() got multiple values for argument 'numerator'",
     "output_type": "error",
     "traceback": [
      "\u001b[0;31m---------------------------------------------------------------------------\u001b[0m",
      "\u001b[0;31mTypeError\u001b[0m                                 Traceback (most recent call last)",
      "\u001b[1;32m/Users/mitchv34/Work/fundamentals-of-data-analytics-for-economists/sections/Week 3/fri-09-22-29.ipynb Cell 12\u001b[0m line \u001b[0;36m<cell line: 1>\u001b[0;34m()\u001b[0m\n\u001b[0;32m----> <a href='vscode-notebook-cell:/Users/mitchv34/Work/fundamentals-of-data-analytics-for-economists/sections/Week%203/fri-09-22-29.ipynb#X14sZmlsZQ%3D%3D?line=0'>1</a>\u001b[0m \u001b[39mprint\u001b[39m(divider(\u001b[39m5\u001b[39;49m, numerator \u001b[39m=\u001b[39;49m \u001b[39m10\u001b[39;49m))\n",
      "\u001b[0;31mTypeError\u001b[0m: divider() got multiple values for argument 'numerator'"
     ]
    }
   ],
   "source": [
    "print(divider(5, numerator = 10))"
   ]
  },
  {
   "cell_type": "code",
   "execution_count": 7,
   "id": "9f1ce441-b09c-47a1-a138-9b282e1e146d",
   "metadata": {},
   "outputs": [
    {
     "ename": "SyntaxError",
     "evalue": "positional argument follows keyword argument (587157504.py, line 2)",
     "output_type": "error",
     "traceback": [
      "\u001b[0;36m  Input \u001b[0;32mIn [7]\u001b[0;36m\u001b[0m\n\u001b[0;31m    print('608', '263',sep='-', '2989')\u001b[0m\n\u001b[0m                                      ^\u001b[0m\n\u001b[0;31mSyntaxError\u001b[0m\u001b[0;31m:\u001b[0m positional argument follows keyword argument\n"
     ]
    }
   ],
   "source": [
    "print('The econ department phone number is:') \n",
    "print('608', '263',sep='-', '2989')"
   ]
  },
  {
   "cell_type": "markdown",
   "id": "538b13b2-6e87-4f50-90fa-0e66c9a36576",
   "metadata": {},
   "source": [
    "## Default arguments\n",
    "\n",
    "When writing a function, you may define default values for your\n",
    "arguments."
   ]
  },
  {
   "cell_type": "code",
   "execution_count": 8,
   "id": "f553169a-3d29-4487-bf24-8a46f4a29923",
   "metadata": {},
   "outputs": [
    {
     "name": "stdout",
     "output_type": "stream",
     "text": [
      "Hello LeBron\n"
     ]
    }
   ],
   "source": [
    "def greeter(name = \"Mitchell\"):\n",
    "    print(f\"Hello {name}\")\n",
    "    \n",
    "greeter(\"LeBron\")"
   ]
  },
  {
   "cell_type": "code",
   "execution_count": 9,
   "id": "22ca6784-f485-4775-bd3d-b6722b915f0b",
   "metadata": {},
   "outputs": [],
   "source": [
    "def weight_converter(weight, how='kgtolb'):\n",
    "    \"\"\"\n",
    "    Converts weights to different units. Currently supports pounds to kilograms\n",
    "    and kilograms to pounds.\n",
    "    \"\"\"\n",
    "    if how == 'kgtolb':\n",
    "        return weight*2.205\n",
    "    elif how == 'lbtokg':\n",
    "        return weight/2.205\n",
    "    else:\n",
    "        print('I do not know how to convert that.')"
   ]
  },
  {
   "cell_type": "code",
   "execution_count": 10,
   "id": "1262a3e4-84f7-491d-b276-8e646a06424b",
   "metadata": {},
   "outputs": [
    {
     "data": {
      "text/plain": [
       "2.205"
      ]
     },
     "execution_count": 10,
     "metadata": {},
     "output_type": "execute_result"
    }
   ],
   "source": [
    "# If I do not pass the `how` argument, I get kilos to lbs. \n",
    "weight_converter(weight=1.0)"
   ]
  },
  {
   "cell_type": "code",
   "execution_count": 11,
   "id": "056ca0bb-6573-4445-81c4-eae14d8f6ecd",
   "metadata": {},
   "outputs": [
    {
     "data": {
      "text/plain": [
       "0.4535147392290249"
      ]
     },
     "execution_count": 11,
     "metadata": {},
     "output_type": "execute_result"
    }
   ],
   "source": [
    "weight_converter(1.0, how='lbtokg')"
   ]
  },
  {
   "cell_type": "markdown",
   "id": "30efdec0-861c-49a4-821c-b9907929ceab",
   "metadata": {},
   "source": [
    "# Practice\n",
    "\n",
    "## Question 1\n",
    "\n",
    "What is the default value of `sep` in the `print()` function? What does\n",
    "print’s `end` argument do?"
   ]
  },
  {
   "cell_type": "code",
   "execution_count": 12,
   "id": "25161275-f0cb-4017-a921-1b0ec0a9f94d",
   "metadata": {},
   "outputs": [
    {
     "name": "stdout",
     "output_type": "stream",
     "text": [
      "\u001b[0;31mDocstring:\u001b[0m\n",
      "print(value, ..., sep=' ', end='\\n', file=sys.stdout, flush=False)\n",
      "\n",
      "Prints the values to a stream, or to sys.stdout by default.\n",
      "Optional keyword arguments:\n",
      "file:  a file-like object (stream); defaults to the current sys.stdout.\n",
      "sep:   string inserted between values, default a space.\n",
      "end:   string appended after the last value, default a newline.\n",
      "flush: whether to forcibly flush the stream.\n",
      "\u001b[0;31mType:\u001b[0m      builtin_function_or_method\n"
     ]
    }
   ],
   "source": [
    "?print"
   ]
  },
  {
   "cell_type": "code",
   "execution_count": 13,
   "id": "d53652df-f19f-475b-9029-cdd88a92d55c",
   "metadata": {},
   "outputs": [
    {
     "name": "stdout",
     "output_type": "stream",
     "text": [
      "Hello World!-----Hello Back!\n"
     ]
    }
   ],
   "source": [
    "print(\"Hello\", \"World!\", end = \"-----\")\n",
    "print(\"Hello Back!\")"
   ]
  },
  {
   "cell_type": "markdown",
   "id": "5dfe72cc-ac42-4868-a67b-fc68fb0f233e",
   "metadata": {},
   "source": [
    "## Question 2\n",
    "\n",
    "Does the following code work?\n",
    "\n",
    "``` python\n",
    "print(sep='-', '608', '263', '2989')\n",
    "```\n",
    "\n",
    "What does this tell us about how we can mix positional and keyword\n",
    "arguments?"
   ]
  },
  {
   "cell_type": "code",
   "execution_count": 14,
   "id": "84aaaa67-c931-46f6-bec5-773528551501",
   "metadata": {},
   "outputs": [
    {
     "name": "stdout",
     "output_type": "stream",
     "text": [
      "608-263-2989\n"
     ]
    }
   ],
   "source": [
    "print('608', '263', '2989', sep='-')"
   ]
  },
  {
   "cell_type": "markdown",
   "id": "e34eb319-93be-4dd5-87bf-8daf2579b324",
   "metadata": {},
   "source": [
    "## Question 3\n",
    "\n",
    "Write a function named `employee_summary` that takes three arguments: a\n",
    "dictionary of data, a name, and an argument called `extended`. Make the\n",
    "default value of `extended` be False. The other two arguments do not\n",
    "need default values.\n",
    "\n",
    "If the name is not in the dict, then the function should return a\n",
    "message stating so.\n",
    "\n",
    "If the name is in the dict and `extended==False`, then the function\n",
    "should print the employee’s name and department. Example: ‘Employee Kim\n",
    "is in economics.’\n",
    "\n",
    "If the name is in the dict and `extended==True`, then the function\n",
    "should print the employee’s name, position, and department. Example:\n",
    "‘Employee Kim is a prof in economics.’\n",
    "\n",
    "Notice that the first letter of the person’s name in the output has been\n",
    "capitalized.\n",
    "\n",
    "------------------------------------------------------------------------\n",
    "\n",
    "Here is the data dictionary:\n",
    "\n",
    "``` python\n",
    "data = {'kim':['prof', 'economics'], 'greg':['TA', 'economics'], \n",
    "        'bucky':['mascot', 'sports'], 'barry':['coach', 'the football team'], \n",
    "        'abe':['president', 'USA'], 'hector':['prof', 'biochemistry']}\n",
    "```"
   ]
  },
  {
   "cell_type": "code",
   "execution_count": 15,
   "id": "59254931-d7ec-46b9-9213-bb0836c9c241",
   "metadata": {},
   "outputs": [],
   "source": [
    "# Question 3\n",
    "\n",
    "def employee_summary(data_dict, name, extended=False):\n",
    "    if name.lower() in data_dict.keys():\n",
    "        if extended:\n",
    "            dept = data_dict[name][1]\n",
    "            job = data_dict[name][0]\n",
    "            print(f\"{name.title()} is a {job} in {dept}\")\n",
    "        else:\n",
    "            dept = data_dict[name][1]\n",
    "            print(f\"{name.title()} is in {dept}\")\n",
    "    else:\n",
    "        print(f\"{name.title()} is not employed at UW.\")"
   ]
  },
  {
   "cell_type": "markdown",
   "id": "d5171239-cb93-4bcc-87c6-571dcdb2345f",
   "metadata": {},
   "source": [
    "## Question 4\n",
    "\n",
    "Test your function with:\n",
    "\n",
    "``` python\n",
    "employee_summary(data, 'greg', extended=True)\n",
    "employee_summary(data, 'goldy')\n",
    "employee_summary(data, 'barry', extended=False)\n",
    "```"
   ]
  },
  {
   "cell_type": "code",
   "execution_count": 16,
   "id": "17536027-e80e-4fbb-860f-fe9349d56b68",
   "metadata": {},
   "outputs": [
    {
     "name": "stdout",
     "output_type": "stream",
     "text": [
      "Greg is a TA in economics\n",
      "Goldy is not employed at UW.\n",
      "Barry is in the football team\n"
     ]
    }
   ],
   "source": [
    "# Question 4\n",
    "\n",
    "data = {'kim':['prof', 'economics'], 'greg':['TA', 'economics'], \n",
    "        'bucky':['mascot', 'sports'], 'barry':['coach', 'the football team'], \n",
    "        'abe':['president', 'USA'], 'hector':['prof', 'biochemistry']}\n",
    "\n",
    "employee_summary(data, 'greg', extended=True)\n",
    "employee_summary(data, 'goldy')\n",
    "employee_summary(data, 'barry', extended=False)"
   ]
  },
  {
   "cell_type": "code",
   "execution_count": 17,
   "id": "00383f88-bc33-4a9c-8dc8-b6c20c0286fc",
   "metadata": {},
   "outputs": [
    {
     "name": "stdout",
     "output_type": "stream",
     "text": [
      "Barry is in the football team\n"
     ]
    }
   ],
   "source": [
    "employee_summary(data, 'barry')"
   ]
  }
 ],
 "metadata": {
  "kernelspec": {
   "display_name": "Python 3 (ipykernel)",
   "language": "python",
   "name": "python3"
  },
  "language_info": {
   "codemirror_mode": {
    "name": "ipython",
    "version": 3
   },
   "file_extension": ".py",
   "mimetype": "text/x-python",
   "name": "python",
   "nbconvert_exporter": "python",
   "pygments_lexer": "ipython3",
   "version": "3.9.12"
  }
 },
 "nbformat": 4,
 "nbformat_minor": 5
}
