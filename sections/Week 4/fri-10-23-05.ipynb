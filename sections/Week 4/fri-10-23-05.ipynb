{
 "cells": [
  {
   "cell_type": "markdown",
   "metadata": {
    "slideshow": {
     "slide_type": "slide"
    }
   },
   "source": [
    "# Introduction\n",
    "\n",
    "files needed = `industrial_production.xlsx`\n",
    "\n",
    "This week we are working on\n",
    "\n",
    "1. Working with DataFrames\n",
    "2. Practice working with messy data\n",
    "3. Looking through documentation\n"
   ]
  },
  {
   "cell_type": "code",
   "execution_count": null,
   "metadata": {},
   "outputs": [],
   "source": [
    "import pandas as pd"
   ]
  },
  {
   "cell_type": "markdown",
   "metadata": {
    "slideshow": {
     "slide_type": "slide"
    }
   },
   "source": [
    "# Checking Documentation\n",
    "\n",
    "- How to find solutions to your problems when writing code. \n",
    "\n",
    "- First place to start is by looking at the documentation for the function or package itself. Most well-developed packages will have some sort of explanation of the function or object, and proper ways to use it. \n",
    "\n",
    "- Check the [pandas documentation here](https://pandas.pydata.org/docs/). \n",
    "\n",
    "- Try searching for something like \"dataframe\" or [\"melt\"](https://pandas.pydata.org/docs/reference/api/pandas.melt.html?highlight=melt#pandas.melt).\n",
    "\n",
    "- Python has [its own documentation](https://docs.python.org/3.7/library/).\n",
    "\n",
    "\n",
    "- You can also check the documentation in Jupyter notebooks by using the `?` operator.\n",
    "\n",
    "- For example, if you wanted to check the documentation for the `melt` function, you could type `?pd.melt` in a code cell and run it."
   ]
  },
  {
   "cell_type": "code",
   "execution_count": null,
   "metadata": {},
   "outputs": [],
   "source": [
    "?pd.melt"
   ]
  },
  {
   "cell_type": "markdown",
   "metadata": {},
   "source": [
    "What if we get stuck? Here's where some \"Google skills\" come in handy. If you're not familiar with Google's hidden search operators, [check them out here](https://support.google.com/websearch/answer/2466433?hl=en), and some others [here](http://www.googleguide.com/advanced_operators_reference.html).\n",
    "\n",
    "Try searching for terms related to the concepts you're struggling with- pandas functions, if/else statements, etc, rather than something specific to the problem you're trying to solve. A more general search will give you a higher probability of finding what you want. StackExchange has a number of answers that are well-organized for problems often encountered by everyone from beginners to experts.\n",
    "\n",
    "When you find your answer, be sure to cite it, preferably with a link in your code, or alternatively, in a text file for your safekeeping."
   ]
  },
  {
   "cell_type": "markdown",
   "metadata": {},
   "source": [
    "## 1. Inspecting DataFrames\n",
    "\n",
    "Describing and learning about a DataFrame is typically the first thing you do after defining it. We might want to know:\n",
    "\n",
    "1. How big is this DataFrame?\n",
    "2. What are the column or row names?\n",
    "3. What are the data types? Are they the types we expected? \n",
    "4. How do we peek at small parts of the DataFrame?\n",
    "\n",
    "Once we think our DataFrame is set up correctly, we can move on to the analysis."
   ]
  },
  {
   "cell_type": "markdown",
   "metadata": {},
   "source": [
    "### Loading and setting up your DataFrame\n",
    "\n",
    "1. Load the file `industrial_production.xlsx` into a DataFrame. We want the sheet 'Quarterly'. \n",
    "2. Print out the first 4 rows and the last 4 rows of the DataFrame.\n",
    "2. Set the index to 'DATE'.\n",
    "3. Those variable names are terrible. Check out the 'README' tab in the excel workbook for the definitions. Rename the columns with sensible names.  "
   ]
  },
  {
   "cell_type": "code",
   "execution_count": null,
   "metadata": {},
   "outputs": [],
   "source": [
    "# 1. Load the dataframe.\n",
    "# 2. First four rows.\n",
    "ind = pd.read_excel('industrial_production.xlsx', sheet_name='Quarterly')\n",
    "ind.head(4)"
   ]
  },
  {
   "cell_type": "code",
   "execution_count": null,
   "metadata": {},
   "outputs": [],
   "source": [
    "# 3. Set the index to 'DATE'.\n",
    "\n",
    "ind = ind.set_index('DATE')\n",
    "\n",
    "ind.head(6)"
   ]
  },
  {
   "cell_type": "markdown",
   "metadata": {},
   "source": [
    "### Changing column names\n",
    "\n",
    "We need to change nine column names. This is a bit tedious, but at least we only have to do this once. Once written, we can reuse the code anytime we deal with this file. Below are three different ways to do it. "
   ]
  },
  {
   "cell_type": "code",
   "execution_count": null,
   "metadata": {},
   "outputs": [],
   "source": [
    "# 4. Change the column names (method 1). \n",
    "\n",
    "# This is the slick way. \n",
    "# Grab the column names from the index. \n",
    "# Make a list of the new column names.\n",
    "# Zip them together (check the documentation for zip) and then create a dict. \n",
    "# The columns have to be in the correct order with respect to new_names.\n",
    "\n",
    "old_names = ind.columns.to_list()\n",
    "new_names = ['consumer', 'consumer durables', 'crude oil', 'mining', 'elec and gas', 'cars', 'manuf', 'ice cream', 'steel']\n",
    "names = dict(zip(old_names, new_names))\n",
    "ind = ind.rename(columns=names)\n",
    "\n",
    "ind.head(2)\n"
   ]
  },
  {
   "cell_type": "markdown",
   "metadata": {},
   "source": [
    "Change the column names (method 2). \n",
    "\n",
    "If you know for sure that that the columns are in the correct order, you can also do this. In method 1, you can look at `names` and make sure the new and old names line up before changing the columns names. \n",
    "\n",
    "```python\n",
    "new_names = ['consumer', 'consumer durables', 'crude oil', 'mining', 'elec and gas', 'cars', 'manuf', 'ice cream', 'steel']\n",
    "ind.columns = new_names\n",
    "```"
   ]
  },
  {
   "cell_type": "markdown",
   "metadata": {},
   "source": [
    "Change the column names (method 3).\n",
    "\n",
    "The most tedious, but robust way. No matter what order the columns are in, this will replace the names properly. \n",
    "```python\n",
    "names = {'IPB51000SQ':'consumer',             'IPB51100SQ':'consumer durables', 'IPG211111CSQ':'crude oil','IPG21SQ':'mining', 'IPG2211A2SQ':'elec and gas', 'IPG3361T3SQ':'cars', 'IPGMFSQ':'manuf', 'IPN31152NQ':'ice cream', 'IPN3311A2RNQ':'steel'}\n",
    "ind = ind.rename(columns=names)\n",
    "```"
   ]
  },
  {
   "cell_type": "markdown",
   "metadata": {},
   "source": [
    "### DataFrame attributes\n",
    "Any object, including DataFrame, has attributes. We access attributes using the `.` operator. \n",
    "\n",
    "\n",
    "5. Try `dtypes`. What does it tell you?\n",
    "6. Try `shape`. What is the return type? What does it tell you?\n",
    "7. Try `columns`. What is the return type? What does it tell you?\n",
    "8. Try `index`. What is the return type? What does it tell you?\n"
   ]
  },
  {
   "cell_type": "code",
   "execution_count": null,
   "metadata": {},
   "outputs": [],
   "source": [
    "# 5. dtypes\n",
    "\n",
    "# Each column is made up of floats. (float64 is the same as float)\n",
    "ind.dtypes"
   ]
  },
  {
   "cell_type": "code",
   "execution_count": null,
   "metadata": {},
   "outputs": [],
   "source": [
    "# 6. shape\n",
    "\n",
    "# This gives us the number of rows and columns in a tuple.\n",
    "ind.shape"
   ]
  },
  {
   "cell_type": "code",
   "execution_count": null,
   "metadata": {},
   "outputs": [],
   "source": [
    "#7. (column) index \n",
    "\n",
    "# An index object. The column names. \n",
    "ind.columns"
   ]
  },
  {
   "cell_type": "code",
   "execution_count": null,
   "metadata": {},
   "outputs": [],
   "source": [
    "# 8. (row) index \n",
    "\n",
    "# Another index object. A different type (a DatetimeIndex, to hold dates). \n",
    "ind.index"
   ]
  },
  {
   "cell_type": "markdown",
   "metadata": {},
   "source": [
    "### DataFrame methods\n",
    "Objects also have methods. The following are methods of DataFrame. They also use the `.` to access, but are like functions. \n",
    "\n",
    "9. Try `sample(5)`. What does it tell you?\n",
    "10. Try `describe()`. What does it tell you?"
   ]
  },
  {
   "cell_type": "code",
   "execution_count": null,
   "metadata": {},
   "outputs": [],
   "source": [
    "# 9. sample()\n",
    "\n",
    "# A random sample of rows.\n",
    "ind.sample(5)"
   ]
  },
  {
   "cell_type": "code",
   "execution_count": null,
   "metadata": {},
   "outputs": [],
   "source": [
    "# 10. describe()\n",
    "\n",
    "# Summary statistics. If a column is not made up of numbers, it will not appear here. \n",
    "ind.describe()"
   ]
  },
  {
   "cell_type": "markdown",
   "metadata": {},
   "source": [
    "## 2. Working with messy data: Pisa Scores\n",
    "\n",
    "The [pisa](https://www.oecd.org/pisa/) test is a test given to 15-year olds around the world. It evaluates reading, math, and science skills. \n",
    "\n",
    "1. In a web browser, go to [dx.doi.org/10.1787/888932937035](http://dx.doi.org/10.1787/888932937035) This should initiate a download of an excel file with pisa scores across countries. Open the workbook up and take a look. This is a bit of a mess.\n",
    "\n",
    "The issue here is that the workbook was formatted for humans to read. Since it is not a neat rectangular block of data, we will need to 'wrangle' it into shape. This is a common task in the real world, so let's practice some more.  "
   ]
  },
  {
   "cell_type": "code",
   "execution_count": null,
   "metadata": {},
   "outputs": [],
   "source": [
    "# 2. Reading from the internet.\n",
    "\n",
    "url = 'http://dx.doi.org/10.1787/888932937035'\n",
    "pisa = pd.read_excel(url,\n",
    "                     skiprows=18,             # skip the first 18 rows\n",
    "                     skipfooter=7,            # skip the last 7\n",
    "                     usecols=[0,1,9,13],      # select columns of interest\n",
    "                     )\n",
    "\n",
    "# Rather than use the 'usecols' argument, you could have loaded all the columns and dropped the ones you do not want.\n",
    "# Notice that the first row is a bunch of text. That will cause some problems later...\n",
    "\n",
    "pisa.head()"
   ]
  },
  {
   "cell_type": "markdown",
   "metadata": {},
   "source": [
    "3. Look up `dropna()` in the pandas documentation.  \n",
    "    1. Clean up your DataFrame. Drop any rows that have *at least one* `NaN`. Save the result into a new DataFrame named `pisa2`.\n",
    "\n",
    "   How many rows are in `pisa2`? "
   ]
  },
  {
   "cell_type": "code",
   "execution_count": null,
   "metadata": {},
   "outputs": [],
   "source": [
    "# 3. Drop NaNs.\n"
   ]
  },
  {
   "cell_type": "markdown",
   "metadata": {},
   "source": [
    "4. Using `pisa2`, make the country names the index.\n"
   ]
  },
  {
   "cell_type": "code",
   "execution_count": null,
   "metadata": {},
   "outputs": [],
   "source": [
    "# 4. Set the index.\n"
   ]
  },
  {
   "cell_type": "markdown",
   "metadata": {},
   "source": [
    "5. Using `pisa2`, print out the ratios of the United States pisa scores (math, reading, science) relative to the OECD average."
   ]
  },
  {
   "cell_type": "code",
   "execution_count": null,
   "metadata": {},
   "outputs": [],
   "source": [
    "# 5. US relative to the average. \n",
    "# The US is pretty average..."
   ]
  },
  {
   "cell_type": "markdown",
   "metadata": {},
   "source": [
    "6. **Challenging.** Use `pisa2`. How correlated are the math, reading, and science scores with each other?  Write the correlation matrix to a file called 'pisa_corrs.xlsx'.\n",
    "\n",
    "    This is a challenging question because, depending on how you read in the data, your columns are probably of type 'Object' (strings, basically) and `.corr()` won't work. Take a look at the first row of `pisa` to see why the data are stored as strings. Google around and see if you can convert the three columns to numbers. Then find the correlations. "
   ]
  },
  {
   "cell_type": "code",
   "execution_count": null,
   "metadata": {},
   "outputs": [],
   "source": [
    "# 6. Convert types/compute correlations\n",
    "# Strings! \n"
   ]
  },
  {
   "cell_type": "code",
   "execution_count": null,
   "metadata": {},
   "outputs": [],
   "source": [
    "# New column names\n",
    "pisa2.columns = ['math', 'read', 'sci']  \n",
    "\n",
    "# There are several ways to convert strings to numeric values. This is one of them.\n"
   ]
  },
  {
   "cell_type": "code",
   "execution_count": null,
   "metadata": {},
   "outputs": [],
   "source": [
    "# Now we are in good shape. What does .corr() do?\n",
    "# What is the return type of .corr()?\n",
    "\n",
    "pisa_corrs = \n",
    "print(pisa_corrs)\n",
    "print(type(pisa_corrs))\n",
    "\n",
    "# Now save the DataFrame of results to a file. \n"
   ]
  }
 ],
 "metadata": {
  "kernelspec": {
   "display_name": "Python 3",
   "language": "python",
   "name": "python3"
  },
  "language_info": {
   "codemirror_mode": {
    "name": "ipython",
    "version": 3
   },
   "file_extension": ".py",
   "mimetype": "text/x-python",
   "name": "python",
   "nbconvert_exporter": "python",
   "pygments_lexer": "ipython3",
   "version": "3.9.12"
  }
 },
 "nbformat": 4,
 "nbformat_minor": 2
}
