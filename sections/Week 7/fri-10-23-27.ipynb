{
 "cells": [
  {
   "cell_type": "markdown",
   "metadata": {
    "slideshow": {
     "slide_type": "slide"
    },
    "tags": []
   },
   "source": [
    "## Introduction \n",
    "\n",
    "files needed = None\n",
    "\n",
    "This week we are working on\n",
    "\n",
    "1. Bar charts\n",
    "3. Exam 1 feedback"
   ]
  },
  {
   "cell_type": "code",
   "execution_count": 1,
   "metadata": {
    "slideshow": {
     "slide_type": "slide"
    }
   },
   "outputs": [],
   "source": [
    "import pandas as pd     \n",
    "import matplotlib.pyplot as plt   \n",
    "\n",
    "%matplotlib inline      "
   ]
  },
  {
   "cell_type": "markdown",
   "metadata": {
    "slideshow": {
     "slide_type": "slide"
    }
   },
   "source": [
    "## Bar charts\n",
    "Bar charts are useful for describing relatively few observations of categorical data &mdash; meaning that one of the axes is not quantitative. [Tufte](https://www.edwardtufte.com/tufte) would complain that they have a lot of redundant ink, but they are quite popular...and Tufte is not our dictator. It's always good, however, to think about what our figures are doing for us.   \n",
    "\n",
    "Bar charts are much better than pie charts for displaying the relative size of data. There are discussions of this all over the net (here is [one](http://www.storytellingwithdata.com/blog/2011/07/death-to-pie-charts) I like) but the anti-pie-chart argument boils down to: Pie charts are hard to read.   \n",
    "\n",
    "1. Humans are bad at judging the relative sizes of 2D spaces. They cannot tell if one slice is 10% larger than another slice.\n",
    "2. The MS-Excel style of coloring the slice different colors creates problems. Humans judge darker colors to have larger areas. \n",
    "2. To get quantitative traction, people label the slices with the data values. In this case, a table of numbers is probably a better way to share the data."
   ]
  },
  {
   "cell_type": "code",
   "execution_count": 2,
   "metadata": {
    "slideshow": {
     "slide_type": "slide"
    }
   },
   "outputs": [
    {
     "data": {
      "text/html": [
       "<div>\n",
       "<style scoped>\n",
       "    .dataframe tbody tr th:only-of-type {\n",
       "        vertical-align: middle;\n",
       "    }\n",
       "\n",
       "    .dataframe tbody tr th {\n",
       "        vertical-align: top;\n",
       "    }\n",
       "\n",
       "    .dataframe thead th {\n",
       "        text-align: right;\n",
       "    }\n",
       "</style>\n",
       "<table border=\"1\" class=\"dataframe\">\n",
       "  <thead>\n",
       "    <tr style=\"text-align: right;\">\n",
       "      <th></th>\n",
       "      <th>gdppc</th>\n",
       "      <th>country</th>\n",
       "    </tr>\n",
       "  </thead>\n",
       "  <tbody>\n",
       "    <tr>\n",
       "      <th>USA</th>\n",
       "      <td>53.1</td>\n",
       "      <td>United States</td>\n",
       "    </tr>\n",
       "    <tr>\n",
       "      <th>FRA</th>\n",
       "      <td>36.9</td>\n",
       "      <td>France</td>\n",
       "    </tr>\n",
       "    <tr>\n",
       "      <th>JPN</th>\n",
       "      <td>36.3</td>\n",
       "      <td>Japan</td>\n",
       "    </tr>\n",
       "    <tr>\n",
       "      <th>CHN</th>\n",
       "      <td>11.9</td>\n",
       "      <td>China</td>\n",
       "    </tr>\n",
       "    <tr>\n",
       "      <th>IND</th>\n",
       "      <td>5.4</td>\n",
       "      <td>India</td>\n",
       "    </tr>\n",
       "    <tr>\n",
       "      <th>BRA</th>\n",
       "      <td>15.0</td>\n",
       "      <td>Brazil</td>\n",
       "    </tr>\n",
       "    <tr>\n",
       "      <th>MEX</th>\n",
       "      <td>16.5</td>\n",
       "      <td>Mexico</td>\n",
       "    </tr>\n",
       "  </tbody>\n",
       "</table>\n",
       "</div>"
      ],
      "text/plain": [
       "     gdppc        country\n",
       "USA   53.1  United States\n",
       "FRA   36.9         France\n",
       "JPN   36.3          Japan\n",
       "CHN   11.9          China\n",
       "IND    5.4          India\n",
       "BRA   15.0         Brazil\n",
       "MEX   16.5         Mexico"
      ]
     },
     "execution_count": 2,
     "metadata": {},
     "output_type": "execute_result"
    }
   ],
   "source": [
    "# PPP GDP data from the penn world tables. The units are thousands of USD. \n",
    "\n",
    "code    = ['USA', 'FRA', 'JPN', 'CHN', 'IND', 'BRA', 'MEX']\n",
    "country = ['United States', 'France', 'Japan', 'China', 'India', 'Brazil', 'Mexico']\n",
    "gdppc   = [53.1, 36.9, 36.3, 11.9, 5.4, 15.0, 16.5]\n",
    "\n",
    "gdp = pd.DataFrame({'gdppc': gdppc, 'country': country}, index=code)\n",
    "gdp"
   ]
  },
  {
   "cell_type": "markdown",
   "metadata": {
    "slideshow": {
     "slide_type": "slide"
    }
   },
   "source": [
    "The `ax.bar()` method ([docs](https://matplotlib.org/3.2.1/api/_as_gen/matplotlib.pyplot.bar.html)) takes two pieces of data: A numerical value and a label. In our example, the numerical values are the gdp per capita measures and the labels are the country names or country codes. The simplest syntax is:\n",
    "\n",
    "```python\n",
    "ax.bar(labels, values)\n",
    "```\n",
    "\n",
    "but we can specify options like edge and face color, bar width, alpha, etc. As usual, see the documentation for more details and options.  \n",
    "\n",
    "Let's plot gdp per capita and the country codes."
   ]
  },
  {
   "cell_type": "code",
   "execution_count": 12,
   "metadata": {
    "slideshow": {
     "slide_type": "slide"
    }
   },
   "outputs": [
    {
     "data": {
      "image/png": "[encoded data removed]",
      "text/plain": [
       "<Figure size 720x360 with 1 Axes>"
      ]
     },
     "metadata": {
      "needs_background": "light"
     },
     "output_type": "display_data"
    }
   ],
   "source": [
    "fig, ax = plt.subplots(figsize=(10,5))\n",
    "\n",
    "ax.bar(gdp.index, gdp['gdppc'], color='salmon', alpha=1.0)     \n",
    "\n",
    "ax.spines['top'].set_visible(False)\n",
    "ax.spines['right'].set_visible(False)\n",
    "\n",
    "ax.set_ylabel('PPP GDP per capita (thousands of USD)')\n",
    "# ax.set_title('Income per person (at purchasing power parity)')\n",
    "\n",
    "plt.show()"
   ]
  },
  {
   "cell_type": "markdown",
   "metadata": {
    "slideshow": {
     "slide_type": "slide"
    }
   },
   "source": [
    "This chart makes it easy to compare the levels of income per capita: India has about half the income of China; Brazil is about the same as Mexico,...\n",
    "\n",
    "* I used a light color in the figure. There is a lot of ink here, and using blue or red really makes for a loud figure. Change the color to red and re-run the code above. What do you think? You could use alpha to soften a red or blue, also. [Here](https://matplotlib.org/3.1.0/gallery/color/named_colors.html) is a list of the named colors in matplotlib. Experiment!\n",
    "\n",
    "* The x-axis data (the *labels*) are not quantitative. We could have used the country names instead of the codes and the message communicated by the figure would not have changed. \n",
    "\n",
    "* Since the labels are not quantitative, we are free to order the bars as we choose. We should choose something meaningful. Right now, the ordering is random. We could order alphabetically. Let's try ordering them poorest to richest.  We will use the `.sort_values()` method.\n"
   ]
  },
  {
   "cell_type": "code",
   "execution_count": 14,
   "metadata": {
    "slideshow": {
     "slide_type": "slide"
    }
   },
   "outputs": [
    {
     "data": {
      "text/html": [
       "<div>\n",
       "<style scoped>\n",
       "    .dataframe tbody tr th:only-of-type {\n",
       "        vertical-align: middle;\n",
       "    }\n",
       "\n",
       "    .dataframe tbody tr th {\n",
       "        vertical-align: top;\n",
       "    }\n",
       "\n",
       "    .dataframe thead th {\n",
       "        text-align: right;\n",
       "    }\n",
       "</style>\n",
       "<table border=\"1\" class=\"dataframe\">\n",
       "  <thead>\n",
       "    <tr style=\"text-align: right;\">\n",
       "      <th></th>\n",
       "      <th>gdppc</th>\n",
       "      <th>country</th>\n",
       "    </tr>\n",
       "  </thead>\n",
       "  <tbody>\n",
       "    <tr>\n",
       "      <th>USA</th>\n",
       "      <td>53.1</td>\n",
       "      <td>United States</td>\n",
       "    </tr>\n",
       "    <tr>\n",
       "      <th>FRA</th>\n",
       "      <td>36.9</td>\n",
       "      <td>France</td>\n",
       "    </tr>\n",
       "    <tr>\n",
       "      <th>JPN</th>\n",
       "      <td>36.3</td>\n",
       "      <td>Japan</td>\n",
       "    </tr>\n",
       "    <tr>\n",
       "      <th>MEX</th>\n",
       "      <td>16.5</td>\n",
       "      <td>Mexico</td>\n",
       "    </tr>\n",
       "    <tr>\n",
       "      <th>BRA</th>\n",
       "      <td>15.0</td>\n",
       "      <td>Brazil</td>\n",
       "    </tr>\n",
       "    <tr>\n",
       "      <th>CHN</th>\n",
       "      <td>11.9</td>\n",
       "      <td>China</td>\n",
       "    </tr>\n",
       "    <tr>\n",
       "      <th>IND</th>\n",
       "      <td>5.4</td>\n",
       "      <td>India</td>\n",
       "    </tr>\n",
       "  </tbody>\n",
       "</table>\n",
       "</div>"
      ],
      "text/plain": [
       "     gdppc        country\n",
       "USA   53.1  United States\n",
       "FRA   36.9         France\n",
       "JPN   36.3          Japan\n",
       "MEX   16.5         Mexico\n",
       "BRA   15.0         Brazil\n",
       "CHN   11.9          China\n",
       "IND    5.4          India"
      ]
     },
     "execution_count": 14,
     "metadata": {},
     "output_type": "execute_result"
    }
   ],
   "source": [
    "# Reminder: sort_values() sorts the DataFrame according to the values in a column. \n",
    "gdp.sort_values('gdppc', ascending=False)"
   ]
  },
  {
   "cell_type": "code",
   "execution_count": 17,
   "metadata": {
    "slideshow": {
     "slide_type": "slide"
    }
   },
   "outputs": [
    {
     "data": {
      "image/png": "[encoded data removed]",
      "text/plain": [
       "<Figure size 720x360 with 1 Axes>"
      ]
     },
     "metadata": {
      "needs_background": "light"
     },
     "output_type": "display_data"
    }
   ],
   "source": [
    "fig, ax = plt.subplots(figsize=(10,5))\n",
    "\n",
    "ax.bar(gdp.sort_values('gdppc', ascending=False).index,\n",
    "       gdp.sort_values('gdppc', ascending=False)['gdppc'], \n",
    "       color='silver', alpha=1.0)      \n",
    "ax.grid(axis='y', color='white')\n",
    "\n",
    "ax.spines['top'].set_visible(False)\n",
    "ax.spines['right'].set_visible(False)\n",
    "\n",
    "ax.set_title('Income per person (at purchasing power parity)')\n",
    "ax.set_ylabel('PPP GDP per capita (thousands of USD)')\n",
    "\n",
    "plt.show()"
   ]
  },
  {
   "cell_type": "markdown",
   "metadata": {
    "slideshow": {
     "slide_type": "slide"
    }
   },
   "source": [
    "Notice the use of `grid()` to specify grid lines on the y axis. I made them white, so they only show up in the bars. This is an alternative to, say, black grid lines. Grid lines are only informative where they cross the bars. Grid lines in the blank spaces are just extra ink. \n",
    "\n",
    "Take a look at the two examples below. Which conveys the most information with the least amount of ink?"
   ]
  },
  {
   "cell_type": "code",
   "execution_count": 21,
   "metadata": {
    "slideshow": {
     "slide_type": "slide"
    },
    "tags": []
   },
   "outputs": [
    {
     "data": {
      "image/png": "[encoded data removed]",
      "text/plain": [
       "<Figure size 1008x360 with 2 Axes>"
      ]
     },
     "metadata": {
      "needs_background": "light"
     },
     "output_type": "display_data"
    }
   ],
   "source": [
    "fig, axs = plt.subplots(1, 2, figsize=(14,5))\n",
    "\n",
    "for ax in axs:\n",
    "    ax.bar(gdp.sort_values('gdppc').index, gdp.sort_values('gdppc')['gdppc'], \n",
    "           color='silver', alpha=1.0)         \n",
    "    ax.spines['top'].set_visible(False)\n",
    "    ax.spines['right'].set_visible(False)\n",
    "\n",
    "    ax.set_title('Income per person (at purchasing power parity)')\n",
    "    ax.set_ylabel('PPP GDP per capita (thousands of USD)')\n",
    "\n",
    "    \n",
    "axs[0].grid(axis='y', color='white')\n",
    "axs[1].grid(axis='y', color='black')\n",
    "\n",
    "plt.show()"
   ]
  },
  {
   "cell_type": "markdown",
   "metadata": {
    "slideshow": {
     "slide_type": "slide"
    }
   },
   "source": [
    "## Practice: Bar charts\n",
    "\n",
    "Maybe you prefer a horizontal bar chart. Same data, same approach. We just need to swap all the y labels for x labels. \n",
    "\n",
    "1. Create a horizontal bar chart of the gdp data we used above. Check the documentation for `.barh()`\n",
    "2. Fix up your figure labels, etc. "
   ]
  },
  {
   "cell_type": "code",
   "execution_count": 38,
   "metadata": {
    "slideshow": {
     "slide_type": "slide"
    }
   },
   "outputs": [
    {
     "data": {
      "image/png": "[encoded data removed]",
      "text/plain": [
       "<Figure size 720x360 with 1 Axes>"
      ]
     },
     "metadata": {
      "needs_background": "light"
     },
     "output_type": "display_data"
    }
   ],
   "source": [
    "fig, ax = plt.subplots(figsize=(10,5))\n",
    "\n",
    "# horizontal bar chart\n",
    "\n",
    "ax.barh(gdp.sort_values('gdppc', ascending=False)[\"country\"],\n",
    "       gdp.sort_values('gdppc', ascending=False)['gdppc'], \n",
    "       color='silver', alpha=1.0)      \n",
    "ax.grid(axis='x', color='white')\n",
    "\n",
    "ax.spines['top'].set_visible(False)\n",
    "ax.spines['right'].set_visible(False)\n",
    "\n",
    "ax.set_title('Income per person (at purchasing power parity)')\n",
    "ax.set_xlabel('PPP GDP per capita (thousands of USD)')\n",
    "\n",
    "ax.set_xlim(35.5,37)\n",
    "\n",
    "plt.show()"
   ]
  },
  {
   "cell_type": "markdown",
   "metadata": {
    "slideshow": {
     "slide_type": "slide"
    }
   },
   "source": [
    "3. Create a new horizontal bar chart where each bar is gdp per capita relative to the United States. So USA =1, MEX = 0.31, etc.  "
   ]
  },
  {
   "cell_type": "code",
   "execution_count": 30,
   "metadata": {
    "scrolled": true,
    "slideshow": {
     "slide_type": "slide"
    }
   },
   "outputs": [
    {
     "data": {
      "image/png": "[encoded data removed]",
      "text/plain": [
       "<Figure size 720x360 with 1 Axes>"
      ]
     },
     "metadata": {
      "needs_background": "light"
     },
     "output_type": "display_data"
    }
   ],
   "source": [
    "# Divide all country gdppc by the US gdppc\n",
    "\n",
    "gdp[\"gdppc_relative\"] =  gdp[\"gdppc\"] / gdp.loc[\"MEX\", \"gdppc\"]\n",
    "\n",
    "# Now plot\n",
    "fig, ax = plt.subplots(figsize=(10,5))\n",
    "\n",
    "\n",
    "ax.barh(gdp.sort_values('gdppc', ascending=False)[\"country\"],\n",
    "       gdp.sort_values('gdppc', ascending=False)['gdppc_relative'], \n",
    "       color='silver', alpha=1.0)      \n",
    "ax.grid(axis='x', color='white')\n",
    "\n",
    "ax.spines['top'].set_visible(False)\n",
    "ax.spines['right'].set_visible(False)\n",
    "\n",
    "ax.set_title('Income per person (at purchasing power parity)')\n",
    "ax.set_xlabel('PPP GDP per capita (thousands of USD)')\n",
    "\n",
    "\n",
    "\n",
    "plt.show()"
   ]
  },
  {
   "cell_type": "markdown",
   "metadata": {
    "slideshow": {
     "slide_type": "slide"
    }
   },
   "source": [
    "We have done this kind of thing before. By dividing through by U.S. gdppc, we are changing the **unit of measurement.** In our previous figures, the units were thousands of U.S. dollars. Now, the units are 'size relative to the United States'.  When we do this, we are *normalizing* the variable. This makes it even easier to see how other countries compare to the United States, which has the highest income in the group.\n",
    "\n",
    "Note that we could have normalized by any country's gdppc. If we were doing a project about Mexico, it would make sense to normalize by Mexican gdppc so that we can see how other countries compare to Mexico."
   ]
  }
 ],
 "metadata": {
  "celltoolbar": "Slideshow",
  "kernelspec": {
   "display_name": "Python 3 (ipykernel)",
   "language": "python",
   "name": "python3"
  },
  "language_info": {
   "codemirror_mode": {
    "name": "ipython",
    "version": 3
   },
   "file_extension": ".py",
   "mimetype": "text/x-python",
   "name": "python",
   "nbconvert_exporter": "python",
   "pygments_lexer": "ipython3",
   "version": "3.9.12"
  }
 },
 "nbformat": 4,
 "nbformat_minor": 4
}
